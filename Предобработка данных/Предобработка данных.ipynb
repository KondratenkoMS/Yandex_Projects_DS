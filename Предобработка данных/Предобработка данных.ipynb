{
 "cells": [
  {
   "cell_type": "markdown",
   "metadata": {},
   "source": [
    "## Исследование надёжности заёмщиков\n",
    "\n",
    "Заказчик — кредитный отдел банка. Нужно разобраться, влияет ли семейное положение и количество детей клиента на факт погашения кредита в срок. Входные данные от банка — статистика о платёжеспособности клиентов.\n",
    "\n",
    "Результаты исследования будут учтены при построении модели **кредитного скоринга** — специальной системы, которая оценивает способность потенциального заёмщика вернуть кредит банку."
   ]
  },
  {
   "cell_type": "markdown",
   "metadata": {},
   "source": [
    "Банк (иная финансовая организация) вводит в программу статистические данные — возраст, социальное положение, место проживания, требования к состоянию кредитной истории, трудовая занятость, размер постоянного дохода, семейное положение, и прочие.\n",
    "\n",
    "Application-scoring (дословный перевод с английского - «скоринг заявки, обращения») - система оценки кредитоспособности заемщиков для получения кредита."
   ]
  },
  {
   "cell_type": "markdown",
   "metadata": {},
   "source": [
    "### Шаг 1. Откройте файл с данными и изучите общую информацию. "
   ]
  },
  {
   "cell_type": "code",
   "execution_count": 1,
   "metadata": {},
   "outputs": [
    {
     "data": {
      "text/html": [
       "<div>\n",
       "<style scoped>\n",
       "    .dataframe tbody tr th:only-of-type {\n",
       "        vertical-align: middle;\n",
       "    }\n",
       "\n",
       "    .dataframe tbody tr th {\n",
       "        vertical-align: top;\n",
       "    }\n",
       "\n",
       "    .dataframe thead th {\n",
       "        text-align: right;\n",
       "    }\n",
       "</style>\n",
       "<table border=\"1\" class=\"dataframe\">\n",
       "  <thead>\n",
       "    <tr style=\"text-align: right;\">\n",
       "      <th></th>\n",
       "      <th>children</th>\n",
       "      <th>days_employed</th>\n",
       "      <th>dob_years</th>\n",
       "      <th>education</th>\n",
       "      <th>education_id</th>\n",
       "      <th>family_status</th>\n",
       "      <th>family_status_id</th>\n",
       "      <th>gender</th>\n",
       "      <th>income_type</th>\n",
       "      <th>debt</th>\n",
       "      <th>total_income</th>\n",
       "      <th>purpose</th>\n",
       "    </tr>\n",
       "  </thead>\n",
       "  <tbody>\n",
       "    <tr>\n",
       "      <th>0</th>\n",
       "      <td>1</td>\n",
       "      <td>-8437.673028</td>\n",
       "      <td>42</td>\n",
       "      <td>высшее</td>\n",
       "      <td>0</td>\n",
       "      <td>женат / замужем</td>\n",
       "      <td>0</td>\n",
       "      <td>F</td>\n",
       "      <td>сотрудник</td>\n",
       "      <td>0</td>\n",
       "      <td>253875.639453</td>\n",
       "      <td>покупка жилья</td>\n",
       "    </tr>\n",
       "    <tr>\n",
       "      <th>1</th>\n",
       "      <td>1</td>\n",
       "      <td>-4024.803754</td>\n",
       "      <td>36</td>\n",
       "      <td>среднее</td>\n",
       "      <td>1</td>\n",
       "      <td>женат / замужем</td>\n",
       "      <td>0</td>\n",
       "      <td>F</td>\n",
       "      <td>сотрудник</td>\n",
       "      <td>0</td>\n",
       "      <td>112080.014102</td>\n",
       "      <td>приобретение автомобиля</td>\n",
       "    </tr>\n",
       "    <tr>\n",
       "      <th>2</th>\n",
       "      <td>0</td>\n",
       "      <td>-5623.422610</td>\n",
       "      <td>33</td>\n",
       "      <td>Среднее</td>\n",
       "      <td>1</td>\n",
       "      <td>женат / замужем</td>\n",
       "      <td>0</td>\n",
       "      <td>M</td>\n",
       "      <td>сотрудник</td>\n",
       "      <td>0</td>\n",
       "      <td>145885.952297</td>\n",
       "      <td>покупка жилья</td>\n",
       "    </tr>\n",
       "    <tr>\n",
       "      <th>3</th>\n",
       "      <td>3</td>\n",
       "      <td>-4124.747207</td>\n",
       "      <td>32</td>\n",
       "      <td>среднее</td>\n",
       "      <td>1</td>\n",
       "      <td>женат / замужем</td>\n",
       "      <td>0</td>\n",
       "      <td>M</td>\n",
       "      <td>сотрудник</td>\n",
       "      <td>0</td>\n",
       "      <td>267628.550329</td>\n",
       "      <td>дополнительное образование</td>\n",
       "    </tr>\n",
       "    <tr>\n",
       "      <th>4</th>\n",
       "      <td>0</td>\n",
       "      <td>340266.072047</td>\n",
       "      <td>53</td>\n",
       "      <td>среднее</td>\n",
       "      <td>1</td>\n",
       "      <td>гражданский брак</td>\n",
       "      <td>1</td>\n",
       "      <td>F</td>\n",
       "      <td>пенсионер</td>\n",
       "      <td>0</td>\n",
       "      <td>158616.077870</td>\n",
       "      <td>сыграть свадьбу</td>\n",
       "    </tr>\n",
       "  </tbody>\n",
       "</table>\n",
       "</div>"
      ],
      "text/plain": [
       "   children  days_employed  dob_years education  education_id  \\\n",
       "0         1   -8437.673028         42    высшее             0   \n",
       "1         1   -4024.803754         36   среднее             1   \n",
       "2         0   -5623.422610         33   Среднее             1   \n",
       "3         3   -4124.747207         32   среднее             1   \n",
       "4         0  340266.072047         53   среднее             1   \n",
       "\n",
       "      family_status  family_status_id gender income_type  debt   total_income  \\\n",
       "0   женат / замужем                 0      F   сотрудник     0  253875.639453   \n",
       "1   женат / замужем                 0      F   сотрудник     0  112080.014102   \n",
       "2   женат / замужем                 0      M   сотрудник     0  145885.952297   \n",
       "3   женат / замужем                 0      M   сотрудник     0  267628.550329   \n",
       "4  гражданский брак                 1      F   пенсионер     0  158616.077870   \n",
       "\n",
       "                      purpose  \n",
       "0               покупка жилья  \n",
       "1     приобретение автомобиля  \n",
       "2               покупка жилья  \n",
       "3  дополнительное образование  \n",
       "4             сыграть свадьбу  "
      ]
     },
     "execution_count": 1,
     "metadata": {},
     "output_type": "execute_result"
    }
   ],
   "source": [
    "import pandas as pd\n",
    "\n",
    "path = 'C:/Users/Mikhail/оформление/Предобработка данных/'\n",
    "\n",
    "try:\n",
    "    data = pd.read_csv(path + 'data.csv')\n",
    "except:\n",
    "    data = pd.read_csv('/datasets/data.csv')\n",
    "\n",
    "data.head()"
   ]
  },
  {
   "cell_type": "code",
   "execution_count": 2,
   "metadata": {},
   "outputs": [
    {
     "name": "stdout",
     "output_type": "stream",
     "text": [
      "<class 'pandas.core.frame.DataFrame'>\n",
      "RangeIndex: 21525 entries, 0 to 21524\n",
      "Data columns (total 12 columns):\n",
      " #   Column            Non-Null Count  Dtype  \n",
      "---  ------            --------------  -----  \n",
      " 0   children          21525 non-null  int64  \n",
      " 1   days_employed     19351 non-null  float64\n",
      " 2   dob_years         21525 non-null  int64  \n",
      " 3   education         21525 non-null  object \n",
      " 4   education_id      21525 non-null  int64  \n",
      " 5   family_status     21525 non-null  object \n",
      " 6   family_status_id  21525 non-null  int64  \n",
      " 7   gender            21525 non-null  object \n",
      " 8   income_type       21525 non-null  object \n",
      " 9   debt              21525 non-null  int64  \n",
      " 10  total_income      19351 non-null  float64\n",
      " 11  purpose           21525 non-null  object \n",
      "dtypes: float64(2), int64(5), object(5)\n",
      "memory usage: 2.0+ MB\n"
     ]
    },
    {
     "data": {
      "text/plain": [
       "(None,\n",
       "            children  days_employed     dob_years  education_id  \\\n",
       " count  21525.000000   19351.000000  21525.000000  21525.000000   \n",
       " mean       0.538908   63046.497661     43.293380      0.817236   \n",
       " std        1.381587  140827.311974     12.574584      0.548138   \n",
       " min       -1.000000  -18388.949901      0.000000      0.000000   \n",
       " 25%        0.000000   -2747.423625     33.000000      1.000000   \n",
       " 50%        0.000000   -1203.369529     42.000000      1.000000   \n",
       " 75%        1.000000    -291.095954     53.000000      1.000000   \n",
       " max       20.000000  401755.400475     75.000000      4.000000   \n",
       " \n",
       "        family_status_id          debt  total_income  \n",
       " count      21525.000000  21525.000000  1.935100e+04  \n",
       " mean           0.972544      0.080883  1.674223e+05  \n",
       " std            1.420324      0.272661  1.029716e+05  \n",
       " min            0.000000      0.000000  2.066726e+04  \n",
       " 25%            0.000000      0.000000  1.030532e+05  \n",
       " 50%            0.000000      0.000000  1.450179e+05  \n",
       " 75%            1.000000      0.000000  2.034351e+05  \n",
       " max            4.000000      1.000000  2.265604e+06  )"
      ]
     },
     "execution_count": 2,
     "metadata": {},
     "output_type": "execute_result"
    }
   ],
   "source": [
    "data.info(), data.describe()"
   ]
  },
  {
   "cell_type": "markdown",
   "metadata": {},
   "source": [
    "### Вывод"
   ]
  },
  {
   "cell_type": "markdown",
   "metadata": {},
   "source": [
    "1. отрицательные значения в опыте работы и NaN\n",
    "2. Разный регистр в столбце education \n",
    "3. отсутствие значений в доходах\n",
    "5. Пропуски значений есть в столбцах days_employed и total_income\n",
    "6. оставлять ли float или перевести в int?"
   ]
  },
  {
   "cell_type": "markdown",
   "metadata": {},
   "source": [
    "### Шаг 2. Предобработка данных"
   ]
  },
  {
   "cell_type": "markdown",
   "metadata": {},
   "source": [
    "### Обработка пропусков"
   ]
  },
  {
   "cell_type": "markdown",
   "metadata": {},
   "source": [
    "# Пропуски в dob_years"
   ]
  },
  {
   "cell_type": "code",
   "execution_count": 3,
   "metadata": {},
   "outputs": [
    {
     "data": {
      "text/plain": [
       "(children            0.005187\n",
       " days_employed       0.004938\n",
       " dob_years           0.005187\n",
       " education           0.005187\n",
       " education_id        0.005187\n",
       " family_status       0.005187\n",
       " family_status_id    0.005187\n",
       " gender              0.005187\n",
       " income_type         0.005187\n",
       " debt                0.005187\n",
       " total_income        0.004938\n",
       " purpose             0.005187\n",
       " dtype: float64,\n",
       " children            0.004584\n",
       " days_employed       0.004652\n",
       " dob_years           0.004584\n",
       " education           0.004584\n",
       " education_id        0.004584\n",
       " family_status       0.004584\n",
       " family_status_id    0.004584\n",
       " gender              0.004584\n",
       " income_type         0.004584\n",
       " debt                0.004584\n",
       " total_income        0.004652\n",
       " purpose             0.004584\n",
       " dtype: float64)"
      ]
     },
     "execution_count": 3,
     "metadata": {},
     "output_type": "execute_result"
    }
   ],
   "source": [
    "#Пропуски в dob_years\n",
    "\n",
    "# соотношение пенсионеров с 0 в возрасте к общему числу пенсионеров\n",
    "pensionire_age_zeros = data[(data['income_type'] == 'пенсионер') & (data['dob_years'] == 0)].count()\n",
    "pensionire_all = data[(data['income_type'] == 'пенсионер')].count()\n",
    "pensionire_age_conversion = pensionire_age_zeros / pensionire_all\n",
    "# соотношение всех респондентов с 0 в возрасте к общему числу респондентов\n",
    "people_age_zeros = data[(data['income_type'] != 'пенсионер') & (data['dob_years'] == 0)].count()\n",
    "people_all = data[(data['income_type'] != 'пенсионер')].count()\n",
    "people_age_conversion = people_age_zeros / people_all\n",
    "pensionire_age_conversion, people_age_conversion"
   ]
  },
  {
   "cell_type": "markdown",
   "metadata": {},
   "source": [
    "**Процент пропусков в столбце возраста по пенсионерам и всех остальных составляет 0,5% и 0,4%, что менее 1% и может быть удалено.**"
   ]
  },
  {
   "cell_type": "code",
   "execution_count": 4,
   "metadata": {},
   "outputs": [],
   "source": [
    "# Нулевой возраст в табоице____________________________\n",
    "data = data.loc[data['dob_years'] != 0]\n",
    "data = data.reset_index(drop=True)"
   ]
  },
  {
   "cell_type": "markdown",
   "metadata": {},
   "source": [
    "# Пропуски в days_employed"
   ]
  },
  {
   "cell_type": "code",
   "execution_count": 5,
   "metadata": {},
   "outputs": [],
   "source": [
    "data['days_employed'] = data['days_employed'].fillna(0) \n",
    "data['days_employed'] = abs(data['days_employed'].astype('int64'))"
   ]
  },
  {
   "cell_type": "code",
   "execution_count": 6,
   "metadata": {},
   "outputs": [
    {
     "name": "stdout",
     "output_type": "stream",
     "text": [
      "<class 'pandas.core.frame.DataFrame'>\n",
      "RangeIndex: 21424 entries, 0 to 21423\n",
      "Data columns (total 12 columns):\n",
      " #   Column            Non-Null Count  Dtype  \n",
      "---  ------            --------------  -----  \n",
      " 0   children          21424 non-null  int64  \n",
      " 1   days_employed     21424 non-null  int64  \n",
      " 2   dob_years         21424 non-null  int64  \n",
      " 3   education         21424 non-null  object \n",
      " 4   education_id      21424 non-null  int64  \n",
      " 5   family_status     21424 non-null  object \n",
      " 6   family_status_id  21424 non-null  int64  \n",
      " 7   gender            21424 non-null  object \n",
      " 8   income_type       21424 non-null  object \n",
      " 9   debt              21424 non-null  int64  \n",
      " 10  total_income      19260 non-null  float64\n",
      " 11  purpose           21424 non-null  object \n",
      "dtypes: float64(1), int64(6), object(5)\n",
      "memory usage: 2.0+ MB\n"
     ]
    }
   ],
   "source": [
    "data.info()"
   ]
  },
  {
   "cell_type": "code",
   "execution_count": 7,
   "metadata": {},
   "outputs": [
    {
     "name": "stderr",
     "output_type": "stream",
     "text": [
      "<ipython-input-7-ad3cb61d0c1a>:5: SettingWithCopyWarning: \n",
      "A value is trying to be set on a copy of a slice from a DataFrame.\n",
      "Try using .loc[row_indexer,col_indexer] = value instead\n",
      "\n",
      "See the caveats in the documentation: https://pandas.pydata.org/pandas-docs/stable/user_guide/indexing.html#returning-a-view-versus-a-copy\n",
      "  employ_excess['dob_in_days'] = employ_excess['dob_years']*365\n",
      "<ipython-input-7-ad3cb61d0c1a>:6: SettingWithCopyWarning: \n",
      "A value is trying to be set on a copy of a slice from a DataFrame.\n",
      "Try using .loc[row_indexer,col_indexer] = value instead\n",
      "\n",
      "See the caveats in the documentation: https://pandas.pydata.org/pandas-docs/stable/user_guide/indexing.html#returning-a-view-versus-a-copy\n",
      "  employ_excess['compare'] = np.where((employ_excess['dob_in_days'] - employ_excess['days_employed'] >= 5840 ), employ_excess['days_employed'], np.nan)\n"
     ]
    },
    {
     "data": {
      "text/plain": [
       "0.8358383121732637"
      ]
     },
     "execution_count": 7,
     "metadata": {},
     "output_type": "execute_result"
    }
   ],
   "source": [
    "import numpy as np\n",
    "\n",
    "# Значения опыта превышающие возраст\n",
    "employ_excess = data[['days_employed', 'dob_years']]\n",
    "employ_excess['dob_in_days'] = employ_excess['dob_years']*365\n",
    "employ_excess['compare'] = np.where((employ_excess['dob_in_days'] - employ_excess['days_employed'] >= 5840 ), employ_excess['days_employed'], np.nan)\n",
    "conversion = employ_excess['compare'].count() / employ_excess['days_employed'].count()\n",
    "data['days_employed'] = employ_excess['compare']\n",
    "conversion"
   ]
  },
  {
   "cell_type": "markdown",
   "metadata": {},
   "source": [
    "**Значений опыта, превышающих предельно возможный составляет 16,5% - нужно заполнить эти пропуски медианой, что бы не потерять важную часть данных. Заполнение будет происходить мединной для каждого отдельного возраста, что бы не пприводить к существенному искажению распределения характеристики**\n",
    "https://loginom.ru/blog/missing"
   ]
  },
  {
   "cell_type": "code",
   "execution_count": 8,
   "metadata": {},
   "outputs": [
    {
     "name": "stdout",
     "output_type": "stream",
     "text": [
      "<class 'pandas.core.frame.DataFrame'>\n",
      "RangeIndex: 21424 entries, 0 to 21423\n",
      "Data columns (total 12 columns):\n",
      " #   Column            Non-Null Count  Dtype  \n",
      "---  ------            --------------  -----  \n",
      " 0   children          21424 non-null  int64  \n",
      " 1   days_employed     21424 non-null  float64\n",
      " 2   dob_years         21424 non-null  int64  \n",
      " 3   education         21424 non-null  object \n",
      " 4   education_id      21424 non-null  int64  \n",
      " 5   family_status     21424 non-null  object \n",
      " 6   family_status_id  21424 non-null  int64  \n",
      " 7   gender            21424 non-null  object \n",
      " 8   income_type       21424 non-null  object \n",
      " 9   debt              21424 non-null  int64  \n",
      " 10  total_income      19260 non-null  float64\n",
      " 11  purpose           21424 non-null  object \n",
      "dtypes: float64(2), int64(5), object(5)\n",
      "memory usage: 2.0+ MB\n"
     ]
    }
   ],
   "source": [
    "dob_years_list = data['dob_years'].unique()\n",
    "for element in dob_years_list: \n",
    "    med = data.loc[data['dob_years'] == element]['days_employed'].median()\n",
    "    data.loc[data['dob_years'] == element, 'days_employed'] = data.loc[data['dob_years'] == element, 'days_employed'].fillna(med)\n",
    "    \n",
    "data_days_employed_median = data['days_employed'].median()\n",
    "data.loc[data['days_employed'] == 0, 'days_employed'] = data_days_employed_median\n",
    "data.info()"
   ]
  },
  {
   "cell_type": "markdown",
   "metadata": {},
   "source": [
    "# Аномалии в столбце children"
   ]
  },
  {
   "cell_type": "code",
   "execution_count": 9,
   "metadata": {},
   "outputs": [
    {
     "data": {
      "text/plain": [
       "0    14080\n",
       "1     4849\n",
       "2     2117\n",
       "3      328\n",
       "4       41\n",
       "5        9\n",
       "Name: children, dtype: int64"
      ]
     },
     "execution_count": 9,
     "metadata": {},
     "output_type": "execute_result"
    }
   ],
   "source": [
    "data.loc[data['children'] == 20, 'children'] = 2\n",
    "data.loc[data['children'] == -1, 'children'] = 1\n",
    "data['children'].value_counts()"
   ]
  },
  {
   "cell_type": "markdown",
   "metadata": {},
   "source": [
    "**Данные аномалии могут быть связаны с неверным вводом, цифра 2 рядом с цифро 0 на нумпаде.\n",
    "Значения -1, могли появиться при формировании таблицы, как отрицательные в столбце опыт.**"
   ]
  },
  {
   "cell_type": "markdown",
   "metadata": {},
   "source": [
    "# Пропуски значений в total_income"
   ]
  },
  {
   "cell_type": "code",
   "execution_count": 10,
   "metadata": {},
   "outputs": [
    {
     "name": "stdout",
     "output_type": "stream",
     "text": [
      "<class 'pandas.core.frame.DataFrame'>\n",
      "RangeIndex: 21424 entries, 0 to 21423\n",
      "Data columns (total 12 columns):\n",
      " #   Column            Non-Null Count  Dtype  \n",
      "---  ------            --------------  -----  \n",
      " 0   children          21424 non-null  int64  \n",
      " 1   days_employed     21424 non-null  float64\n",
      " 2   dob_years         21424 non-null  int64  \n",
      " 3   education         21424 non-null  object \n",
      " 4   education_id      21424 non-null  int64  \n",
      " 5   family_status     21424 non-null  object \n",
      " 6   family_status_id  21424 non-null  int64  \n",
      " 7   gender            21424 non-null  object \n",
      " 8   income_type       21424 non-null  object \n",
      " 9   debt              21424 non-null  int64  \n",
      " 10  total_income      21424 non-null  float64\n",
      " 11  purpose           21424 non-null  object \n",
      "dtypes: float64(2), int64(5), object(5)\n",
      "memory usage: 2.0+ MB\n"
     ]
    }
   ],
   "source": [
    "income_type_list = data['income_type'].unique()\n",
    "for element in income_type_list: \n",
    "    med = data.loc[data['income_type'] == element]['total_income'].median()\n",
    "    data.loc[data['income_type'] == element] = data.loc[data['income_type'] == element].fillna(med)\n",
    "data.info()"
   ]
  },
  {
   "cell_type": "markdown",
   "metadata": {},
   "source": [
    "**Пропуски в значениях были заполнены медианным значениями каждой соответсвующей категории работников.\n",
    "Пропуски не связаны с безработными/студентами т.к. их число крайне мало.**"
   ]
  },
  {
   "cell_type": "markdown",
   "metadata": {},
   "source": [
    "### Замена типа данных"
   ]
  },
  {
   "cell_type": "code",
   "execution_count": 11,
   "metadata": {},
   "outputs": [
    {
     "name": "stdout",
     "output_type": "stream",
     "text": [
      "<class 'pandas.core.frame.DataFrame'>\n",
      "RangeIndex: 21424 entries, 0 to 21423\n",
      "Data columns (total 12 columns):\n",
      " #   Column            Non-Null Count  Dtype \n",
      "---  ------            --------------  ----- \n",
      " 0   children          21424 non-null  int64 \n",
      " 1   days_employed     21424 non-null  int64 \n",
      " 2   dob_years         21424 non-null  int64 \n",
      " 3   education         21424 non-null  object\n",
      " 4   education_id      21424 non-null  int64 \n",
      " 5   family_status     21424 non-null  object\n",
      " 6   family_status_id  21424 non-null  int64 \n",
      " 7   gender            21424 non-null  object\n",
      " 8   income_type       21424 non-null  object\n",
      " 9   debt              21424 non-null  int64 \n",
      " 10  total_income      21424 non-null  int64 \n",
      " 11  purpose           21424 non-null  object\n",
      "dtypes: int64(7), object(5)\n",
      "memory usage: 2.0+ MB\n"
     ]
    }
   ],
   "source": [
    "data['days_employed'] = data['days_employed'].astype('int64')\n",
    "data['total_income'] = data['total_income'].astype('int64')\n",
    "data.info()"
   ]
  },
  {
   "cell_type": "markdown",
   "metadata": {},
   "source": [
    "### Вывод"
   ]
  },
  {
   "cell_type": "markdown",
   "metadata": {},
   "source": [
    "**Замены типа данных может пригодится в различных арифметических операциях(к примеру float нельзя было возвести в квадрат и затем извлечь корень юез деформации значений)**"
   ]
  },
  {
   "cell_type": "markdown",
   "metadata": {},
   "source": [
    "### Обработка дубликатов"
   ]
  },
  {
   "cell_type": "markdown",
   "metadata": {},
   "source": [
    "**Разный регистр в education**"
   ]
  },
  {
   "cell_type": "code",
   "execution_count": 12,
   "metadata": {},
   "outputs": [
    {
     "data": {
      "text/plain": [
       "(среднее                15169\n",
       " высшее                  5225\n",
       " неоконченное высшее      742\n",
       " начальное                282\n",
       " ученая степень             6\n",
       " Name: education, dtype: int64,\n",
       " 1    15169\n",
       " 0     5225\n",
       " 2      742\n",
       " 3      282\n",
       " 4        6\n",
       " Name: education_id, dtype: int64)"
      ]
     },
     "execution_count": 12,
     "metadata": {},
     "output_type": "execute_result"
    }
   ],
   "source": [
    "data['education'] = data['education'].str.lower()\n",
    "data['education'].value_counts(), data['education_id'].value_counts()"
   ]
  },
  {
   "cell_type": "code",
   "execution_count": 13,
   "metadata": {},
   "outputs": [
    {
     "data": {
      "text/plain": [
       "(21424, 12)"
      ]
     },
     "execution_count": 13,
     "metadata": {},
     "output_type": "execute_result"
    }
   ],
   "source": [
    "data.drop_duplicates()\n",
    "data.shape"
   ]
  },
  {
   "cell_type": "markdown",
   "metadata": {},
   "source": [
    "### Вывод"
   ]
  },
  {
   "cell_type": "markdown",
   "metadata": {},
   "source": [
    "**Все дубликаты были связаны с тем, что уровень образования был введен разным регистром.**"
   ]
  },
  {
   "cell_type": "markdown",
   "metadata": {},
   "source": [
    "### Лемматизация"
   ]
  },
  {
   "cell_type": "code",
   "execution_count": 14,
   "metadata": {},
   "outputs": [
    {
     "name": "stdout",
     "output_type": "stream",
     "text": [
      "Requirement already satisfied: pymystem3 in c:\\users\\mikhail\\anaconda3\\lib\\site-packages (0.2.0)\n",
      "Requirement already satisfied: requests in c:\\users\\mikhail\\anaconda3\\lib\\site-packages (from pymystem3) (2.25.1)\n",
      "Requirement already satisfied: idna<3,>=2.5 in c:\\users\\mikhail\\anaconda3\\lib\\site-packages (from requests->pymystem3) (2.10)\n",
      "Requirement already satisfied: certifi>=2017.4.17 in c:\\users\\mikhail\\anaconda3\\lib\\site-packages (from requests->pymystem3) (2021.10.8)\n",
      "Requirement already satisfied: urllib3<1.27,>=1.21.1 in c:\\users\\mikhail\\anaconda3\\lib\\site-packages (from requests->pymystem3) (1.26.4)\n",
      "Requirement already satisfied: chardet<5,>=3.0.2 in c:\\users\\mikhail\\anaconda3\\lib\\site-packages (from requests->pymystem3) (4.0.0)\n"
     ]
    }
   ],
   "source": [
    "!pip install pymystem3"
   ]
  },
  {
   "cell_type": "code",
   "execution_count": 15,
   "metadata": {},
   "outputs": [
    {
     "data": {
      "text/plain": [
       "array(['покупка жилья', 'приобретение автомобиля',\n",
       "       'дополнительное образование', 'сыграть свадьбу',\n",
       "       'операции с жильем', 'образование', 'на проведение свадьбы',\n",
       "       'покупка жилья для семьи', 'покупка недвижимости',\n",
       "       'покупка коммерческой недвижимости', 'покупка жилой недвижимости',\n",
       "       'строительство собственной недвижимости', 'недвижимость',\n",
       "       'строительство недвижимости', 'на покупку подержанного автомобиля',\n",
       "       'на покупку своего автомобиля',\n",
       "       'операции с коммерческой недвижимостью',\n",
       "       'строительство жилой недвижимости', 'жилье',\n",
       "       'операции со своей недвижимостью', 'автомобили',\n",
       "       'заняться образованием', 'сделка с подержанным автомобилем',\n",
       "       'получение образования', 'автомобиль', 'свадьба',\n",
       "       'получение дополнительного образования', 'покупка своего жилья',\n",
       "       'операции с недвижимостью', 'получение высшего образования',\n",
       "       'свой автомобиль', 'сделка с автомобилем',\n",
       "       'профильное образование', 'высшее образование',\n",
       "       'покупка жилья для сдачи', 'на покупку автомобиля', 'ремонт жилью',\n",
       "       'заняться высшим образованием'], dtype=object)"
      ]
     },
     "execution_count": 15,
     "metadata": {},
     "output_type": "execute_result"
    }
   ],
   "source": [
    "from pymystem3 import Mystem\n",
    "from collections import Counter\n",
    "\n",
    "m = Mystem()\n",
    "\n",
    "purpose_list = data['purpose'].unique()\n",
    "purpose_list"
   ]
  },
  {
   "cell_type": "code",
   "execution_count": 16,
   "metadata": {},
   "outputs": [],
   "source": [
    "purpose_list = data['purpose'].unique()\n",
    "lemmas = []\n",
    "for i in purpose_list:\n",
    "    lemma = m.lemmatize(i)\n",
    "    lemmas.append(lemma)\n",
    "#lemmas"
   ]
  },
  {
   "cell_type": "code",
   "execution_count": 17,
   "metadata": {},
   "outputs": [],
   "source": [
    "lemmas_count = []\n",
    "for c in lemmas:\n",
    "    lemmas_count += Counter(c)\n",
    "#lemmas_count\n",
    "#Counter(lemmas_count)\n",
    "lemmas_purpuse = ['жилье', 'недвижимость', 'автомобиль', 'образование', 'свадьба',] # основные категории"
   ]
  },
  {
   "cell_type": "code",
   "execution_count": 18,
   "metadata": {},
   "outputs": [],
   "source": [
    "def purpuse_lemmatize (row):\n",
    "    lemmas_category = m.lemmatize(row)\n",
    "    if 'жилье' in lemmas_category or 'недвижимость' in lemmas_category:\n",
    "        return 'недвижимость'\n",
    "    if 'автомобиль' in lemmas_category:\n",
    "        return 'автомобиль'\n",
    "    if 'образование' in lemmas_category:\n",
    "        return 'образование'\n",
    "    if 'свадьба' in lemmas_category:\n",
    "        return 'свадьба'"
   ]
  },
  {
   "cell_type": "code",
   "execution_count": 19,
   "metadata": {},
   "outputs": [],
   "source": [
    "data['purpose_category'] = data['purpose'].apply(purpuse_lemmatize)"
   ]
  },
  {
   "cell_type": "code",
   "execution_count": 20,
   "metadata": {},
   "outputs": [
    {
     "data": {
      "text/html": [
       "<div>\n",
       "<style scoped>\n",
       "    .dataframe tbody tr th:only-of-type {\n",
       "        vertical-align: middle;\n",
       "    }\n",
       "\n",
       "    .dataframe tbody tr th {\n",
       "        vertical-align: top;\n",
       "    }\n",
       "\n",
       "    .dataframe thead th {\n",
       "        text-align: right;\n",
       "    }\n",
       "</style>\n",
       "<table border=\"1\" class=\"dataframe\">\n",
       "  <thead>\n",
       "    <tr style=\"text-align: right;\">\n",
       "      <th></th>\n",
       "      <th>children</th>\n",
       "      <th>days_employed</th>\n",
       "      <th>dob_years</th>\n",
       "      <th>education</th>\n",
       "      <th>education_id</th>\n",
       "      <th>family_status</th>\n",
       "      <th>family_status_id</th>\n",
       "      <th>gender</th>\n",
       "      <th>income_type</th>\n",
       "      <th>debt</th>\n",
       "      <th>total_income</th>\n",
       "      <th>purpose</th>\n",
       "      <th>purpose_category</th>\n",
       "    </tr>\n",
       "  </thead>\n",
       "  <tbody>\n",
       "    <tr>\n",
       "      <th>15757</th>\n",
       "      <td>0</td>\n",
       "      <td>1719</td>\n",
       "      <td>55</td>\n",
       "      <td>среднее</td>\n",
       "      <td>1</td>\n",
       "      <td>женат / замужем</td>\n",
       "      <td>0</td>\n",
       "      <td>F</td>\n",
       "      <td>пенсионер</td>\n",
       "      <td>0</td>\n",
       "      <td>319055</td>\n",
       "      <td>покупка недвижимости</td>\n",
       "      <td>недвижимость</td>\n",
       "    </tr>\n",
       "    <tr>\n",
       "      <th>2710</th>\n",
       "      <td>0</td>\n",
       "      <td>332</td>\n",
       "      <td>67</td>\n",
       "      <td>среднее</td>\n",
       "      <td>1</td>\n",
       "      <td>вдовец / вдова</td>\n",
       "      <td>2</td>\n",
       "      <td>F</td>\n",
       "      <td>пенсионер</td>\n",
       "      <td>0</td>\n",
       "      <td>58069</td>\n",
       "      <td>профильное образование</td>\n",
       "      <td>образование</td>\n",
       "    </tr>\n",
       "    <tr>\n",
       "      <th>2522</th>\n",
       "      <td>0</td>\n",
       "      <td>2154</td>\n",
       "      <td>49</td>\n",
       "      <td>среднее</td>\n",
       "      <td>1</td>\n",
       "      <td>женат / замужем</td>\n",
       "      <td>0</td>\n",
       "      <td>F</td>\n",
       "      <td>госслужащий</td>\n",
       "      <td>0</td>\n",
       "      <td>97012</td>\n",
       "      <td>приобретение автомобиля</td>\n",
       "      <td>автомобиль</td>\n",
       "    </tr>\n",
       "    <tr>\n",
       "      <th>18041</th>\n",
       "      <td>0</td>\n",
       "      <td>2459</td>\n",
       "      <td>39</td>\n",
       "      <td>среднее</td>\n",
       "      <td>1</td>\n",
       "      <td>женат / замужем</td>\n",
       "      <td>0</td>\n",
       "      <td>F</td>\n",
       "      <td>сотрудник</td>\n",
       "      <td>0</td>\n",
       "      <td>221510</td>\n",
       "      <td>строительство жилой недвижимости</td>\n",
       "      <td>недвижимость</td>\n",
       "    </tr>\n",
       "    <tr>\n",
       "      <th>12393</th>\n",
       "      <td>2</td>\n",
       "      <td>798</td>\n",
       "      <td>42</td>\n",
       "      <td>среднее</td>\n",
       "      <td>1</td>\n",
       "      <td>женат / замужем</td>\n",
       "      <td>0</td>\n",
       "      <td>M</td>\n",
       "      <td>сотрудник</td>\n",
       "      <td>0</td>\n",
       "      <td>174275</td>\n",
       "      <td>покупка жилья для семьи</td>\n",
       "      <td>недвижимость</td>\n",
       "    </tr>\n",
       "    <tr>\n",
       "      <th>12566</th>\n",
       "      <td>0</td>\n",
       "      <td>1827</td>\n",
       "      <td>53</td>\n",
       "      <td>высшее</td>\n",
       "      <td>0</td>\n",
       "      <td>женат / замужем</td>\n",
       "      <td>0</td>\n",
       "      <td>F</td>\n",
       "      <td>пенсионер</td>\n",
       "      <td>0</td>\n",
       "      <td>170868</td>\n",
       "      <td>ремонт жилью</td>\n",
       "      <td>недвижимость</td>\n",
       "    </tr>\n",
       "    <tr>\n",
       "      <th>14226</th>\n",
       "      <td>0</td>\n",
       "      <td>1120</td>\n",
       "      <td>65</td>\n",
       "      <td>высшее</td>\n",
       "      <td>0</td>\n",
       "      <td>в разводе</td>\n",
       "      <td>3</td>\n",
       "      <td>F</td>\n",
       "      <td>пенсионер</td>\n",
       "      <td>0</td>\n",
       "      <td>131286</td>\n",
       "      <td>покупка жилья для сдачи</td>\n",
       "      <td>недвижимость</td>\n",
       "    </tr>\n",
       "    <tr>\n",
       "      <th>14600</th>\n",
       "      <td>0</td>\n",
       "      <td>1845</td>\n",
       "      <td>36</td>\n",
       "      <td>среднее</td>\n",
       "      <td>1</td>\n",
       "      <td>женат / замужем</td>\n",
       "      <td>0</td>\n",
       "      <td>F</td>\n",
       "      <td>компаньон</td>\n",
       "      <td>0</td>\n",
       "      <td>233223</td>\n",
       "      <td>операции со своей недвижимостью</td>\n",
       "      <td>недвижимость</td>\n",
       "    </tr>\n",
       "    <tr>\n",
       "      <th>6704</th>\n",
       "      <td>0</td>\n",
       "      <td>1380</td>\n",
       "      <td>60</td>\n",
       "      <td>среднее</td>\n",
       "      <td>1</td>\n",
       "      <td>женат / замужем</td>\n",
       "      <td>0</td>\n",
       "      <td>F</td>\n",
       "      <td>пенсионер</td>\n",
       "      <td>0</td>\n",
       "      <td>141949</td>\n",
       "      <td>покупка коммерческой недвижимости</td>\n",
       "      <td>недвижимость</td>\n",
       "    </tr>\n",
       "    <tr>\n",
       "      <th>5103</th>\n",
       "      <td>1</td>\n",
       "      <td>5319</td>\n",
       "      <td>31</td>\n",
       "      <td>высшее</td>\n",
       "      <td>0</td>\n",
       "      <td>женат / замужем</td>\n",
       "      <td>0</td>\n",
       "      <td>F</td>\n",
       "      <td>сотрудник</td>\n",
       "      <td>0</td>\n",
       "      <td>244334</td>\n",
       "      <td>образование</td>\n",
       "      <td>образование</td>\n",
       "    </tr>\n",
       "    <tr>\n",
       "      <th>18172</th>\n",
       "      <td>0</td>\n",
       "      <td>813</td>\n",
       "      <td>29</td>\n",
       "      <td>среднее</td>\n",
       "      <td>1</td>\n",
       "      <td>гражданский брак</td>\n",
       "      <td>1</td>\n",
       "      <td>M</td>\n",
       "      <td>сотрудник</td>\n",
       "      <td>0</td>\n",
       "      <td>111228</td>\n",
       "      <td>на проведение свадьбы</td>\n",
       "      <td>свадьба</td>\n",
       "    </tr>\n",
       "    <tr>\n",
       "      <th>17028</th>\n",
       "      <td>0</td>\n",
       "      <td>1943</td>\n",
       "      <td>32</td>\n",
       "      <td>среднее</td>\n",
       "      <td>1</td>\n",
       "      <td>гражданский брак</td>\n",
       "      <td>1</td>\n",
       "      <td>F</td>\n",
       "      <td>сотрудник</td>\n",
       "      <td>1</td>\n",
       "      <td>120397</td>\n",
       "      <td>сыграть свадьбу</td>\n",
       "      <td>свадьба</td>\n",
       "    </tr>\n",
       "    <tr>\n",
       "      <th>5925</th>\n",
       "      <td>0</td>\n",
       "      <td>6700</td>\n",
       "      <td>49</td>\n",
       "      <td>среднее</td>\n",
       "      <td>1</td>\n",
       "      <td>женат / замужем</td>\n",
       "      <td>0</td>\n",
       "      <td>F</td>\n",
       "      <td>сотрудник</td>\n",
       "      <td>0</td>\n",
       "      <td>40982</td>\n",
       "      <td>заняться высшим образованием</td>\n",
       "      <td>образование</td>\n",
       "    </tr>\n",
       "    <tr>\n",
       "      <th>9433</th>\n",
       "      <td>0</td>\n",
       "      <td>2788</td>\n",
       "      <td>38</td>\n",
       "      <td>среднее</td>\n",
       "      <td>1</td>\n",
       "      <td>Не женат / не замужем</td>\n",
       "      <td>4</td>\n",
       "      <td>F</td>\n",
       "      <td>компаньон</td>\n",
       "      <td>0</td>\n",
       "      <td>65809</td>\n",
       "      <td>строительство собственной недвижимости</td>\n",
       "      <td>недвижимость</td>\n",
       "    </tr>\n",
       "    <tr>\n",
       "      <th>4684</th>\n",
       "      <td>1</td>\n",
       "      <td>583</td>\n",
       "      <td>49</td>\n",
       "      <td>среднее</td>\n",
       "      <td>1</td>\n",
       "      <td>Не женат / не замужем</td>\n",
       "      <td>4</td>\n",
       "      <td>F</td>\n",
       "      <td>сотрудник</td>\n",
       "      <td>0</td>\n",
       "      <td>274074</td>\n",
       "      <td>получение образования</td>\n",
       "      <td>образование</td>\n",
       "    </tr>\n",
       "    <tr>\n",
       "      <th>5922</th>\n",
       "      <td>0</td>\n",
       "      <td>1010</td>\n",
       "      <td>36</td>\n",
       "      <td>среднее</td>\n",
       "      <td>1</td>\n",
       "      <td>Не женат / не замужем</td>\n",
       "      <td>4</td>\n",
       "      <td>M</td>\n",
       "      <td>компаньон</td>\n",
       "      <td>0</td>\n",
       "      <td>184611</td>\n",
       "      <td>покупка жилья</td>\n",
       "      <td>недвижимость</td>\n",
       "    </tr>\n",
       "    <tr>\n",
       "      <th>636</th>\n",
       "      <td>0</td>\n",
       "      <td>252</td>\n",
       "      <td>24</td>\n",
       "      <td>среднее</td>\n",
       "      <td>1</td>\n",
       "      <td>гражданский брак</td>\n",
       "      <td>1</td>\n",
       "      <td>F</td>\n",
       "      <td>компаньон</td>\n",
       "      <td>0</td>\n",
       "      <td>79429</td>\n",
       "      <td>строительство жилой недвижимости</td>\n",
       "      <td>недвижимость</td>\n",
       "    </tr>\n",
       "    <tr>\n",
       "      <th>16572</th>\n",
       "      <td>0</td>\n",
       "      <td>1380</td>\n",
       "      <td>50</td>\n",
       "      <td>среднее</td>\n",
       "      <td>1</td>\n",
       "      <td>гражданский брак</td>\n",
       "      <td>1</td>\n",
       "      <td>F</td>\n",
       "      <td>пенсионер</td>\n",
       "      <td>0</td>\n",
       "      <td>118557</td>\n",
       "      <td>на проведение свадьбы</td>\n",
       "      <td>свадьба</td>\n",
       "    </tr>\n",
       "    <tr>\n",
       "      <th>21335</th>\n",
       "      <td>1</td>\n",
       "      <td>264</td>\n",
       "      <td>31</td>\n",
       "      <td>высшее</td>\n",
       "      <td>0</td>\n",
       "      <td>Не женат / не замужем</td>\n",
       "      <td>4</td>\n",
       "      <td>F</td>\n",
       "      <td>компаньон</td>\n",
       "      <td>0</td>\n",
       "      <td>91399</td>\n",
       "      <td>получение высшего образования</td>\n",
       "      <td>образование</td>\n",
       "    </tr>\n",
       "    <tr>\n",
       "      <th>2686</th>\n",
       "      <td>0</td>\n",
       "      <td>1380</td>\n",
       "      <td>65</td>\n",
       "      <td>среднее</td>\n",
       "      <td>1</td>\n",
       "      <td>женат / замужем</td>\n",
       "      <td>0</td>\n",
       "      <td>F</td>\n",
       "      <td>пенсионер</td>\n",
       "      <td>0</td>\n",
       "      <td>118557</td>\n",
       "      <td>недвижимость</td>\n",
       "      <td>недвижимость</td>\n",
       "    </tr>\n",
       "  </tbody>\n",
       "</table>\n",
       "</div>"
      ],
      "text/plain": [
       "       children  days_employed  dob_years education  education_id  \\\n",
       "15757         0           1719         55   среднее             1   \n",
       "2710          0            332         67   среднее             1   \n",
       "2522          0           2154         49   среднее             1   \n",
       "18041         0           2459         39   среднее             1   \n",
       "12393         2            798         42   среднее             1   \n",
       "12566         0           1827         53    высшее             0   \n",
       "14226         0           1120         65    высшее             0   \n",
       "14600         0           1845         36   среднее             1   \n",
       "6704          0           1380         60   среднее             1   \n",
       "5103          1           5319         31    высшее             0   \n",
       "18172         0            813         29   среднее             1   \n",
       "17028         0           1943         32   среднее             1   \n",
       "5925          0           6700         49   среднее             1   \n",
       "9433          0           2788         38   среднее             1   \n",
       "4684          1            583         49   среднее             1   \n",
       "5922          0           1010         36   среднее             1   \n",
       "636           0            252         24   среднее             1   \n",
       "16572         0           1380         50   среднее             1   \n",
       "21335         1            264         31    высшее             0   \n",
       "2686          0           1380         65   среднее             1   \n",
       "\n",
       "               family_status  family_status_id gender  income_type  debt  \\\n",
       "15757        женат / замужем                 0      F    пенсионер     0   \n",
       "2710          вдовец / вдова                 2      F    пенсионер     0   \n",
       "2522         женат / замужем                 0      F  госслужащий     0   \n",
       "18041        женат / замужем                 0      F    сотрудник     0   \n",
       "12393        женат / замужем                 0      M    сотрудник     0   \n",
       "12566        женат / замужем                 0      F    пенсионер     0   \n",
       "14226              в разводе                 3      F    пенсионер     0   \n",
       "14600        женат / замужем                 0      F    компаньон     0   \n",
       "6704         женат / замужем                 0      F    пенсионер     0   \n",
       "5103         женат / замужем                 0      F    сотрудник     0   \n",
       "18172       гражданский брак                 1      M    сотрудник     0   \n",
       "17028       гражданский брак                 1      F    сотрудник     1   \n",
       "5925         женат / замужем                 0      F    сотрудник     0   \n",
       "9433   Не женат / не замужем                 4      F    компаньон     0   \n",
       "4684   Не женат / не замужем                 4      F    сотрудник     0   \n",
       "5922   Не женат / не замужем                 4      M    компаньон     0   \n",
       "636         гражданский брак                 1      F    компаньон     0   \n",
       "16572       гражданский брак                 1      F    пенсионер     0   \n",
       "21335  Не женат / не замужем                 4      F    компаньон     0   \n",
       "2686         женат / замужем                 0      F    пенсионер     0   \n",
       "\n",
       "       total_income                                 purpose purpose_category  \n",
       "15757        319055                    покупка недвижимости     недвижимость  \n",
       "2710          58069                  профильное образование      образование  \n",
       "2522          97012                 приобретение автомобиля       автомобиль  \n",
       "18041        221510        строительство жилой недвижимости     недвижимость  \n",
       "12393        174275                 покупка жилья для семьи     недвижимость  \n",
       "12566        170868                            ремонт жилью     недвижимость  \n",
       "14226        131286                 покупка жилья для сдачи     недвижимость  \n",
       "14600        233223         операции со своей недвижимостью     недвижимость  \n",
       "6704         141949       покупка коммерческой недвижимости     недвижимость  \n",
       "5103         244334                             образование      образование  \n",
       "18172        111228                   на проведение свадьбы          свадьба  \n",
       "17028        120397                         сыграть свадьбу          свадьба  \n",
       "5925          40982            заняться высшим образованием      образование  \n",
       "9433          65809  строительство собственной недвижимости     недвижимость  \n",
       "4684         274074                   получение образования      образование  \n",
       "5922         184611                           покупка жилья     недвижимость  \n",
       "636           79429        строительство жилой недвижимости     недвижимость  \n",
       "16572        118557                   на проведение свадьбы          свадьба  \n",
       "21335         91399           получение высшего образования      образование  \n",
       "2686         118557                            недвижимость     недвижимость  "
      ]
     },
     "execution_count": 20,
     "metadata": {},
     "output_type": "execute_result"
    }
   ],
   "source": [
    "data.sample(20)"
   ]
  },
  {
   "cell_type": "markdown",
   "metadata": {},
   "source": [
    "### Вывод"
   ]
  },
  {
   "cell_type": "markdown",
   "metadata": {},
   "source": [
    "**Большая часть респондентов берет кредит под одинаковые цели**"
   ]
  },
  {
   "cell_type": "markdown",
   "metadata": {},
   "source": [
    "### Категоризация данных"
   ]
  },
  {
   "cell_type": "markdown",
   "metadata": {},
   "source": [
    "Сгруппировать можно:\n",
    "1. Многодеьные/малодетные\n",
    "2. По уровню дохода - низкий/средний/высокий"
   ]
  },
  {
   "cell_type": "markdown",
   "metadata": {},
   "source": [
    "**Группировка по количеству детей**"
   ]
  },
  {
   "cell_type": "code",
   "execution_count": 26,
   "metadata": {},
   "outputs": [],
   "source": [
    "def children_category_function (number):\n",
    "    if number < 1:\n",
    "        return 'Бездетная'\n",
    "    if 0 < number < 3:\n",
    "        return 'Малодетная'\n",
    "    if 3 <= number:\n",
    "        return 'Многодетная'"
   ]
  },
  {
   "cell_type": "code",
   "execution_count": 27,
   "metadata": {},
   "outputs": [
    {
     "data": {
      "text/html": [
       "<div>\n",
       "<style scoped>\n",
       "    .dataframe tbody tr th:only-of-type {\n",
       "        vertical-align: middle;\n",
       "    }\n",
       "\n",
       "    .dataframe tbody tr th {\n",
       "        vertical-align: top;\n",
       "    }\n",
       "\n",
       "    .dataframe thead th {\n",
       "        text-align: right;\n",
       "    }\n",
       "</style>\n",
       "<table border=\"1\" class=\"dataframe\">\n",
       "  <thead>\n",
       "    <tr style=\"text-align: right;\">\n",
       "      <th></th>\n",
       "      <th>children</th>\n",
       "      <th>days_employed</th>\n",
       "      <th>dob_years</th>\n",
       "      <th>education</th>\n",
       "      <th>education_id</th>\n",
       "      <th>family_status</th>\n",
       "      <th>family_status_id</th>\n",
       "      <th>gender</th>\n",
       "      <th>income_type</th>\n",
       "      <th>debt</th>\n",
       "      <th>total_income</th>\n",
       "      <th>purpose</th>\n",
       "      <th>purpose_category</th>\n",
       "      <th>children_category</th>\n",
       "    </tr>\n",
       "  </thead>\n",
       "  <tbody>\n",
       "    <tr>\n",
       "      <th>0</th>\n",
       "      <td>1</td>\n",
       "      <td>8437</td>\n",
       "      <td>42</td>\n",
       "      <td>высшее</td>\n",
       "      <td>0</td>\n",
       "      <td>женат / замужем</td>\n",
       "      <td>0</td>\n",
       "      <td>F</td>\n",
       "      <td>сотрудник</td>\n",
       "      <td>0</td>\n",
       "      <td>253875</td>\n",
       "      <td>покупка жилья</td>\n",
       "      <td>недвижимость</td>\n",
       "      <td>Малодетная</td>\n",
       "    </tr>\n",
       "    <tr>\n",
       "      <th>1</th>\n",
       "      <td>1</td>\n",
       "      <td>4024</td>\n",
       "      <td>36</td>\n",
       "      <td>среднее</td>\n",
       "      <td>1</td>\n",
       "      <td>женат / замужем</td>\n",
       "      <td>0</td>\n",
       "      <td>F</td>\n",
       "      <td>сотрудник</td>\n",
       "      <td>0</td>\n",
       "      <td>112080</td>\n",
       "      <td>приобретение автомобиля</td>\n",
       "      <td>автомобиль</td>\n",
       "      <td>Малодетная</td>\n",
       "    </tr>\n",
       "    <tr>\n",
       "      <th>2</th>\n",
       "      <td>0</td>\n",
       "      <td>5623</td>\n",
       "      <td>33</td>\n",
       "      <td>среднее</td>\n",
       "      <td>1</td>\n",
       "      <td>женат / замужем</td>\n",
       "      <td>0</td>\n",
       "      <td>M</td>\n",
       "      <td>сотрудник</td>\n",
       "      <td>0</td>\n",
       "      <td>145885</td>\n",
       "      <td>покупка жилья</td>\n",
       "      <td>недвижимость</td>\n",
       "      <td>Бездетная</td>\n",
       "    </tr>\n",
       "    <tr>\n",
       "      <th>3</th>\n",
       "      <td>3</td>\n",
       "      <td>4124</td>\n",
       "      <td>32</td>\n",
       "      <td>среднее</td>\n",
       "      <td>1</td>\n",
       "      <td>женат / замужем</td>\n",
       "      <td>0</td>\n",
       "      <td>M</td>\n",
       "      <td>сотрудник</td>\n",
       "      <td>0</td>\n",
       "      <td>267628</td>\n",
       "      <td>дополнительное образование</td>\n",
       "      <td>образование</td>\n",
       "      <td>Многодетная</td>\n",
       "    </tr>\n",
       "    <tr>\n",
       "      <th>4</th>\n",
       "      <td>0</td>\n",
       "      <td>1827</td>\n",
       "      <td>53</td>\n",
       "      <td>среднее</td>\n",
       "      <td>1</td>\n",
       "      <td>гражданский брак</td>\n",
       "      <td>1</td>\n",
       "      <td>F</td>\n",
       "      <td>пенсионер</td>\n",
       "      <td>0</td>\n",
       "      <td>158616</td>\n",
       "      <td>сыграть свадьбу</td>\n",
       "      <td>свадьба</td>\n",
       "      <td>Бездетная</td>\n",
       "    </tr>\n",
       "    <tr>\n",
       "      <th>...</th>\n",
       "      <td>...</td>\n",
       "      <td>...</td>\n",
       "      <td>...</td>\n",
       "      <td>...</td>\n",
       "      <td>...</td>\n",
       "      <td>...</td>\n",
       "      <td>...</td>\n",
       "      <td>...</td>\n",
       "      <td>...</td>\n",
       "      <td>...</td>\n",
       "      <td>...</td>\n",
       "      <td>...</td>\n",
       "      <td>...</td>\n",
       "      <td>...</td>\n",
       "    </tr>\n",
       "    <tr>\n",
       "      <th>21419</th>\n",
       "      <td>1</td>\n",
       "      <td>4529</td>\n",
       "      <td>43</td>\n",
       "      <td>среднее</td>\n",
       "      <td>1</td>\n",
       "      <td>гражданский брак</td>\n",
       "      <td>1</td>\n",
       "      <td>F</td>\n",
       "      <td>компаньон</td>\n",
       "      <td>0</td>\n",
       "      <td>224791</td>\n",
       "      <td>операции с жильем</td>\n",
       "      <td>недвижимость</td>\n",
       "      <td>Малодетная</td>\n",
       "    </tr>\n",
       "    <tr>\n",
       "      <th>21420</th>\n",
       "      <td>0</td>\n",
       "      <td>332</td>\n",
       "      <td>67</td>\n",
       "      <td>среднее</td>\n",
       "      <td>1</td>\n",
       "      <td>женат / замужем</td>\n",
       "      <td>0</td>\n",
       "      <td>F</td>\n",
       "      <td>пенсионер</td>\n",
       "      <td>0</td>\n",
       "      <td>155999</td>\n",
       "      <td>сделка с автомобилем</td>\n",
       "      <td>автомобиль</td>\n",
       "      <td>Бездетная</td>\n",
       "    </tr>\n",
       "    <tr>\n",
       "      <th>21421</th>\n",
       "      <td>1</td>\n",
       "      <td>2113</td>\n",
       "      <td>38</td>\n",
       "      <td>среднее</td>\n",
       "      <td>1</td>\n",
       "      <td>гражданский брак</td>\n",
       "      <td>1</td>\n",
       "      <td>M</td>\n",
       "      <td>сотрудник</td>\n",
       "      <td>1</td>\n",
       "      <td>89672</td>\n",
       "      <td>недвижимость</td>\n",
       "      <td>недвижимость</td>\n",
       "      <td>Малодетная</td>\n",
       "    </tr>\n",
       "    <tr>\n",
       "      <th>21422</th>\n",
       "      <td>3</td>\n",
       "      <td>3112</td>\n",
       "      <td>38</td>\n",
       "      <td>среднее</td>\n",
       "      <td>1</td>\n",
       "      <td>женат / замужем</td>\n",
       "      <td>0</td>\n",
       "      <td>M</td>\n",
       "      <td>сотрудник</td>\n",
       "      <td>1</td>\n",
       "      <td>244093</td>\n",
       "      <td>на покупку своего автомобиля</td>\n",
       "      <td>автомобиль</td>\n",
       "      <td>Многодетная</td>\n",
       "    </tr>\n",
       "    <tr>\n",
       "      <th>21423</th>\n",
       "      <td>2</td>\n",
       "      <td>1984</td>\n",
       "      <td>40</td>\n",
       "      <td>среднее</td>\n",
       "      <td>1</td>\n",
       "      <td>женат / замужем</td>\n",
       "      <td>0</td>\n",
       "      <td>F</td>\n",
       "      <td>сотрудник</td>\n",
       "      <td>0</td>\n",
       "      <td>82047</td>\n",
       "      <td>на покупку автомобиля</td>\n",
       "      <td>автомобиль</td>\n",
       "      <td>Малодетная</td>\n",
       "    </tr>\n",
       "  </tbody>\n",
       "</table>\n",
       "<p>21424 rows × 14 columns</p>\n",
       "</div>"
      ],
      "text/plain": [
       "       children  days_employed  dob_years education  education_id  \\\n",
       "0             1           8437         42    высшее             0   \n",
       "1             1           4024         36   среднее             1   \n",
       "2             0           5623         33   среднее             1   \n",
       "3             3           4124         32   среднее             1   \n",
       "4             0           1827         53   среднее             1   \n",
       "...         ...            ...        ...       ...           ...   \n",
       "21419         1           4529         43   среднее             1   \n",
       "21420         0            332         67   среднее             1   \n",
       "21421         1           2113         38   среднее             1   \n",
       "21422         3           3112         38   среднее             1   \n",
       "21423         2           1984         40   среднее             1   \n",
       "\n",
       "          family_status  family_status_id gender income_type  debt  \\\n",
       "0       женат / замужем                 0      F   сотрудник     0   \n",
       "1       женат / замужем                 0      F   сотрудник     0   \n",
       "2       женат / замужем                 0      M   сотрудник     0   \n",
       "3       женат / замужем                 0      M   сотрудник     0   \n",
       "4      гражданский брак                 1      F   пенсионер     0   \n",
       "...                 ...               ...    ...         ...   ...   \n",
       "21419  гражданский брак                 1      F   компаньон     0   \n",
       "21420   женат / замужем                 0      F   пенсионер     0   \n",
       "21421  гражданский брак                 1      M   сотрудник     1   \n",
       "21422   женат / замужем                 0      M   сотрудник     1   \n",
       "21423   женат / замужем                 0      F   сотрудник     0   \n",
       "\n",
       "       total_income                       purpose purpose_category  \\\n",
       "0            253875                 покупка жилья     недвижимость   \n",
       "1            112080       приобретение автомобиля       автомобиль   \n",
       "2            145885                 покупка жилья     недвижимость   \n",
       "3            267628    дополнительное образование      образование   \n",
       "4            158616               сыграть свадьбу          свадьба   \n",
       "...             ...                           ...              ...   \n",
       "21419        224791             операции с жильем     недвижимость   \n",
       "21420        155999          сделка с автомобилем       автомобиль   \n",
       "21421         89672                  недвижимость     недвижимость   \n",
       "21422        244093  на покупку своего автомобиля       автомобиль   \n",
       "21423         82047         на покупку автомобиля       автомобиль   \n",
       "\n",
       "      children_category  \n",
       "0            Малодетная  \n",
       "1            Малодетная  \n",
       "2             Бездетная  \n",
       "3           Многодетная  \n",
       "4             Бездетная  \n",
       "...                 ...  \n",
       "21419        Малодетная  \n",
       "21420         Бездетная  \n",
       "21421        Малодетная  \n",
       "21422       Многодетная  \n",
       "21423        Малодетная  \n",
       "\n",
       "[21424 rows x 14 columns]"
      ]
     },
     "execution_count": 27,
     "metadata": {},
     "output_type": "execute_result"
    }
   ],
   "source": [
    "data['children_category'] = data['children'].apply(children_category_function)\n",
    "data"
   ]
  },
  {
   "cell_type": "markdown",
   "metadata": {},
   "source": [
    "**Группировка по доходу**"
   ]
  },
  {
   "cell_type": "code",
   "execution_count": 28,
   "metadata": {},
   "outputs": [
    {
     "data": {
      "text/plain": [
       "0          20667\n",
       "1          21205\n",
       "2          21367\n",
       "3          21695\n",
       "4          21895\n",
       "          ...   \n",
       "21419    1711309\n",
       "21420    1715018\n",
       "21421    1726276\n",
       "21422    2200852\n",
       "21423    2265604\n",
       "Name: total_income, Length: 21424, dtype: int64"
      ]
     },
     "execution_count": 28,
     "metadata": {},
     "output_type": "execute_result"
    }
   ],
   "source": [
    "income_data = data['total_income'].sort_values()\n",
    "income_data = income_data.reset_index(drop=True)\n",
    "income_data"
   ]
  },
  {
   "cell_type": "code",
   "execution_count": 49,
   "metadata": {},
   "outputs": [
    {
     "data": {
      "image/png": "[encoded data removed]",
      "text/plain": [
       "<Figure size 432x288 with 1 Axes>"
      ]
     },
     "metadata": {
      "needs_background": "light"
     },
     "output_type": "display_data"
    }
   ],
   "source": [
    "import matplotlib.pyplot as plt\n",
    "\n",
    "plt.ylim([-5,1000000])\n",
    "\n",
    "income_data.plot()\n",
    "plt.show()"
   ]
  },
  {
   "cell_type": "markdown",
   "metadata": {},
   "source": [
    "Определим границу низкого и среднего дохода с помощью квантилей, определим, что высойкий и низкий доход является 20% верхней и нижней границы, так чтобы на средний доход приходиль более половины доходов, т.к. средний класс имет наибольшее колличество в экономике."
   ]
  },
  {
   "cell_type": "code",
   "execution_count": 53,
   "metadata": {},
   "outputs": [
    {
     "data": {
      "text/plain": [
       "<AxesSubplot:>"
      ]
     },
     "execution_count": 53,
     "metadata": {},
     "output_type": "execute_result"
    },
    {
     "data": {
      "image/png": "[encoded data removed]",
      "text/plain": [
       "<Figure size 432x288 with 1 Axes>"
      ]
     },
     "metadata": {
      "needs_background": "light"
     },
     "output_type": "display_data"
    }
   ],
   "source": [
    "Q1 = data['total_income'].quantile(0.2)\n",
    "Q3 = data['total_income'].quantile(0.8)\n",
    "IQR = Q3 - Q1\n",
    "\n",
    "data.query('(@Q1 - 1.5 * @IQR) <= total_income <= (@Q3 + 1.5 * @IQR)').boxplot('total_income')"
   ]
  },
  {
   "cell_type": "code",
   "execution_count": 54,
   "metadata": {},
   "outputs": [
    {
     "data": {
      "text/plain": [
       "98690.6"
      ]
     },
     "execution_count": 54,
     "metadata": {},
     "output_type": "execute_result"
    }
   ],
   "source": [
    "Q1"
   ]
  },
  {
   "cell_type": "code",
   "execution_count": 55,
   "metadata": {},
   "outputs": [
    {
     "data": {
      "text/plain": [
       "214206.6"
      ]
     },
     "execution_count": 55,
     "metadata": {},
     "output_type": "execute_result"
    }
   ],
   "source": [
    "Q3"
   ]
  },
  {
   "cell_type": "markdown",
   "metadata": {},
   "source": [
    "Распределим категории по доходам так, менее 100000 - низкий доход, более 215000 - высокий, интервал между - средний доход"
   ]
  },
  {
   "cell_type": "code",
   "execution_count": 56,
   "metadata": {},
   "outputs": [
    {
     "data": {
      "text/plain": [
       "(4440, 4247, 12737)"
      ]
     },
     "execution_count": 56,
     "metadata": {},
     "output_type": "execute_result"
    }
   ],
   "source": [
    "low_income_count = data.loc[data['total_income'] < 100000, 'total_income'].count()\n",
    "high_income_count = data.loc[data['total_income'] > 215000, 'total_income'].count()\n",
    "medium_income_count = data.loc[(data['total_income'] > 100000) & (data['total_income'] < 215000), 'total_income'].count()\n",
    "low_income_count, high_income_count, medium_income_count"
   ]
  },
  {
   "cell_type": "markdown",
   "metadata": {},
   "source": [
    "Диапазоны для определения категории по доходам."
   ]
  },
  {
   "cell_type": "code",
   "execution_count": 58,
   "metadata": {},
   "outputs": [],
   "source": [
    "def total_income_category (income):\n",
    "    if income < 100000:\n",
    "        return 'Низкий доход'\n",
    "    if 100000 < income < 215000:\n",
    "        return 'Средний доход'\n",
    "    if income > 215000:\n",
    "        return 'Высокий доход'"
   ]
  },
  {
   "cell_type": "code",
   "execution_count": 59,
   "metadata": {},
   "outputs": [],
   "source": [
    "data['total_income_category'] = data['total_income'].apply(total_income_category)"
   ]
  },
  {
   "cell_type": "code",
   "execution_count": 60,
   "metadata": {
    "scrolled": false
   },
   "outputs": [
    {
     "data": {
      "text/html": [
       "<div>\n",
       "<style scoped>\n",
       "    .dataframe tbody tr th:only-of-type {\n",
       "        vertical-align: middle;\n",
       "    }\n",
       "\n",
       "    .dataframe tbody tr th {\n",
       "        vertical-align: top;\n",
       "    }\n",
       "\n",
       "    .dataframe thead th {\n",
       "        text-align: right;\n",
       "    }\n",
       "</style>\n",
       "<table border=\"1\" class=\"dataframe\">\n",
       "  <thead>\n",
       "    <tr style=\"text-align: right;\">\n",
       "      <th></th>\n",
       "      <th>children</th>\n",
       "      <th>days_employed</th>\n",
       "      <th>dob_years</th>\n",
       "      <th>education</th>\n",
       "      <th>education_id</th>\n",
       "      <th>family_status</th>\n",
       "      <th>family_status_id</th>\n",
       "      <th>gender</th>\n",
       "      <th>income_type</th>\n",
       "      <th>debt</th>\n",
       "      <th>total_income</th>\n",
       "      <th>purpose</th>\n",
       "      <th>purpose_category</th>\n",
       "      <th>children_category</th>\n",
       "      <th>total_income_category</th>\n",
       "    </tr>\n",
       "  </thead>\n",
       "  <tbody>\n",
       "    <tr>\n",
       "      <th>0</th>\n",
       "      <td>1</td>\n",
       "      <td>8437</td>\n",
       "      <td>42</td>\n",
       "      <td>высшее</td>\n",
       "      <td>0</td>\n",
       "      <td>женат / замужем</td>\n",
       "      <td>0</td>\n",
       "      <td>F</td>\n",
       "      <td>сотрудник</td>\n",
       "      <td>0</td>\n",
       "      <td>253875</td>\n",
       "      <td>покупка жилья</td>\n",
       "      <td>недвижимость</td>\n",
       "      <td>Малодетная</td>\n",
       "      <td>Высокий доход</td>\n",
       "    </tr>\n",
       "    <tr>\n",
       "      <th>1</th>\n",
       "      <td>1</td>\n",
       "      <td>4024</td>\n",
       "      <td>36</td>\n",
       "      <td>среднее</td>\n",
       "      <td>1</td>\n",
       "      <td>женат / замужем</td>\n",
       "      <td>0</td>\n",
       "      <td>F</td>\n",
       "      <td>сотрудник</td>\n",
       "      <td>0</td>\n",
       "      <td>112080</td>\n",
       "      <td>приобретение автомобиля</td>\n",
       "      <td>автомобиль</td>\n",
       "      <td>Малодетная</td>\n",
       "      <td>Средний доход</td>\n",
       "    </tr>\n",
       "    <tr>\n",
       "      <th>2</th>\n",
       "      <td>0</td>\n",
       "      <td>5623</td>\n",
       "      <td>33</td>\n",
       "      <td>среднее</td>\n",
       "      <td>1</td>\n",
       "      <td>женат / замужем</td>\n",
       "      <td>0</td>\n",
       "      <td>M</td>\n",
       "      <td>сотрудник</td>\n",
       "      <td>0</td>\n",
       "      <td>145885</td>\n",
       "      <td>покупка жилья</td>\n",
       "      <td>недвижимость</td>\n",
       "      <td>Бездетная</td>\n",
       "      <td>Средний доход</td>\n",
       "    </tr>\n",
       "    <tr>\n",
       "      <th>3</th>\n",
       "      <td>3</td>\n",
       "      <td>4124</td>\n",
       "      <td>32</td>\n",
       "      <td>среднее</td>\n",
       "      <td>1</td>\n",
       "      <td>женат / замужем</td>\n",
       "      <td>0</td>\n",
       "      <td>M</td>\n",
       "      <td>сотрудник</td>\n",
       "      <td>0</td>\n",
       "      <td>267628</td>\n",
       "      <td>дополнительное образование</td>\n",
       "      <td>образование</td>\n",
       "      <td>Многодетная</td>\n",
       "      <td>Высокий доход</td>\n",
       "    </tr>\n",
       "    <tr>\n",
       "      <th>4</th>\n",
       "      <td>0</td>\n",
       "      <td>1827</td>\n",
       "      <td>53</td>\n",
       "      <td>среднее</td>\n",
       "      <td>1</td>\n",
       "      <td>гражданский брак</td>\n",
       "      <td>1</td>\n",
       "      <td>F</td>\n",
       "      <td>пенсионер</td>\n",
       "      <td>0</td>\n",
       "      <td>158616</td>\n",
       "      <td>сыграть свадьбу</td>\n",
       "      <td>свадьба</td>\n",
       "      <td>Бездетная</td>\n",
       "      <td>Средний доход</td>\n",
       "    </tr>\n",
       "    <tr>\n",
       "      <th>...</th>\n",
       "      <td>...</td>\n",
       "      <td>...</td>\n",
       "      <td>...</td>\n",
       "      <td>...</td>\n",
       "      <td>...</td>\n",
       "      <td>...</td>\n",
       "      <td>...</td>\n",
       "      <td>...</td>\n",
       "      <td>...</td>\n",
       "      <td>...</td>\n",
       "      <td>...</td>\n",
       "      <td>...</td>\n",
       "      <td>...</td>\n",
       "      <td>...</td>\n",
       "      <td>...</td>\n",
       "    </tr>\n",
       "    <tr>\n",
       "      <th>21419</th>\n",
       "      <td>1</td>\n",
       "      <td>4529</td>\n",
       "      <td>43</td>\n",
       "      <td>среднее</td>\n",
       "      <td>1</td>\n",
       "      <td>гражданский брак</td>\n",
       "      <td>1</td>\n",
       "      <td>F</td>\n",
       "      <td>компаньон</td>\n",
       "      <td>0</td>\n",
       "      <td>224791</td>\n",
       "      <td>операции с жильем</td>\n",
       "      <td>недвижимость</td>\n",
       "      <td>Малодетная</td>\n",
       "      <td>Высокий доход</td>\n",
       "    </tr>\n",
       "    <tr>\n",
       "      <th>21420</th>\n",
       "      <td>0</td>\n",
       "      <td>332</td>\n",
       "      <td>67</td>\n",
       "      <td>среднее</td>\n",
       "      <td>1</td>\n",
       "      <td>женат / замужем</td>\n",
       "      <td>0</td>\n",
       "      <td>F</td>\n",
       "      <td>пенсионер</td>\n",
       "      <td>0</td>\n",
       "      <td>155999</td>\n",
       "      <td>сделка с автомобилем</td>\n",
       "      <td>автомобиль</td>\n",
       "      <td>Бездетная</td>\n",
       "      <td>Средний доход</td>\n",
       "    </tr>\n",
       "    <tr>\n",
       "      <th>21421</th>\n",
       "      <td>1</td>\n",
       "      <td>2113</td>\n",
       "      <td>38</td>\n",
       "      <td>среднее</td>\n",
       "      <td>1</td>\n",
       "      <td>гражданский брак</td>\n",
       "      <td>1</td>\n",
       "      <td>M</td>\n",
       "      <td>сотрудник</td>\n",
       "      <td>1</td>\n",
       "      <td>89672</td>\n",
       "      <td>недвижимость</td>\n",
       "      <td>недвижимость</td>\n",
       "      <td>Малодетная</td>\n",
       "      <td>Низкий доход</td>\n",
       "    </tr>\n",
       "    <tr>\n",
       "      <th>21422</th>\n",
       "      <td>3</td>\n",
       "      <td>3112</td>\n",
       "      <td>38</td>\n",
       "      <td>среднее</td>\n",
       "      <td>1</td>\n",
       "      <td>женат / замужем</td>\n",
       "      <td>0</td>\n",
       "      <td>M</td>\n",
       "      <td>сотрудник</td>\n",
       "      <td>1</td>\n",
       "      <td>244093</td>\n",
       "      <td>на покупку своего автомобиля</td>\n",
       "      <td>автомобиль</td>\n",
       "      <td>Многодетная</td>\n",
       "      <td>Высокий доход</td>\n",
       "    </tr>\n",
       "    <tr>\n",
       "      <th>21423</th>\n",
       "      <td>2</td>\n",
       "      <td>1984</td>\n",
       "      <td>40</td>\n",
       "      <td>среднее</td>\n",
       "      <td>1</td>\n",
       "      <td>женат / замужем</td>\n",
       "      <td>0</td>\n",
       "      <td>F</td>\n",
       "      <td>сотрудник</td>\n",
       "      <td>0</td>\n",
       "      <td>82047</td>\n",
       "      <td>на покупку автомобиля</td>\n",
       "      <td>автомобиль</td>\n",
       "      <td>Малодетная</td>\n",
       "      <td>Низкий доход</td>\n",
       "    </tr>\n",
       "  </tbody>\n",
       "</table>\n",
       "<p>21424 rows × 15 columns</p>\n",
       "</div>"
      ],
      "text/plain": [
       "       children  days_employed  dob_years education  education_id  \\\n",
       "0             1           8437         42    высшее             0   \n",
       "1             1           4024         36   среднее             1   \n",
       "2             0           5623         33   среднее             1   \n",
       "3             3           4124         32   среднее             1   \n",
       "4             0           1827         53   среднее             1   \n",
       "...         ...            ...        ...       ...           ...   \n",
       "21419         1           4529         43   среднее             1   \n",
       "21420         0            332         67   среднее             1   \n",
       "21421         1           2113         38   среднее             1   \n",
       "21422         3           3112         38   среднее             1   \n",
       "21423         2           1984         40   среднее             1   \n",
       "\n",
       "          family_status  family_status_id gender income_type  debt  \\\n",
       "0       женат / замужем                 0      F   сотрудник     0   \n",
       "1       женат / замужем                 0      F   сотрудник     0   \n",
       "2       женат / замужем                 0      M   сотрудник     0   \n",
       "3       женат / замужем                 0      M   сотрудник     0   \n",
       "4      гражданский брак                 1      F   пенсионер     0   \n",
       "...                 ...               ...    ...         ...   ...   \n",
       "21419  гражданский брак                 1      F   компаньон     0   \n",
       "21420   женат / замужем                 0      F   пенсионер     0   \n",
       "21421  гражданский брак                 1      M   сотрудник     1   \n",
       "21422   женат / замужем                 0      M   сотрудник     1   \n",
       "21423   женат / замужем                 0      F   сотрудник     0   \n",
       "\n",
       "       total_income                       purpose purpose_category  \\\n",
       "0            253875                 покупка жилья     недвижимость   \n",
       "1            112080       приобретение автомобиля       автомобиль   \n",
       "2            145885                 покупка жилья     недвижимость   \n",
       "3            267628    дополнительное образование      образование   \n",
       "4            158616               сыграть свадьбу          свадьба   \n",
       "...             ...                           ...              ...   \n",
       "21419        224791             операции с жильем     недвижимость   \n",
       "21420        155999          сделка с автомобилем       автомобиль   \n",
       "21421         89672                  недвижимость     недвижимость   \n",
       "21422        244093  на покупку своего автомобиля       автомобиль   \n",
       "21423         82047         на покупку автомобиля       автомобиль   \n",
       "\n",
       "      children_category total_income_category  \n",
       "0            Малодетная         Высокий доход  \n",
       "1            Малодетная         Средний доход  \n",
       "2             Бездетная         Средний доход  \n",
       "3           Многодетная         Высокий доход  \n",
       "4             Бездетная         Средний доход  \n",
       "...                 ...                   ...  \n",
       "21419        Малодетная         Высокий доход  \n",
       "21420         Бездетная         Средний доход  \n",
       "21421        Малодетная          Низкий доход  \n",
       "21422       Многодетная         Высокий доход  \n",
       "21423        Малодетная          Низкий доход  \n",
       "\n",
       "[21424 rows x 15 columns]"
      ]
     },
     "execution_count": 60,
     "metadata": {},
     "output_type": "execute_result"
    }
   ],
   "source": [
    "data"
   ]
  },
  {
   "cell_type": "markdown",
   "metadata": {},
   "source": [
    "### Вывод"
   ]
  },
  {
   "cell_type": "markdown",
   "metadata": {},
   "source": [
    "**Выявление дополнительных категорий может помочь в дальнейшем анализе и выявления корреляции в данных.**"
   ]
  },
  {
   "cell_type": "markdown",
   "metadata": {},
   "source": [
    "### Шаг 3. Ответьте на вопросы"
   ]
  },
  {
   "cell_type": "markdown",
   "metadata": {},
   "source": [
    "- Есть ли зависимость между наличием детей и возвратом кредита в срок?"
   ]
  },
  {
   "cell_type": "code",
   "execution_count": 61,
   "metadata": {},
   "outputs": [],
   "source": [
    "data_children_corr = data[['children_category', 'debt']]\n",
    "data_children_corr = data_children_corr.groupby(['children_category']).agg({'debt':['count', 'sum']})"
   ]
  },
  {
   "cell_type": "code",
   "execution_count": 62,
   "metadata": {},
   "outputs": [
    {
     "data": {
      "text/html": [
       "<div>\n",
       "<style scoped>\n",
       "    .dataframe tbody tr th:only-of-type {\n",
       "        vertical-align: middle;\n",
       "    }\n",
       "\n",
       "    .dataframe tbody tr th {\n",
       "        vertical-align: top;\n",
       "    }\n",
       "\n",
       "    .dataframe thead tr th {\n",
       "        text-align: left;\n",
       "    }\n",
       "\n",
       "    .dataframe thead tr:last-of-type th {\n",
       "        text-align: right;\n",
       "    }\n",
       "</style>\n",
       "<table border=\"1\" class=\"dataframe\">\n",
       "  <thead>\n",
       "    <tr>\n",
       "      <th></th>\n",
       "      <th colspan=\"2\" halign=\"left\">debt</th>\n",
       "      <th>correlation</th>\n",
       "    </tr>\n",
       "    <tr>\n",
       "      <th></th>\n",
       "      <th>count</th>\n",
       "      <th>sum</th>\n",
       "      <th></th>\n",
       "    </tr>\n",
       "    <tr>\n",
       "      <th>children_category</th>\n",
       "      <th></th>\n",
       "      <th></th>\n",
       "      <th></th>\n",
       "    </tr>\n",
       "  </thead>\n",
       "  <tbody>\n",
       "    <tr>\n",
       "      <th>Бездетная</th>\n",
       "      <td>14080</td>\n",
       "      <td>1058</td>\n",
       "      <td>0.075142</td>\n",
       "    </tr>\n",
       "    <tr>\n",
       "      <th>Малодетная</th>\n",
       "      <td>6966</td>\n",
       "      <td>644</td>\n",
       "      <td>0.092449</td>\n",
       "    </tr>\n",
       "    <tr>\n",
       "      <th>Многодетная</th>\n",
       "      <td>378</td>\n",
       "      <td>31</td>\n",
       "      <td>0.082011</td>\n",
       "    </tr>\n",
       "  </tbody>\n",
       "</table>\n",
       "</div>"
      ],
      "text/plain": [
       "                    debt       correlation\n",
       "                   count   sum            \n",
       "children_category                         \n",
       "Бездетная          14080  1058    0.075142\n",
       "Малодетная          6966   644    0.092449\n",
       "Многодетная          378    31    0.082011"
      ]
     },
     "execution_count": 62,
     "metadata": {},
     "output_type": "execute_result"
    }
   ],
   "source": [
    "data_children_corr['correlation'] = data_children_corr['debt']['sum'] / data_children_corr['debt']['count']\n",
    "data_children_corr"
   ]
  },
  {
   "cell_type": "markdown",
   "metadata": {},
   "source": [
    "### Вывод"
   ]
  },
  {
   "cell_type": "markdown",
   "metadata": {},
   "source": [
    "Выявление соотношения невозвращенных к совокупному числу по категории не показывет четкой линейной зависимости между наличием детей и возвратом кредита в срок.\n",
    "Однако семьи с детьми имеют меньший процент возвратов, в соотношении со своей подгатегорий, однако разница составляет 1% и 2%"
   ]
  },
  {
   "cell_type": "markdown",
   "metadata": {},
   "source": [
    "- Есть ли зависимость между семейным положением и возвратом кредита в срок?"
   ]
  },
  {
   "cell_type": "code",
   "execution_count": 63,
   "metadata": {},
   "outputs": [
    {
     "data": {
      "text/html": [
       "<div>\n",
       "<style scoped>\n",
       "    .dataframe tbody tr th:only-of-type {\n",
       "        vertical-align: middle;\n",
       "    }\n",
       "\n",
       "    .dataframe tbody tr th {\n",
       "        vertical-align: top;\n",
       "    }\n",
       "\n",
       "    .dataframe thead tr th {\n",
       "        text-align: left;\n",
       "    }\n",
       "\n",
       "    .dataframe thead tr:last-of-type th {\n",
       "        text-align: right;\n",
       "    }\n",
       "</style>\n",
       "<table border=\"1\" class=\"dataframe\">\n",
       "  <thead>\n",
       "    <tr>\n",
       "      <th></th>\n",
       "      <th colspan=\"2\" halign=\"left\">debt</th>\n",
       "      <th>correlation</th>\n",
       "    </tr>\n",
       "    <tr>\n",
       "      <th></th>\n",
       "      <th>count</th>\n",
       "      <th>sum</th>\n",
       "      <th></th>\n",
       "    </tr>\n",
       "    <tr>\n",
       "      <th>family_status</th>\n",
       "      <th></th>\n",
       "      <th></th>\n",
       "      <th></th>\n",
       "    </tr>\n",
       "  </thead>\n",
       "  <tbody>\n",
       "    <tr>\n",
       "      <th>Не женат / не замужем</th>\n",
       "      <td>2797</td>\n",
       "      <td>273</td>\n",
       "      <td>0.097605</td>\n",
       "    </tr>\n",
       "    <tr>\n",
       "      <th>в разводе</th>\n",
       "      <td>1185</td>\n",
       "      <td>85</td>\n",
       "      <td>0.071730</td>\n",
       "    </tr>\n",
       "    <tr>\n",
       "      <th>вдовец / вдова</th>\n",
       "      <td>955</td>\n",
       "      <td>62</td>\n",
       "      <td>0.064921</td>\n",
       "    </tr>\n",
       "    <tr>\n",
       "      <th>гражданский брак</th>\n",
       "      <td>4156</td>\n",
       "      <td>386</td>\n",
       "      <td>0.092878</td>\n",
       "    </tr>\n",
       "    <tr>\n",
       "      <th>женат / замужем</th>\n",
       "      <td>12331</td>\n",
       "      <td>927</td>\n",
       "      <td>0.075176</td>\n",
       "    </tr>\n",
       "  </tbody>\n",
       "</table>\n",
       "</div>"
      ],
      "text/plain": [
       "                        debt      correlation\n",
       "                       count  sum            \n",
       "family_status                                \n",
       "Не женат / не замужем   2797  273    0.097605\n",
       "в разводе               1185   85    0.071730\n",
       "вдовец / вдова           955   62    0.064921\n",
       "гражданский брак        4156  386    0.092878\n",
       "женат / замужем        12331  927    0.075176"
      ]
     },
     "execution_count": 63,
     "metadata": {},
     "output_type": "execute_result"
    }
   ],
   "source": [
    "data_family_corr = data[['family_status', 'debt']]\n",
    "data_family_corr = data_family_corr.groupby(['family_status']).agg({'debt':['count', 'sum']})\n",
    "data_family_corr['correlation'] = data_family_corr['debt']['sum'] / data_family_corr['debt']['count']\n",
    "data_family_corr"
   ]
  },
  {
   "cell_type": "markdown",
   "metadata": {},
   "source": [
    "### Вывод"
   ]
  },
  {
   "cell_type": "markdown",
   "metadata": {},
   "source": [
    "В данном случае я вижу только, что категории, которые возможно находятся в более сложных экономических условиях:\n",
    "вдовец/вдова - в следствие потери супруга/супруги более щепетильны в финансовых вопросах\n",
    "в разводе - возможно из за раздела имущества или наличия обязанности выплачивать алименты так же более склонны возвращать кредит в срок."
   ]
  },
  {
   "cell_type": "markdown",
   "metadata": {},
   "source": [
    "- Есть ли зависимость между уровнем дохода и возвратом кредита в срок?"
   ]
  },
  {
   "cell_type": "code",
   "execution_count": 64,
   "metadata": {},
   "outputs": [
    {
     "data": {
      "text/html": [
       "<div>\n",
       "<style scoped>\n",
       "    .dataframe tbody tr th:only-of-type {\n",
       "        vertical-align: middle;\n",
       "    }\n",
       "\n",
       "    .dataframe tbody tr th {\n",
       "        vertical-align: top;\n",
       "    }\n",
       "\n",
       "    .dataframe thead tr th {\n",
       "        text-align: left;\n",
       "    }\n",
       "\n",
       "    .dataframe thead tr:last-of-type th {\n",
       "        text-align: right;\n",
       "    }\n",
       "</style>\n",
       "<table border=\"1\" class=\"dataframe\">\n",
       "  <thead>\n",
       "    <tr>\n",
       "      <th></th>\n",
       "      <th colspan=\"2\" halign=\"left\">debt</th>\n",
       "      <th>correlation</th>\n",
       "    </tr>\n",
       "    <tr>\n",
       "      <th></th>\n",
       "      <th>count</th>\n",
       "      <th>sum</th>\n",
       "      <th></th>\n",
       "    </tr>\n",
       "    <tr>\n",
       "      <th>total_income_category</th>\n",
       "      <th></th>\n",
       "      <th></th>\n",
       "      <th></th>\n",
       "    </tr>\n",
       "  </thead>\n",
       "  <tbody>\n",
       "    <tr>\n",
       "      <th>Высокий доход</th>\n",
       "      <td>4247</td>\n",
       "      <td>298</td>\n",
       "      <td>0.070167</td>\n",
       "    </tr>\n",
       "    <tr>\n",
       "      <th>Низкий доход</th>\n",
       "      <td>4440</td>\n",
       "      <td>353</td>\n",
       "      <td>0.079505</td>\n",
       "    </tr>\n",
       "    <tr>\n",
       "      <th>Средний доход</th>\n",
       "      <td>12737</td>\n",
       "      <td>1082</td>\n",
       "      <td>0.084949</td>\n",
       "    </tr>\n",
       "  </tbody>\n",
       "</table>\n",
       "</div>"
      ],
      "text/plain": [
       "                        debt       correlation\n",
       "                       count   sum            \n",
       "total_income_category                         \n",
       "Высокий доход           4247   298    0.070167\n",
       "Низкий доход            4440   353    0.079505\n",
       "Средний доход          12737  1082    0.084949"
      ]
     },
     "execution_count": 64,
     "metadata": {},
     "output_type": "execute_result"
    }
   ],
   "source": [
    "data_income_corr = data[['total_income_category', 'debt']]\n",
    "data_income_corr = data_income_corr.groupby(['total_income_category']).agg({'debt':['count', 'sum']})\n",
    "data_income_corr['correlation'] = data_income_corr['debt']['sum'] / data_income_corr['debt']['count']\n",
    "data_income_corr"
   ]
  },
  {
   "cell_type": "markdown",
   "metadata": {},
   "source": [
    "### Вывод"
   ]
  },
  {
   "cell_type": "markdown",
   "metadata": {},
   "source": [
    "В данном случае можно увидеть прямую зависимость между уровнем доходов и возвратом кредита в срок.\n",
    "Возможно, если выделить больше категорий данная зависимость будет еще наглядней."
   ]
  },
  {
   "cell_type": "markdown",
   "metadata": {},
   "source": [
    "- Как разные цели кредита влияют на его возврат в срок?"
   ]
  },
  {
   "cell_type": "code",
   "execution_count": 65,
   "metadata": {},
   "outputs": [
    {
     "data": {
      "text/html": [
       "<div>\n",
       "<style scoped>\n",
       "    .dataframe tbody tr th:only-of-type {\n",
       "        vertical-align: middle;\n",
       "    }\n",
       "\n",
       "    .dataframe tbody tr th {\n",
       "        vertical-align: top;\n",
       "    }\n",
       "\n",
       "    .dataframe thead tr th {\n",
       "        text-align: left;\n",
       "    }\n",
       "\n",
       "    .dataframe thead tr:last-of-type th {\n",
       "        text-align: right;\n",
       "    }\n",
       "</style>\n",
       "<table border=\"1\" class=\"dataframe\">\n",
       "  <thead>\n",
       "    <tr>\n",
       "      <th></th>\n",
       "      <th colspan=\"2\" halign=\"left\">debt</th>\n",
       "      <th>correlation</th>\n",
       "    </tr>\n",
       "    <tr>\n",
       "      <th></th>\n",
       "      <th>count</th>\n",
       "      <th>sum</th>\n",
       "      <th></th>\n",
       "    </tr>\n",
       "    <tr>\n",
       "      <th>purpose_category</th>\n",
       "      <th></th>\n",
       "      <th></th>\n",
       "      <th></th>\n",
       "    </tr>\n",
       "  </thead>\n",
       "  <tbody>\n",
       "    <tr>\n",
       "      <th>автомобиль</th>\n",
       "      <td>4293</td>\n",
       "      <td>400</td>\n",
       "      <td>0.093175</td>\n",
       "    </tr>\n",
       "    <tr>\n",
       "      <th>недвижимость</th>\n",
       "      <td>10793</td>\n",
       "      <td>779</td>\n",
       "      <td>0.072176</td>\n",
       "    </tr>\n",
       "    <tr>\n",
       "      <th>образование</th>\n",
       "      <td>4004</td>\n",
       "      <td>370</td>\n",
       "      <td>0.092408</td>\n",
       "    </tr>\n",
       "    <tr>\n",
       "      <th>свадьба</th>\n",
       "      <td>2334</td>\n",
       "      <td>184</td>\n",
       "      <td>0.078835</td>\n",
       "    </tr>\n",
       "  </tbody>\n",
       "</table>\n",
       "</div>"
      ],
      "text/plain": [
       "                   debt      correlation\n",
       "                  count  sum            \n",
       "purpose_category                        \n",
       "автомобиль         4293  400    0.093175\n",
       "недвижимость      10793  779    0.072176\n",
       "образование        4004  370    0.092408\n",
       "свадьба            2334  184    0.078835"
      ]
     },
     "execution_count": 65,
     "metadata": {},
     "output_type": "execute_result"
    }
   ],
   "source": [
    "data_purpose_corr = data[['purpose_category', 'debt']]\n",
    "data_purpose_corr = data_purpose_corr.groupby(['purpose_category']).agg({'debt':['count', 'sum']})\n",
    "data_purpose_corr['correlation'] = data_purpose_corr['debt']['sum'] / data_purpose_corr['debt']['count']\n",
    "data_purpose_corr"
   ]
  },
  {
   "cell_type": "markdown",
   "metadata": {},
   "source": [
    "### Вывод"
   ]
  },
  {
   "cell_type": "markdown",
   "metadata": {},
   "source": [
    "В данном случае, возможно, кредитные категории, которые как бы \"парные\" возвращаются лучше. В случае свадьбы - это совместное мероприятие, а необходимость покупки собственного жилья связанно с расширением семьи."
   ]
  },
  {
   "cell_type": "markdown",
   "metadata": {},
   "source": [
    "- [х]  определены пропущенные значения;\n",
    "- [х]  заполнены пропущенные значения;\n",
    "- [х]  есть пояснение, какие пропущенные значения обнаружены;\n",
    "- [х]  описаны возможные причины появления пропусков в данных;\n",
    "- [х]  объяснено, по какому принципу заполнены пропуски;\n",
    "- [х]  заменен вещественный тип данных на целочисленный;\n",
    "- [х]  есть пояснение, какой метод используется для изменения типа данных и почему;\n",
    "- [х]  удалены дубликаты;\n",
    "- [х]  есть пояснение, какой метод используется для поиска и удаления дубликатов;\n",
    "- [х]  описаны возможные причины появления дубликатов в данных;\n",
    "- [х]  выделены леммы в значениях столбца с целями получения кредита;\n",
    "- [х]  описан процесс лемматизации;\n",
    "- [х]  данные категоризированы;\n",
    "- [х]  есть объяснение принципа категоризации данных;\n",
    "- [х]  есть ответ на вопрос: \"Есть ли зависимость между наличием детей и возвратом кредита в срок?\";\n",
    "- [х]  есть ответ на вопрос: \"Есть ли зависимость между семейным положением и возвратом кредита в срок?\";\n",
    "- [х]  есть ответ на вопрос: \"Есть ли зависимость между уровнем дохода и возвратом кредита в срок?\";\n",
    "- [х]  есть ответ на вопрос: \"Как разные цели кредита влияют на его возврат в срок?\";"
   ]
  }
 ],
 "metadata": {
  "kernelspec": {
   "display_name": "Python 3",
   "language": "python",
   "name": "python3"
  },
  "language_info": {
   "codemirror_mode": {
    "name": "ipython",
    "version": 3
   },
   "file_extension": ".py",
   "mimetype": "text/x-python",
   "name": "python",
   "nbconvert_exporter": "python",
   "pygments_lexer": "ipython3",
   "version": "3.8.8"
  },
  "toc": {
   "base_numbering": 1,
   "nav_menu": {},
   "number_sections": true,
   "sideBar": true,
   "skip_h1_title": false,
   "title_cell": "Table of Contents",
   "title_sidebar": "Contents",
   "toc_cell": false,
   "toc_position": {},
   "toc_section_display": true,
   "toc_window_display": false
  }
 },
 "nbformat": 4,
 "nbformat_minor": 2
}
