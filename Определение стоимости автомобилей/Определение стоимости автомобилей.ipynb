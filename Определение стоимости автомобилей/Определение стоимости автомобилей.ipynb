{
 "cells": [
  {
   "cell_type": "code",
   "execution_count": 2,
   "id": "51c06a9e",
   "metadata": {},
   "outputs": [],
   "source": [
    "import pandas as pd\n",
    "import numpy as np\n",
    "import random\n",
    "import matplotlib.pyplot as plt\n",
    "import seaborn as sns\n",
    "#Модели\n",
    "import lightgbm as lgb\n",
    "from sklearn.linear_model import LinearRegression\n",
    "from sklearn.ensemble import RandomForestRegressor\n",
    "from catboost import Pool, CatBoostRegressor\n",
    "from lightgbm import LGBMRegressor\n",
    "#sklearn\n",
    "from sklearn.preprocessing import StandardScaler\n",
    "from sklearn.model_selection import train_test_split\n",
    "from sklearn.metrics import r2_score\n",
    "from sklearn.metrics import f1_score\n",
    "from sklearn.utils import shuffle\n",
    "from sklearn.metrics import roc_auc_score\n",
    "from sklearn.metrics import mean_squared_error\n",
    "from sklearn.preprocessing import OrdinalEncoder\n",
    "from sklearn.model_selection import cross_val_score\n",
    "from sklearn.metrics import fbeta_score, make_scorer\n",
    "from sklearn.model_selection import RandomizedSearchCV\n",
    "from sklearn.model_selection import RepeatedKFold\n",
    "\n",
    "import warnings"
   ]
  },
  {
   "cell_type": "code",
   "execution_count": 3,
   "id": "5f5fd90c",
   "metadata": {},
   "outputs": [],
   "source": [
    "warnings.filterwarnings(\"ignore\")\n",
    "pd.options.mode.chained_assignment = None"
   ]
  },
  {
   "cell_type": "markdown",
   "id": "947808fe",
   "metadata": {},
   "source": [
    "## Подготовка данных"
   ]
  },
  {
   "cell_type": "code",
   "execution_count": 4,
   "id": "18048122",
   "metadata": {
    "scrolled": true
   },
   "outputs": [
    {
     "data": {
      "text/html": [
       "<div>\n",
       "<style scoped>\n",
       "    .dataframe tbody tr th:only-of-type {\n",
       "        vertical-align: middle;\n",
       "    }\n",
       "\n",
       "    .dataframe tbody tr th {\n",
       "        vertical-align: top;\n",
       "    }\n",
       "\n",
       "    .dataframe thead th {\n",
       "        text-align: right;\n",
       "    }\n",
       "</style>\n",
       "<table border=\"1\" class=\"dataframe\">\n",
       "  <thead>\n",
       "    <tr style=\"text-align: right;\">\n",
       "      <th></th>\n",
       "      <th>DateCrawled</th>\n",
       "      <th>Price</th>\n",
       "      <th>VehicleType</th>\n",
       "      <th>RegistrationYear</th>\n",
       "      <th>Gearbox</th>\n",
       "      <th>Power</th>\n",
       "      <th>Model</th>\n",
       "      <th>Kilometer</th>\n",
       "      <th>RegistrationMonth</th>\n",
       "      <th>FuelType</th>\n",
       "      <th>Brand</th>\n",
       "      <th>NotRepaired</th>\n",
       "      <th>DateCreated</th>\n",
       "      <th>NumberOfPictures</th>\n",
       "      <th>PostalCode</th>\n",
       "      <th>LastSeen</th>\n",
       "    </tr>\n",
       "  </thead>\n",
       "  <tbody>\n",
       "    <tr>\n",
       "      <th>0</th>\n",
       "      <td>2016-03-24 11:52:17</td>\n",
       "      <td>480</td>\n",
       "      <td>NaN</td>\n",
       "      <td>1993</td>\n",
       "      <td>manual</td>\n",
       "      <td>0</td>\n",
       "      <td>golf</td>\n",
       "      <td>150000</td>\n",
       "      <td>0</td>\n",
       "      <td>petrol</td>\n",
       "      <td>volkswagen</td>\n",
       "      <td>NaN</td>\n",
       "      <td>2016-03-24 00:00:00</td>\n",
       "      <td>0</td>\n",
       "      <td>70435</td>\n",
       "      <td>2016-04-07 03:16:57</td>\n",
       "    </tr>\n",
       "    <tr>\n",
       "      <th>1</th>\n",
       "      <td>2016-03-24 10:58:45</td>\n",
       "      <td>18300</td>\n",
       "      <td>coupe</td>\n",
       "      <td>2011</td>\n",
       "      <td>manual</td>\n",
       "      <td>190</td>\n",
       "      <td>NaN</td>\n",
       "      <td>125000</td>\n",
       "      <td>5</td>\n",
       "      <td>gasoline</td>\n",
       "      <td>audi</td>\n",
       "      <td>yes</td>\n",
       "      <td>2016-03-24 00:00:00</td>\n",
       "      <td>0</td>\n",
       "      <td>66954</td>\n",
       "      <td>2016-04-07 01:46:50</td>\n",
       "    </tr>\n",
       "    <tr>\n",
       "      <th>2</th>\n",
       "      <td>2016-03-14 12:52:21</td>\n",
       "      <td>9800</td>\n",
       "      <td>suv</td>\n",
       "      <td>2004</td>\n",
       "      <td>auto</td>\n",
       "      <td>163</td>\n",
       "      <td>grand</td>\n",
       "      <td>125000</td>\n",
       "      <td>8</td>\n",
       "      <td>gasoline</td>\n",
       "      <td>jeep</td>\n",
       "      <td>NaN</td>\n",
       "      <td>2016-03-14 00:00:00</td>\n",
       "      <td>0</td>\n",
       "      <td>90480</td>\n",
       "      <td>2016-04-05 12:47:46</td>\n",
       "    </tr>\n",
       "    <tr>\n",
       "      <th>3</th>\n",
       "      <td>2016-03-17 16:54:04</td>\n",
       "      <td>1500</td>\n",
       "      <td>small</td>\n",
       "      <td>2001</td>\n",
       "      <td>manual</td>\n",
       "      <td>75</td>\n",
       "      <td>golf</td>\n",
       "      <td>150000</td>\n",
       "      <td>6</td>\n",
       "      <td>petrol</td>\n",
       "      <td>volkswagen</td>\n",
       "      <td>no</td>\n",
       "      <td>2016-03-17 00:00:00</td>\n",
       "      <td>0</td>\n",
       "      <td>91074</td>\n",
       "      <td>2016-03-17 17:40:17</td>\n",
       "    </tr>\n",
       "    <tr>\n",
       "      <th>4</th>\n",
       "      <td>2016-03-31 17:25:20</td>\n",
       "      <td>3600</td>\n",
       "      <td>small</td>\n",
       "      <td>2008</td>\n",
       "      <td>manual</td>\n",
       "      <td>69</td>\n",
       "      <td>fabia</td>\n",
       "      <td>90000</td>\n",
       "      <td>7</td>\n",
       "      <td>gasoline</td>\n",
       "      <td>skoda</td>\n",
       "      <td>no</td>\n",
       "      <td>2016-03-31 00:00:00</td>\n",
       "      <td>0</td>\n",
       "      <td>60437</td>\n",
       "      <td>2016-04-06 10:17:21</td>\n",
       "    </tr>\n",
       "  </tbody>\n",
       "</table>\n",
       "</div>"
      ],
      "text/plain": [
       "           DateCrawled  Price VehicleType  RegistrationYear Gearbox  Power  \\\n",
       "0  2016-03-24 11:52:17    480         NaN              1993  manual      0   \n",
       "1  2016-03-24 10:58:45  18300       coupe              2011  manual    190   \n",
       "2  2016-03-14 12:52:21   9800         suv              2004    auto    163   \n",
       "3  2016-03-17 16:54:04   1500       small              2001  manual     75   \n",
       "4  2016-03-31 17:25:20   3600       small              2008  manual     69   \n",
       "\n",
       "   Model  Kilometer  RegistrationMonth  FuelType       Brand NotRepaired  \\\n",
       "0   golf     150000                  0    petrol  volkswagen         NaN   \n",
       "1    NaN     125000                  5  gasoline        audi         yes   \n",
       "2  grand     125000                  8  gasoline        jeep         NaN   \n",
       "3   golf     150000                  6    petrol  volkswagen          no   \n",
       "4  fabia      90000                  7  gasoline       skoda          no   \n",
       "\n",
       "           DateCreated  NumberOfPictures  PostalCode             LastSeen  \n",
       "0  2016-03-24 00:00:00                 0       70435  2016-04-07 03:16:57  \n",
       "1  2016-03-24 00:00:00                 0       66954  2016-04-07 01:46:50  \n",
       "2  2016-03-14 00:00:00                 0       90480  2016-04-05 12:47:46  \n",
       "3  2016-03-17 00:00:00                 0       91074  2016-03-17 17:40:17  \n",
       "4  2016-03-31 00:00:00                 0       60437  2016-04-06 10:17:21  "
      ]
     },
     "execution_count": 4,
     "metadata": {},
     "output_type": "execute_result"
    }
   ],
   "source": [
    "###data = pd.read_csv('C:/Users/Mikhail/autos.csv')\n",
    "try:\n",
    "    data = pd.read_csv('/datasets/autos.csv')\n",
    "except:\n",
    "    data = pd.read_csv('C:/Users/Mikhail/оформление/Определение стоимости автомобилей/autos.csv')\n",
    "data.head()"
   ]
  },
  {
   "cell_type": "code",
   "execution_count": 5,
   "id": "6cd6187f",
   "metadata": {},
   "outputs": [
    {
     "data": {
      "text/html": [
       "<div>\n",
       "<style scoped>\n",
       "    .dataframe tbody tr th:only-of-type {\n",
       "        vertical-align: middle;\n",
       "    }\n",
       "\n",
       "    .dataframe tbody tr th {\n",
       "        vertical-align: top;\n",
       "    }\n",
       "\n",
       "    .dataframe thead th {\n",
       "        text-align: right;\n",
       "    }\n",
       "</style>\n",
       "<table border=\"1\" class=\"dataframe\">\n",
       "  <thead>\n",
       "    <tr style=\"text-align: right;\">\n",
       "      <th></th>\n",
       "      <th>DateCrawled</th>\n",
       "      <th>Price</th>\n",
       "      <th>VehicleType</th>\n",
       "      <th>RegistrationYear</th>\n",
       "      <th>Gearbox</th>\n",
       "      <th>Power</th>\n",
       "      <th>Model</th>\n",
       "      <th>Kilometer</th>\n",
       "      <th>RegistrationMonth</th>\n",
       "      <th>FuelType</th>\n",
       "      <th>Brand</th>\n",
       "      <th>NotRepaired</th>\n",
       "      <th>DateCreated</th>\n",
       "      <th>NumberOfPictures</th>\n",
       "      <th>PostalCode</th>\n",
       "      <th>LastSeen</th>\n",
       "    </tr>\n",
       "  </thead>\n",
       "  <tbody>\n",
       "    <tr>\n",
       "      <th>354364</th>\n",
       "      <td>2016-03-21 09:50:58</td>\n",
       "      <td>0</td>\n",
       "      <td>NaN</td>\n",
       "      <td>2005</td>\n",
       "      <td>manual</td>\n",
       "      <td>0</td>\n",
       "      <td>colt</td>\n",
       "      <td>150000</td>\n",
       "      <td>7</td>\n",
       "      <td>petrol</td>\n",
       "      <td>mitsubishi</td>\n",
       "      <td>yes</td>\n",
       "      <td>2016-03-21 00:00:00</td>\n",
       "      <td>0</td>\n",
       "      <td>2694</td>\n",
       "      <td>2016-03-21 10:42:49</td>\n",
       "    </tr>\n",
       "    <tr>\n",
       "      <th>354365</th>\n",
       "      <td>2016-03-14 17:48:27</td>\n",
       "      <td>2200</td>\n",
       "      <td>NaN</td>\n",
       "      <td>2005</td>\n",
       "      <td>NaN</td>\n",
       "      <td>0</td>\n",
       "      <td>NaN</td>\n",
       "      <td>20000</td>\n",
       "      <td>1</td>\n",
       "      <td>NaN</td>\n",
       "      <td>sonstige_autos</td>\n",
       "      <td>NaN</td>\n",
       "      <td>2016-03-14 00:00:00</td>\n",
       "      <td>0</td>\n",
       "      <td>39576</td>\n",
       "      <td>2016-04-06 00:46:52</td>\n",
       "    </tr>\n",
       "    <tr>\n",
       "      <th>354366</th>\n",
       "      <td>2016-03-05 19:56:21</td>\n",
       "      <td>1199</td>\n",
       "      <td>convertible</td>\n",
       "      <td>2000</td>\n",
       "      <td>auto</td>\n",
       "      <td>101</td>\n",
       "      <td>fortwo</td>\n",
       "      <td>125000</td>\n",
       "      <td>3</td>\n",
       "      <td>petrol</td>\n",
       "      <td>smart</td>\n",
       "      <td>no</td>\n",
       "      <td>2016-03-05 00:00:00</td>\n",
       "      <td>0</td>\n",
       "      <td>26135</td>\n",
       "      <td>2016-03-11 18:17:12</td>\n",
       "    </tr>\n",
       "    <tr>\n",
       "      <th>354367</th>\n",
       "      <td>2016-03-19 18:57:12</td>\n",
       "      <td>9200</td>\n",
       "      <td>bus</td>\n",
       "      <td>1996</td>\n",
       "      <td>manual</td>\n",
       "      <td>102</td>\n",
       "      <td>transporter</td>\n",
       "      <td>150000</td>\n",
       "      <td>3</td>\n",
       "      <td>gasoline</td>\n",
       "      <td>volkswagen</td>\n",
       "      <td>no</td>\n",
       "      <td>2016-03-19 00:00:00</td>\n",
       "      <td>0</td>\n",
       "      <td>87439</td>\n",
       "      <td>2016-04-07 07:15:26</td>\n",
       "    </tr>\n",
       "    <tr>\n",
       "      <th>354368</th>\n",
       "      <td>2016-03-20 19:41:08</td>\n",
       "      <td>3400</td>\n",
       "      <td>wagon</td>\n",
       "      <td>2002</td>\n",
       "      <td>manual</td>\n",
       "      <td>100</td>\n",
       "      <td>golf</td>\n",
       "      <td>150000</td>\n",
       "      <td>6</td>\n",
       "      <td>gasoline</td>\n",
       "      <td>volkswagen</td>\n",
       "      <td>NaN</td>\n",
       "      <td>2016-03-20 00:00:00</td>\n",
       "      <td>0</td>\n",
       "      <td>40764</td>\n",
       "      <td>2016-03-24 12:45:21</td>\n",
       "    </tr>\n",
       "  </tbody>\n",
       "</table>\n",
       "</div>"
      ],
      "text/plain": [
       "                DateCrawled  Price  VehicleType  RegistrationYear Gearbox  \\\n",
       "354364  2016-03-21 09:50:58      0          NaN              2005  manual   \n",
       "354365  2016-03-14 17:48:27   2200          NaN              2005     NaN   \n",
       "354366  2016-03-05 19:56:21   1199  convertible              2000    auto   \n",
       "354367  2016-03-19 18:57:12   9200          bus              1996  manual   \n",
       "354368  2016-03-20 19:41:08   3400        wagon              2002  manual   \n",
       "\n",
       "        Power        Model  Kilometer  RegistrationMonth  FuelType  \\\n",
       "354364      0         colt     150000                  7    petrol   \n",
       "354365      0          NaN      20000                  1       NaN   \n",
       "354366    101       fortwo     125000                  3    petrol   \n",
       "354367    102  transporter     150000                  3  gasoline   \n",
       "354368    100         golf     150000                  6  gasoline   \n",
       "\n",
       "                 Brand NotRepaired          DateCreated  NumberOfPictures  \\\n",
       "354364      mitsubishi         yes  2016-03-21 00:00:00                 0   \n",
       "354365  sonstige_autos         NaN  2016-03-14 00:00:00                 0   \n",
       "354366           smart          no  2016-03-05 00:00:00                 0   \n",
       "354367      volkswagen          no  2016-03-19 00:00:00                 0   \n",
       "354368      volkswagen         NaN  2016-03-20 00:00:00                 0   \n",
       "\n",
       "        PostalCode             LastSeen  \n",
       "354364        2694  2016-03-21 10:42:49  \n",
       "354365       39576  2016-04-06 00:46:52  \n",
       "354366       26135  2016-03-11 18:17:12  \n",
       "354367       87439  2016-04-07 07:15:26  \n",
       "354368       40764  2016-03-24 12:45:21  "
      ]
     },
     "execution_count": 5,
     "metadata": {},
     "output_type": "execute_result"
    }
   ],
   "source": [
    "data.tail()"
   ]
  },
  {
   "cell_type": "code",
   "execution_count": 6,
   "id": "809df1b1",
   "metadata": {},
   "outputs": [],
   "source": [
    "def miss_sorted(data):\n",
    "    report = data.isna().sum().to_frame()\n",
    "    report = report.rename(columns = {0: 'missing_values'})\n",
    "    report['% of total'] = (report['missing_values'] / data.shape[0]).round(2)\n",
    "    print(report.sort_values(by = 'missing_values', ascending = False))"
   ]
  },
  {
   "cell_type": "code",
   "execution_count": 7,
   "id": "5981c744",
   "metadata": {},
   "outputs": [
    {
     "name": "stdout",
     "output_type": "stream",
     "text": [
      "<class 'pandas.core.frame.DataFrame'>\n",
      "RangeIndex: 354369 entries, 0 to 354368\n",
      "Data columns (total 16 columns):\n",
      " #   Column             Non-Null Count   Dtype \n",
      "---  ------             --------------   ----- \n",
      " 0   DateCrawled        354369 non-null  object\n",
      " 1   Price              354369 non-null  int64 \n",
      " 2   VehicleType        316879 non-null  object\n",
      " 3   RegistrationYear   354369 non-null  int64 \n",
      " 4   Gearbox            334536 non-null  object\n",
      " 5   Power              354369 non-null  int64 \n",
      " 6   Model              334664 non-null  object\n",
      " 7   Kilometer          354369 non-null  int64 \n",
      " 8   RegistrationMonth  354369 non-null  int64 \n",
      " 9   FuelType           321474 non-null  object\n",
      " 10  Brand              354369 non-null  object\n",
      " 11  NotRepaired        283215 non-null  object\n",
      " 12  DateCreated        354369 non-null  object\n",
      " 13  NumberOfPictures   354369 non-null  int64 \n",
      " 14  PostalCode         354369 non-null  int64 \n",
      " 15  LastSeen           354369 non-null  object\n",
      "dtypes: int64(7), object(9)\n",
      "memory usage: 43.3+ MB\n"
     ]
    }
   ],
   "source": [
    "data.info()"
   ]
  },
  {
   "cell_type": "code",
   "execution_count": 8,
   "id": "d7f386cd",
   "metadata": {},
   "outputs": [
    {
     "data": {
      "text/html": [
       "<div>\n",
       "<style scoped>\n",
       "    .dataframe tbody tr th:only-of-type {\n",
       "        vertical-align: middle;\n",
       "    }\n",
       "\n",
       "    .dataframe tbody tr th {\n",
       "        vertical-align: top;\n",
       "    }\n",
       "\n",
       "    .dataframe thead th {\n",
       "        text-align: right;\n",
       "    }\n",
       "</style>\n",
       "<table border=\"1\" class=\"dataframe\">\n",
       "  <thead>\n",
       "    <tr style=\"text-align: right;\">\n",
       "      <th></th>\n",
       "      <th>Price</th>\n",
       "      <th>RegistrationYear</th>\n",
       "      <th>Power</th>\n",
       "      <th>Kilometer</th>\n",
       "      <th>RegistrationMonth</th>\n",
       "      <th>NumberOfPictures</th>\n",
       "      <th>PostalCode</th>\n",
       "    </tr>\n",
       "  </thead>\n",
       "  <tbody>\n",
       "    <tr>\n",
       "      <th>count</th>\n",
       "      <td>354369.000000</td>\n",
       "      <td>354369.000000</td>\n",
       "      <td>354369.000000</td>\n",
       "      <td>354369.000000</td>\n",
       "      <td>354369.000000</td>\n",
       "      <td>354369.0</td>\n",
       "      <td>354369.000000</td>\n",
       "    </tr>\n",
       "    <tr>\n",
       "      <th>mean</th>\n",
       "      <td>4416.656776</td>\n",
       "      <td>2004.234448</td>\n",
       "      <td>110.094337</td>\n",
       "      <td>128211.172535</td>\n",
       "      <td>5.714645</td>\n",
       "      <td>0.0</td>\n",
       "      <td>50508.689087</td>\n",
       "    </tr>\n",
       "    <tr>\n",
       "      <th>std</th>\n",
       "      <td>4514.158514</td>\n",
       "      <td>90.227958</td>\n",
       "      <td>189.850405</td>\n",
       "      <td>37905.341530</td>\n",
       "      <td>3.726421</td>\n",
       "      <td>0.0</td>\n",
       "      <td>25783.096248</td>\n",
       "    </tr>\n",
       "    <tr>\n",
       "      <th>min</th>\n",
       "      <td>0.000000</td>\n",
       "      <td>1000.000000</td>\n",
       "      <td>0.000000</td>\n",
       "      <td>5000.000000</td>\n",
       "      <td>0.000000</td>\n",
       "      <td>0.0</td>\n",
       "      <td>1067.000000</td>\n",
       "    </tr>\n",
       "    <tr>\n",
       "      <th>25%</th>\n",
       "      <td>1050.000000</td>\n",
       "      <td>1999.000000</td>\n",
       "      <td>69.000000</td>\n",
       "      <td>125000.000000</td>\n",
       "      <td>3.000000</td>\n",
       "      <td>0.0</td>\n",
       "      <td>30165.000000</td>\n",
       "    </tr>\n",
       "    <tr>\n",
       "      <th>50%</th>\n",
       "      <td>2700.000000</td>\n",
       "      <td>2003.000000</td>\n",
       "      <td>105.000000</td>\n",
       "      <td>150000.000000</td>\n",
       "      <td>6.000000</td>\n",
       "      <td>0.0</td>\n",
       "      <td>49413.000000</td>\n",
       "    </tr>\n",
       "    <tr>\n",
       "      <th>75%</th>\n",
       "      <td>6400.000000</td>\n",
       "      <td>2008.000000</td>\n",
       "      <td>143.000000</td>\n",
       "      <td>150000.000000</td>\n",
       "      <td>9.000000</td>\n",
       "      <td>0.0</td>\n",
       "      <td>71083.000000</td>\n",
       "    </tr>\n",
       "    <tr>\n",
       "      <th>max</th>\n",
       "      <td>20000.000000</td>\n",
       "      <td>9999.000000</td>\n",
       "      <td>20000.000000</td>\n",
       "      <td>150000.000000</td>\n",
       "      <td>12.000000</td>\n",
       "      <td>0.0</td>\n",
       "      <td>99998.000000</td>\n",
       "    </tr>\n",
       "  </tbody>\n",
       "</table>\n",
       "</div>"
      ],
      "text/plain": [
       "               Price  RegistrationYear          Power      Kilometer  \\\n",
       "count  354369.000000     354369.000000  354369.000000  354369.000000   \n",
       "mean     4416.656776       2004.234448     110.094337  128211.172535   \n",
       "std      4514.158514         90.227958     189.850405   37905.341530   \n",
       "min         0.000000       1000.000000       0.000000    5000.000000   \n",
       "25%      1050.000000       1999.000000      69.000000  125000.000000   \n",
       "50%      2700.000000       2003.000000     105.000000  150000.000000   \n",
       "75%      6400.000000       2008.000000     143.000000  150000.000000   \n",
       "max     20000.000000       9999.000000   20000.000000  150000.000000   \n",
       "\n",
       "       RegistrationMonth  NumberOfPictures     PostalCode  \n",
       "count      354369.000000          354369.0  354369.000000  \n",
       "mean            5.714645               0.0   50508.689087  \n",
       "std             3.726421               0.0   25783.096248  \n",
       "min             0.000000               0.0    1067.000000  \n",
       "25%             3.000000               0.0   30165.000000  \n",
       "50%             6.000000               0.0   49413.000000  \n",
       "75%             9.000000               0.0   71083.000000  \n",
       "max            12.000000               0.0   99998.000000  "
      ]
     },
     "execution_count": 8,
     "metadata": {},
     "output_type": "execute_result"
    }
   ],
   "source": [
    "data.describe()"
   ]
  },
  {
   "cell_type": "code",
   "execution_count": 9,
   "id": "775946c2",
   "metadata": {},
   "outputs": [
    {
     "name": "stdout",
     "output_type": "stream",
     "text": [
      "                   missing_values  % of total\n",
      "NotRepaired                 71154        0.20\n",
      "VehicleType                 37490        0.11\n",
      "FuelType                    32895        0.09\n",
      "Gearbox                     19833        0.06\n",
      "Model                       19705        0.06\n",
      "DateCrawled                     0        0.00\n",
      "Price                           0        0.00\n",
      "RegistrationYear                0        0.00\n",
      "Power                           0        0.00\n",
      "Kilometer                       0        0.00\n",
      "RegistrationMonth               0        0.00\n",
      "Brand                           0        0.00\n",
      "DateCreated                     0        0.00\n",
      "NumberOfPictures                0        0.00\n",
      "PostalCode                      0        0.00\n",
      "LastSeen                        0        0.00\n"
     ]
    }
   ],
   "source": [
    "miss_sorted(data)"
   ]
  },
  {
   "cell_type": "code",
   "execution_count": 10,
   "id": "5f77a2d8",
   "metadata": {
    "scrolled": false
   },
   "outputs": [
    {
     "name": "stdout",
     "output_type": "stream",
     "text": [
      "<class 'pandas.core.frame.DataFrame'>\n",
      "RangeIndex: 354369 entries, 0 to 354368\n",
      "Data columns (total 16 columns):\n",
      " #   Column             Non-Null Count   Dtype \n",
      "---  ------             --------------   ----- \n",
      " 0   DateCrawled        354369 non-null  object\n",
      " 1   Price              354369 non-null  int64 \n",
      " 2   VehicleType        316879 non-null  object\n",
      " 3   RegistrationYear   354369 non-null  int64 \n",
      " 4   Gearbox            334536 non-null  object\n",
      " 5   Power              354369 non-null  int64 \n",
      " 6   Model              334664 non-null  object\n",
      " 7   Kilometer          354369 non-null  int64 \n",
      " 8   RegistrationMonth  354369 non-null  int64 \n",
      " 9   FuelType           321474 non-null  object\n",
      " 10  Brand              354369 non-null  object\n",
      " 11  NotRepaired        283215 non-null  object\n",
      " 12  DateCreated        354369 non-null  object\n",
      " 13  NumberOfPictures   354369 non-null  int64 \n",
      " 14  PostalCode         354369 non-null  int64 \n",
      " 15  LastSeen           354369 non-null  object\n",
      "dtypes: int64(7), object(9)\n",
      "memory usage: 43.3+ MB\n"
     ]
    }
   ],
   "source": [
    "data.info()"
   ]
  },
  {
   "cell_type": "markdown",
   "id": "1ac633eb",
   "metadata": {},
   "source": [
    "1. Нет фотографий - можно убрать столбец\n",
    "2. NotRepaired\\VehicleType\\FuelType\\Gearbox\\Model имеют пропуски.\n",
    "3. sonstige_autos - c нем. другие\n",
    "4. У нас есть категориальный признаки с большим количеством именований"
   ]
  },
  {
   "cell_type": "code",
   "execution_count": 11,
   "id": "a76b3fc6",
   "metadata": {},
   "outputs": [
    {
     "data": {
      "image/png": "[encoded data removed]",
      "text/plain": [
       "<Figure size 432x288 with 1 Axes>"
      ]
     },
     "metadata": {
      "needs_background": "light"
     },
     "output_type": "display_data"
    },
    {
     "data": {
      "image/png": "[encoded data removed]",
      "text/plain": [
       "<Figure size 432x288 with 1 Axes>"
      ]
     },
     "metadata": {
      "needs_background": "light"
     },
     "output_type": "display_data"
    },
    {
     "data": {
      "image/png": "[encoded data removed]",
      "text/plain": [
       "<Figure size 432x288 with 1 Axes>"
      ]
     },
     "metadata": {
      "needs_background": "light"
     },
     "output_type": "display_data"
    }
   ],
   "source": [
    "plot_list = ['Price', 'Power', 'Kilometer']\n",
    "\n",
    "for col in plot_list:\n",
    "    data.boxplot(column=col)\n",
    "    plt.show()"
   ]
  },
  {
   "cell_type": "code",
   "execution_count": 15,
   "id": "4e8e1c62",
   "metadata": {},
   "outputs": [
    {
     "data": {
      "image/png": "[encoded data removed]",
      "text/plain": [
       "<Figure size 1200x800 with 1 Axes>"
      ]
     },
     "metadata": {},
     "output_type": "display_data"
    }
   ],
   "source": [
    "sns.set_style(\"white\")\n",
    "\n",
    "# Import data\n",
    "df = data\n",
    "x1 = df['RegistrationYear']\n",
    "\n",
    "# Plot\n",
    "kwargs = dict(hist_kws={'alpha':.6}, kde_kws={'linewidth':2})\n",
    "\n",
    "plt.figure(figsize=(15,10), dpi= 80)\n",
    "sns.distplot(x1, color=\"dodgerblue\", label=\"Год\")\n",
    "plt.xlabel('Года')\n",
    "plt.legend();\n",
    "plt.title('Год регестрации машины');"
   ]
  },
  {
   "cell_type": "markdown",
   "id": "72cc10b8",
   "metadata": {},
   "source": [
    "1. Машины 50-ых и 60-ых возможно существуют(рариетет и т.д), но машины с регистрацией далее 21года невозможно и их стоит убрать, это выбросы."
   ]
  },
  {
   "cell_type": "code",
   "execution_count": 16,
   "id": "216896d8",
   "metadata": {},
   "outputs": [
    {
     "data": {
      "text/plain": [
       "(354264, 16)"
      ]
     },
     "execution_count": 16,
     "metadata": {},
     "output_type": "execute_result"
    }
   ],
   "source": [
    "data = data.query('RegistrationYear < 2021')\n",
    "data.shape"
   ]
  },
  {
   "cell_type": "code",
   "execution_count": 17,
   "id": "8166b09d",
   "metadata": {},
   "outputs": [
    {
     "data": {
      "text/plain": [
       "DateCrawled          43107\n",
       "Price                43107\n",
       "VehicleType          38291\n",
       "RegistrationYear     43107\n",
       "Gearbox              39405\n",
       "Power                43107\n",
       "Model                39797\n",
       "Kilometer            43107\n",
       "RegistrationMonth    43107\n",
       "FuelType             38572\n",
       "Brand                43107\n",
       "NotRepaired          35391\n",
       "DateCreated          43107\n",
       "NumberOfPictures     43107\n",
       "PostalCode           43107\n",
       "LastSeen             43107\n",
       "dtype: int64"
      ]
     },
     "execution_count": 17,
     "metadata": {},
     "output_type": "execute_result"
    }
   ],
   "source": [
    "data.query('Kilometer < 80000').count()"
   ]
  },
  {
   "cell_type": "code",
   "execution_count": 18,
   "id": "364a84dd",
   "metadata": {},
   "outputs": [
    {
     "data": {
      "text/plain": [
       "DateCrawled          14878\n",
       "Price                14878\n",
       "VehicleType          14444\n",
       "RegistrationYear     14878\n",
       "Gearbox              14671\n",
       "Power                14878\n",
       "Model                14411\n",
       "Kilometer            14878\n",
       "RegistrationMonth    14878\n",
       "FuelType             14459\n",
       "Brand                14878\n",
       "NotRepaired          13886\n",
       "DateCreated          14878\n",
       "NumberOfPictures     14878\n",
       "PostalCode           14878\n",
       "LastSeen             14878\n",
       "dtype: int64"
      ]
     },
     "execution_count": 18,
     "metadata": {},
     "output_type": "execute_result"
    }
   ],
   "source": [
    "data.query('Price > 15000').count()"
   ]
  },
  {
   "cell_type": "code",
   "execution_count": 19,
   "id": "8bd15a5b",
   "metadata": {},
   "outputs": [
    {
     "data": {
      "text/plain": [
       "DateCrawled          10753\n",
       "Price                10753\n",
       "VehicleType           7032\n",
       "RegistrationYear     10753\n",
       "Gearbox               8290\n",
       "Power                10753\n",
       "Model                 8583\n",
       "Kilometer            10753\n",
       "RegistrationMonth    10753\n",
       "FuelType              7333\n",
       "Brand                10753\n",
       "NotRepaired           5482\n",
       "DateCreated          10753\n",
       "NumberOfPictures     10753\n",
       "PostalCode           10753\n",
       "LastSeen             10753\n",
       "dtype: int64"
      ]
     },
     "execution_count": 19,
     "metadata": {},
     "output_type": "execute_result"
    }
   ],
   "source": [
    "data.query('Price == 0').count()"
   ]
  },
  {
   "cell_type": "code",
   "execution_count": 20,
   "id": "ead3facf",
   "metadata": {},
   "outputs": [
    {
     "data": {
      "text/plain": [
       "DateCrawled          97\n",
       "Price                97\n",
       "VehicleType          84\n",
       "RegistrationYear     97\n",
       "Gearbox              93\n",
       "Power                97\n",
       "Model                88\n",
       "Kilometer            97\n",
       "RegistrationMonth    97\n",
       "FuelType             76\n",
       "Brand                97\n",
       "NotRepaired          58\n",
       "DateCreated          97\n",
       "NumberOfPictures     97\n",
       "PostalCode           97\n",
       "LastSeen             97\n",
       "dtype: int64"
      ]
     },
     "execution_count": 20,
     "metadata": {},
     "output_type": "execute_result"
    }
   ],
   "source": [
    "data.query('Power > 2500').count()"
   ]
  },
  {
   "cell_type": "code",
   "execution_count": 21,
   "id": "f9686d3d",
   "metadata": {},
   "outputs": [
    {
     "data": {
      "text/plain": [
       "DateCrawled          40147\n",
       "Price                40147\n",
       "VehicleType          25597\n",
       "RegistrationYear     40147\n",
       "Gearbox              26908\n",
       "Power                40147\n",
       "Model                33885\n",
       "Kilometer            40147\n",
       "RegistrationMonth    40147\n",
       "FuelType             28549\n",
       "Brand                40147\n",
       "NotRepaired          18805\n",
       "DateCreated          40147\n",
       "NumberOfPictures     40147\n",
       "PostalCode           40147\n",
       "LastSeen             40147\n",
       "dtype: int64"
      ]
     },
     "execution_count": 21,
     "metadata": {},
     "output_type": "execute_result"
    }
   ],
   "source": [
    "data.query('Power == 0').count()"
   ]
  },
  {
   "cell_type": "markdown",
   "id": "5460936d",
   "metadata": {},
   "source": [
    "1. Мощность более 2500 только у 99 объектов, их можно отбросить т.к. их доля невероятно мала\n",
    "2. Мощность равная 0 есть у 11% данных, это может быть ошибкой при вводе данных мощности? Заполним рандомными значениями в границах 3 сигм, чтобы не перекосить рапределение одним значением.\n",
    "3. Пробег меньше 80 тыс. км у 12%\n",
    "4. Цена 0 есть у 2,8%, возможно это ошибка ввода данных цены"
   ]
  },
  {
   "cell_type": "code",
   "execution_count": 22,
   "id": "9c0b2f28",
   "metadata": {},
   "outputs": [
    {
     "data": {
      "text/plain": [
       "array([ 54., 179.])"
      ]
     },
     "execution_count": 22,
     "metadata": {},
     "output_type": "execute_result"
    }
   ],
   "source": [
    "np.quantile(data['Power'], q = [0.15, 0.9])"
   ]
  },
  {
   "cell_type": "code",
   "execution_count": 23,
   "id": "fe70d15b",
   "metadata": {},
   "outputs": [],
   "source": [
    "import random\n",
    "\n",
    "data['Power'] = np.where(data['Power'] == 0, np.random.uniform(54, 192, size=len(data)), data['Power'])"
   ]
  },
  {
   "cell_type": "code",
   "execution_count": 24,
   "id": "c3c58d1a",
   "metadata": {},
   "outputs": [
    {
     "data": {
      "text/plain": [
       "DateCrawled          0\n",
       "Price                0\n",
       "VehicleType          0\n",
       "RegistrationYear     0\n",
       "Gearbox              0\n",
       "Power                0\n",
       "Model                0\n",
       "Kilometer            0\n",
       "RegistrationMonth    0\n",
       "FuelType             0\n",
       "Brand                0\n",
       "NotRepaired          0\n",
       "DateCreated          0\n",
       "NumberOfPictures     0\n",
       "PostalCode           0\n",
       "LastSeen             0\n",
       "dtype: int64"
      ]
     },
     "execution_count": 24,
     "metadata": {},
     "output_type": "execute_result"
    }
   ],
   "source": [
    "data.query('Power == 0').count()"
   ]
  },
  {
   "cell_type": "markdown",
   "id": "2e818217",
   "metadata": {},
   "source": [
    "6. Месяц регистрации менее важен, нежели чем год, изначально можно его убрать и рассматривать его потом, в случае расммотрения сезонных явлений.\n",
    "7. Почтовый индекс - PostalCode тоже можно убрать\n",
    "8. LastSeen - Последний просмотр не так важен, если бы это было колиичественной метрикой (общее число просмотров товара), можно было бы посмотреть взаимосвязь.\n",
    "9. DateCreated - тоже можно убрать, рассматривать только в случае рассмотрения гипотезы о сезонности объявлений."
   ]
  },
  {
   "cell_type": "code",
   "execution_count": 25,
   "id": "7281269d",
   "metadata": {},
   "outputs": [],
   "source": [
    "drop_list = ['NumberOfPictures', 'DateCreated', 'LastSeen', 'PostalCode', 'RegistrationMonth', 'DateCrawled']"
   ]
  },
  {
   "cell_type": "code",
   "execution_count": 26,
   "id": "b1f4b193",
   "metadata": {},
   "outputs": [
    {
     "data": {
      "text/html": [
       "<div>\n",
       "<style scoped>\n",
       "    .dataframe tbody tr th:only-of-type {\n",
       "        vertical-align: middle;\n",
       "    }\n",
       "\n",
       "    .dataframe tbody tr th {\n",
       "        vertical-align: top;\n",
       "    }\n",
       "\n",
       "    .dataframe thead th {\n",
       "        text-align: right;\n",
       "    }\n",
       "</style>\n",
       "<table border=\"1\" class=\"dataframe\">\n",
       "  <thead>\n",
       "    <tr style=\"text-align: right;\">\n",
       "      <th></th>\n",
       "      <th>Price</th>\n",
       "      <th>VehicleType</th>\n",
       "      <th>RegistrationYear</th>\n",
       "      <th>Gearbox</th>\n",
       "      <th>Power</th>\n",
       "      <th>Model</th>\n",
       "      <th>Kilometer</th>\n",
       "      <th>FuelType</th>\n",
       "      <th>Brand</th>\n",
       "      <th>NotRepaired</th>\n",
       "    </tr>\n",
       "  </thead>\n",
       "  <tbody>\n",
       "    <tr>\n",
       "      <th>0</th>\n",
       "      <td>480</td>\n",
       "      <td>NaN</td>\n",
       "      <td>1993</td>\n",
       "      <td>manual</td>\n",
       "      <td>113.571685</td>\n",
       "      <td>golf</td>\n",
       "      <td>150000</td>\n",
       "      <td>petrol</td>\n",
       "      <td>volkswagen</td>\n",
       "      <td>NaN</td>\n",
       "    </tr>\n",
       "    <tr>\n",
       "      <th>1</th>\n",
       "      <td>18300</td>\n",
       "      <td>coupe</td>\n",
       "      <td>2011</td>\n",
       "      <td>manual</td>\n",
       "      <td>190.000000</td>\n",
       "      <td>NaN</td>\n",
       "      <td>125000</td>\n",
       "      <td>gasoline</td>\n",
       "      <td>audi</td>\n",
       "      <td>yes</td>\n",
       "    </tr>\n",
       "    <tr>\n",
       "      <th>2</th>\n",
       "      <td>9800</td>\n",
       "      <td>suv</td>\n",
       "      <td>2004</td>\n",
       "      <td>auto</td>\n",
       "      <td>163.000000</td>\n",
       "      <td>grand</td>\n",
       "      <td>125000</td>\n",
       "      <td>gasoline</td>\n",
       "      <td>jeep</td>\n",
       "      <td>NaN</td>\n",
       "    </tr>\n",
       "    <tr>\n",
       "      <th>3</th>\n",
       "      <td>1500</td>\n",
       "      <td>small</td>\n",
       "      <td>2001</td>\n",
       "      <td>manual</td>\n",
       "      <td>75.000000</td>\n",
       "      <td>golf</td>\n",
       "      <td>150000</td>\n",
       "      <td>petrol</td>\n",
       "      <td>volkswagen</td>\n",
       "      <td>no</td>\n",
       "    </tr>\n",
       "    <tr>\n",
       "      <th>4</th>\n",
       "      <td>3600</td>\n",
       "      <td>small</td>\n",
       "      <td>2008</td>\n",
       "      <td>manual</td>\n",
       "      <td>69.000000</td>\n",
       "      <td>fabia</td>\n",
       "      <td>90000</td>\n",
       "      <td>gasoline</td>\n",
       "      <td>skoda</td>\n",
       "      <td>no</td>\n",
       "    </tr>\n",
       "    <tr>\n",
       "      <th>...</th>\n",
       "      <td>...</td>\n",
       "      <td>...</td>\n",
       "      <td>...</td>\n",
       "      <td>...</td>\n",
       "      <td>...</td>\n",
       "      <td>...</td>\n",
       "      <td>...</td>\n",
       "      <td>...</td>\n",
       "      <td>...</td>\n",
       "      <td>...</td>\n",
       "    </tr>\n",
       "    <tr>\n",
       "      <th>354364</th>\n",
       "      <td>0</td>\n",
       "      <td>NaN</td>\n",
       "      <td>2005</td>\n",
       "      <td>manual</td>\n",
       "      <td>91.945080</td>\n",
       "      <td>colt</td>\n",
       "      <td>150000</td>\n",
       "      <td>petrol</td>\n",
       "      <td>mitsubishi</td>\n",
       "      <td>yes</td>\n",
       "    </tr>\n",
       "    <tr>\n",
       "      <th>354365</th>\n",
       "      <td>2200</td>\n",
       "      <td>NaN</td>\n",
       "      <td>2005</td>\n",
       "      <td>NaN</td>\n",
       "      <td>159.230879</td>\n",
       "      <td>NaN</td>\n",
       "      <td>20000</td>\n",
       "      <td>NaN</td>\n",
       "      <td>sonstige_autos</td>\n",
       "      <td>NaN</td>\n",
       "    </tr>\n",
       "    <tr>\n",
       "      <th>354366</th>\n",
       "      <td>1199</td>\n",
       "      <td>convertible</td>\n",
       "      <td>2000</td>\n",
       "      <td>auto</td>\n",
       "      <td>101.000000</td>\n",
       "      <td>fortwo</td>\n",
       "      <td>125000</td>\n",
       "      <td>petrol</td>\n",
       "      <td>smart</td>\n",
       "      <td>no</td>\n",
       "    </tr>\n",
       "    <tr>\n",
       "      <th>354367</th>\n",
       "      <td>9200</td>\n",
       "      <td>bus</td>\n",
       "      <td>1996</td>\n",
       "      <td>manual</td>\n",
       "      <td>102.000000</td>\n",
       "      <td>transporter</td>\n",
       "      <td>150000</td>\n",
       "      <td>gasoline</td>\n",
       "      <td>volkswagen</td>\n",
       "      <td>no</td>\n",
       "    </tr>\n",
       "    <tr>\n",
       "      <th>354368</th>\n",
       "      <td>3400</td>\n",
       "      <td>wagon</td>\n",
       "      <td>2002</td>\n",
       "      <td>manual</td>\n",
       "      <td>100.000000</td>\n",
       "      <td>golf</td>\n",
       "      <td>150000</td>\n",
       "      <td>gasoline</td>\n",
       "      <td>volkswagen</td>\n",
       "      <td>NaN</td>\n",
       "    </tr>\n",
       "  </tbody>\n",
       "</table>\n",
       "<p>354264 rows × 10 columns</p>\n",
       "</div>"
      ],
      "text/plain": [
       "        Price  VehicleType  RegistrationYear Gearbox       Power        Model  \\\n",
       "0         480          NaN              1993  manual  113.571685         golf   \n",
       "1       18300        coupe              2011  manual  190.000000          NaN   \n",
       "2        9800          suv              2004    auto  163.000000        grand   \n",
       "3        1500        small              2001  manual   75.000000         golf   \n",
       "4        3600        small              2008  manual   69.000000        fabia   \n",
       "...       ...          ...               ...     ...         ...          ...   \n",
       "354364      0          NaN              2005  manual   91.945080         colt   \n",
       "354365   2200          NaN              2005     NaN  159.230879          NaN   \n",
       "354366   1199  convertible              2000    auto  101.000000       fortwo   \n",
       "354367   9200          bus              1996  manual  102.000000  transporter   \n",
       "354368   3400        wagon              2002  manual  100.000000         golf   \n",
       "\n",
       "        Kilometer  FuelType           Brand NotRepaired  \n",
       "0          150000    petrol      volkswagen         NaN  \n",
       "1          125000  gasoline            audi         yes  \n",
       "2          125000  gasoline            jeep         NaN  \n",
       "3          150000    petrol      volkswagen          no  \n",
       "4           90000  gasoline           skoda          no  \n",
       "...           ...       ...             ...         ...  \n",
       "354364     150000    petrol      mitsubishi         yes  \n",
       "354365      20000       NaN  sonstige_autos         NaN  \n",
       "354366     125000    petrol           smart          no  \n",
       "354367     150000  gasoline      volkswagen          no  \n",
       "354368     150000  gasoline      volkswagen         NaN  \n",
       "\n",
       "[354264 rows x 10 columns]"
      ]
     },
     "execution_count": 26,
     "metadata": {},
     "output_type": "execute_result"
    }
   ],
   "source": [
    "data = data.drop(drop_list, axis=1)\n",
    "data"
   ]
  },
  {
   "cell_type": "markdown",
   "id": "62f3dec3",
   "metadata": {},
   "source": [
    "Заполним пропуски в NotRepaired как NA, т.к. заполнить рандомными значениями = искривить данные.\n",
    "И заполнение необходимо до изменение типа данных на категориальный."
   ]
  },
  {
   "cell_type": "code",
   "execution_count": 27,
   "id": "6c19cfb4",
   "metadata": {},
   "outputs": [],
   "source": [
    "data['NotRepaired'] = data['NotRepaired'].fillna(\"NA\")"
   ]
  },
  {
   "cell_type": "code",
   "execution_count": 28,
   "id": "5fc9244f",
   "metadata": {},
   "outputs": [],
   "source": [
    "data[['Brand', 'VehicleType', 'Gearbox', \n",
    "      'Model', 'FuelType', 'NotRepaired']] = data[['Brand', 'VehicleType', 'Gearbox', \n",
    "                                                   'Model', 'FuelType', 'NotRepaired']].astype(\"category\")"
   ]
  },
  {
   "cell_type": "code",
   "execution_count": 29,
   "id": "53ad5a61",
   "metadata": {},
   "outputs": [],
   "source": [
    "data['RegistrationYear'] = data['RegistrationYear'].astype(\"int64\")"
   ]
  },
  {
   "cell_type": "code",
   "execution_count": 30,
   "id": "ecaeab5d",
   "metadata": {},
   "outputs": [
    {
     "name": "stdout",
     "output_type": "stream",
     "text": [
      "volkswagen        76991\n",
      "opel              39918\n",
      "bmw               36905\n",
      "mercedes_benz     32040\n",
      "audi              29453\n",
      "ford              25176\n",
      "renault           17924\n",
      "peugeot           10997\n",
      "fiat               9639\n",
      "seat               6906\n",
      "mazda              5609\n",
      "skoda              5499\n",
      "smart              5246\n",
      "citroen            5147\n",
      "nissan             4941\n",
      "toyota             4606\n",
      "hyundai            3586\n",
      "sonstige_autos     3352\n",
      "volvo              3210\n",
      "mini               3201\n",
      "mitsubishi         3021\n",
      "honda              2817\n",
      "kia                2465\n",
      "suzuki             2323\n",
      "alfa_romeo         2314\n",
      "chevrolet          1752\n",
      "chrysler           1439\n",
      "dacia               900\n",
      "daihatsu            806\n",
      "subaru              760\n",
      "porsche             757\n",
      "jeep                676\n",
      "trabant             589\n",
      "land_rover          545\n",
      "daewoo              542\n",
      "saab                525\n",
      "jaguar              505\n",
      "rover               486\n",
      "lancia              471\n",
      "lada                225\n",
      "Name: Brand, dtype: int64\n",
      "\n",
      "sedan          91457\n",
      "small          79831\n",
      "wagon          65166\n",
      "bus            28775\n",
      "convertible    20203\n",
      "coupe          16163\n",
      "suv            11996\n",
      "other           3288\n",
      "Name: VehicleType, dtype: int64\n",
      "\n",
      "manual    268232\n",
      "auto       66280\n",
      "Name: Gearbox, dtype: int64\n",
      "\n",
      "golf                  29224\n",
      "other                 24407\n",
      "3er                   19757\n",
      "polo                  13064\n",
      "corsa                 12565\n",
      "                      ...  \n",
      "serie_2                   8\n",
      "serie_3                   4\n",
      "rangerover                4\n",
      "range_rover_evoque        2\n",
      "serie_1                   2\n",
      "Name: Model, Length: 250, dtype: int64\n",
      "\n",
      "petrol      216330\n",
      "gasoline     98715\n",
      "lpg           5310\n",
      "cng            564\n",
      "hybrid         233\n",
      "other          203\n",
      "electric        90\n",
      "Name: FuelType, dtype: int64\n",
      "\n"
     ]
    }
   ],
   "source": [
    "list_of_cat = ['Brand', 'VehicleType', 'Gearbox', 'Model', 'FuelType']\n",
    "\n",
    "for col in list_of_cat:\n",
    "    print(data[col].value_counts())\n",
    "    print()"
   ]
  },
  {
   "cell_type": "markdown",
   "id": "48a2b11e",
   "metadata": {},
   "source": [
    "Категориальные признаки имеют различное колличество категорий\n",
    "1. Brand - 40\n",
    "2. VehicleType - 8\n",
    "3. Gearbox - 2\n",
    "4. Model - 250\n",
    "5. FuelType - 7\n",
    "\n",
    "1. Коробка передач только двух типов - можно перевести в бинарную систему 1\\0, а пропуски замени другой категорией или NA\n",
    "2. По типу топливо есть 7 категорий, это не так много, можно посмотреть как будет работать с кодированием\n",
    "3. Тип машины имеет 8 значений\n",
    "4. Брэнд и модель самые многочисленные категории"
   ]
  },
  {
   "cell_type": "markdown",
   "id": "8121ae9e",
   "metadata": {},
   "source": [
    "создадим дополнительный сет для дальнейших манипуляций с кодированием"
   ]
  },
  {
   "cell_type": "code",
   "execution_count": 31,
   "id": "dffda69f",
   "metadata": {},
   "outputs": [],
   "source": [
    "data_test = data.dropna()"
   ]
  },
  {
   "cell_type": "markdown",
   "id": "8362120f",
   "metadata": {},
   "source": [
    "выбросим все пропуски, т.к. данных остается еще очень много, у бизнеса нет недостатка в данных. Также это сэкономит время от предобработки данных. "
   ]
  },
  {
   "cell_type": "code",
   "execution_count": 32,
   "id": "20edfb77",
   "metadata": {},
   "outputs": [],
   "source": [
    "data_test = data_test.query('Price != 0')"
   ]
  },
  {
   "cell_type": "code",
   "execution_count": 33,
   "id": "4d411086",
   "metadata": {},
   "outputs": [],
   "source": [
    "data = data_test"
   ]
  },
  {
   "cell_type": "markdown",
   "id": "669a39e7",
   "metadata": {},
   "source": [
    "data - для lgbm\n",
    "data_test для остальных моделей"
   ]
  },
  {
   "cell_type": "markdown",
   "id": "d1af2e56",
   "metadata": {},
   "source": [
    "**Нужно закодировать категориальные признаки для моделей не работающие с категориями**\n",
    "\n",
    "RegistrationYear и NotRepaired можно закодировать OE а Brand, VehicleType, 'Model', 'FuelType' OHE\\dummies\n"
   ]
  },
  {
   "cell_type": "code",
   "execution_count": 34,
   "id": "a4d5446f",
   "metadata": {},
   "outputs": [
    {
     "data": {
      "text/html": [
       "<div>\n",
       "<style scoped>\n",
       "    .dataframe tbody tr th:only-of-type {\n",
       "        vertical-align: middle;\n",
       "    }\n",
       "\n",
       "    .dataframe tbody tr th {\n",
       "        vertical-align: top;\n",
       "    }\n",
       "\n",
       "    .dataframe thead th {\n",
       "        text-align: right;\n",
       "    }\n",
       "</style>\n",
       "<table border=\"1\" class=\"dataframe\">\n",
       "  <thead>\n",
       "    <tr style=\"text-align: right;\">\n",
       "      <th></th>\n",
       "      <th>Price</th>\n",
       "      <th>RegistrationYear</th>\n",
       "      <th>Power</th>\n",
       "      <th>Kilometer</th>\n",
       "      <th>NotRepaired</th>\n",
       "      <th>Brand_audi</th>\n",
       "      <th>Brand_bmw</th>\n",
       "      <th>Brand_chevrolet</th>\n",
       "      <th>Brand_chrysler</th>\n",
       "      <th>Brand_citroen</th>\n",
       "      <th>...</th>\n",
       "      <th>Model_ypsilon</th>\n",
       "      <th>Model_z_reihe</th>\n",
       "      <th>Model_zafira</th>\n",
       "      <th>Gearbox_manual</th>\n",
       "      <th>FuelType_electric</th>\n",
       "      <th>FuelType_gasoline</th>\n",
       "      <th>FuelType_hybrid</th>\n",
       "      <th>FuelType_lpg</th>\n",
       "      <th>FuelType_other</th>\n",
       "      <th>FuelType_petrol</th>\n",
       "    </tr>\n",
       "  </thead>\n",
       "  <tbody>\n",
       "    <tr>\n",
       "      <th>2</th>\n",
       "      <td>9800</td>\n",
       "      <td>2004</td>\n",
       "      <td>163.000000</td>\n",
       "      <td>125000</td>\n",
       "      <td>NA</td>\n",
       "      <td>0</td>\n",
       "      <td>0</td>\n",
       "      <td>0</td>\n",
       "      <td>0</td>\n",
       "      <td>0</td>\n",
       "      <td>...</td>\n",
       "      <td>0</td>\n",
       "      <td>0</td>\n",
       "      <td>0</td>\n",
       "      <td>0</td>\n",
       "      <td>0</td>\n",
       "      <td>1</td>\n",
       "      <td>0</td>\n",
       "      <td>0</td>\n",
       "      <td>0</td>\n",
       "      <td>0</td>\n",
       "    </tr>\n",
       "    <tr>\n",
       "      <th>3</th>\n",
       "      <td>1500</td>\n",
       "      <td>2001</td>\n",
       "      <td>75.000000</td>\n",
       "      <td>150000</td>\n",
       "      <td>no</td>\n",
       "      <td>0</td>\n",
       "      <td>0</td>\n",
       "      <td>0</td>\n",
       "      <td>0</td>\n",
       "      <td>0</td>\n",
       "      <td>...</td>\n",
       "      <td>0</td>\n",
       "      <td>0</td>\n",
       "      <td>0</td>\n",
       "      <td>1</td>\n",
       "      <td>0</td>\n",
       "      <td>0</td>\n",
       "      <td>0</td>\n",
       "      <td>0</td>\n",
       "      <td>0</td>\n",
       "      <td>1</td>\n",
       "    </tr>\n",
       "    <tr>\n",
       "      <th>4</th>\n",
       "      <td>3600</td>\n",
       "      <td>2008</td>\n",
       "      <td>69.000000</td>\n",
       "      <td>90000</td>\n",
       "      <td>no</td>\n",
       "      <td>0</td>\n",
       "      <td>0</td>\n",
       "      <td>0</td>\n",
       "      <td>0</td>\n",
       "      <td>0</td>\n",
       "      <td>...</td>\n",
       "      <td>0</td>\n",
       "      <td>0</td>\n",
       "      <td>0</td>\n",
       "      <td>1</td>\n",
       "      <td>0</td>\n",
       "      <td>1</td>\n",
       "      <td>0</td>\n",
       "      <td>0</td>\n",
       "      <td>0</td>\n",
       "      <td>0</td>\n",
       "    </tr>\n",
       "    <tr>\n",
       "      <th>5</th>\n",
       "      <td>650</td>\n",
       "      <td>1995</td>\n",
       "      <td>102.000000</td>\n",
       "      <td>150000</td>\n",
       "      <td>yes</td>\n",
       "      <td>0</td>\n",
       "      <td>1</td>\n",
       "      <td>0</td>\n",
       "      <td>0</td>\n",
       "      <td>0</td>\n",
       "      <td>...</td>\n",
       "      <td>0</td>\n",
       "      <td>0</td>\n",
       "      <td>0</td>\n",
       "      <td>1</td>\n",
       "      <td>0</td>\n",
       "      <td>0</td>\n",
       "      <td>0</td>\n",
       "      <td>0</td>\n",
       "      <td>0</td>\n",
       "      <td>1</td>\n",
       "    </tr>\n",
       "    <tr>\n",
       "      <th>6</th>\n",
       "      <td>2200</td>\n",
       "      <td>2004</td>\n",
       "      <td>109.000000</td>\n",
       "      <td>150000</td>\n",
       "      <td>no</td>\n",
       "      <td>0</td>\n",
       "      <td>0</td>\n",
       "      <td>0</td>\n",
       "      <td>0</td>\n",
       "      <td>0</td>\n",
       "      <td>...</td>\n",
       "      <td>0</td>\n",
       "      <td>0</td>\n",
       "      <td>0</td>\n",
       "      <td>1</td>\n",
       "      <td>0</td>\n",
       "      <td>0</td>\n",
       "      <td>0</td>\n",
       "      <td>0</td>\n",
       "      <td>0</td>\n",
       "      <td>1</td>\n",
       "    </tr>\n",
       "    <tr>\n",
       "      <th>...</th>\n",
       "      <td>...</td>\n",
       "      <td>...</td>\n",
       "      <td>...</td>\n",
       "      <td>...</td>\n",
       "      <td>...</td>\n",
       "      <td>...</td>\n",
       "      <td>...</td>\n",
       "      <td>...</td>\n",
       "      <td>...</td>\n",
       "      <td>...</td>\n",
       "      <td>...</td>\n",
       "      <td>...</td>\n",
       "      <td>...</td>\n",
       "      <td>...</td>\n",
       "      <td>...</td>\n",
       "      <td>...</td>\n",
       "      <td>...</td>\n",
       "      <td>...</td>\n",
       "      <td>...</td>\n",
       "      <td>...</td>\n",
       "      <td>...</td>\n",
       "    </tr>\n",
       "    <tr>\n",
       "      <th>354362</th>\n",
       "      <td>3200</td>\n",
       "      <td>2004</td>\n",
       "      <td>225.000000</td>\n",
       "      <td>150000</td>\n",
       "      <td>yes</td>\n",
       "      <td>0</td>\n",
       "      <td>0</td>\n",
       "      <td>0</td>\n",
       "      <td>0</td>\n",
       "      <td>0</td>\n",
       "      <td>...</td>\n",
       "      <td>0</td>\n",
       "      <td>0</td>\n",
       "      <td>0</td>\n",
       "      <td>1</td>\n",
       "      <td>0</td>\n",
       "      <td>0</td>\n",
       "      <td>0</td>\n",
       "      <td>0</td>\n",
       "      <td>0</td>\n",
       "      <td>1</td>\n",
       "    </tr>\n",
       "    <tr>\n",
       "      <th>354363</th>\n",
       "      <td>1150</td>\n",
       "      <td>2000</td>\n",
       "      <td>108.566542</td>\n",
       "      <td>150000</td>\n",
       "      <td>no</td>\n",
       "      <td>0</td>\n",
       "      <td>0</td>\n",
       "      <td>0</td>\n",
       "      <td>0</td>\n",
       "      <td>0</td>\n",
       "      <td>...</td>\n",
       "      <td>0</td>\n",
       "      <td>0</td>\n",
       "      <td>1</td>\n",
       "      <td>1</td>\n",
       "      <td>0</td>\n",
       "      <td>0</td>\n",
       "      <td>0</td>\n",
       "      <td>0</td>\n",
       "      <td>0</td>\n",
       "      <td>1</td>\n",
       "    </tr>\n",
       "    <tr>\n",
       "      <th>354366</th>\n",
       "      <td>1199</td>\n",
       "      <td>2000</td>\n",
       "      <td>101.000000</td>\n",
       "      <td>125000</td>\n",
       "      <td>no</td>\n",
       "      <td>0</td>\n",
       "      <td>0</td>\n",
       "      <td>0</td>\n",
       "      <td>0</td>\n",
       "      <td>0</td>\n",
       "      <td>...</td>\n",
       "      <td>0</td>\n",
       "      <td>0</td>\n",
       "      <td>0</td>\n",
       "      <td>0</td>\n",
       "      <td>0</td>\n",
       "      <td>0</td>\n",
       "      <td>0</td>\n",
       "      <td>0</td>\n",
       "      <td>0</td>\n",
       "      <td>1</td>\n",
       "    </tr>\n",
       "    <tr>\n",
       "      <th>354367</th>\n",
       "      <td>9200</td>\n",
       "      <td>1996</td>\n",
       "      <td>102.000000</td>\n",
       "      <td>150000</td>\n",
       "      <td>no</td>\n",
       "      <td>0</td>\n",
       "      <td>0</td>\n",
       "      <td>0</td>\n",
       "      <td>0</td>\n",
       "      <td>0</td>\n",
       "      <td>...</td>\n",
       "      <td>0</td>\n",
       "      <td>0</td>\n",
       "      <td>0</td>\n",
       "      <td>1</td>\n",
       "      <td>0</td>\n",
       "      <td>1</td>\n",
       "      <td>0</td>\n",
       "      <td>0</td>\n",
       "      <td>0</td>\n",
       "      <td>0</td>\n",
       "    </tr>\n",
       "    <tr>\n",
       "      <th>354368</th>\n",
       "      <td>3400</td>\n",
       "      <td>2002</td>\n",
       "      <td>100.000000</td>\n",
       "      <td>150000</td>\n",
       "      <td>NA</td>\n",
       "      <td>0</td>\n",
       "      <td>0</td>\n",
       "      <td>0</td>\n",
       "      <td>0</td>\n",
       "      <td>0</td>\n",
       "      <td>...</td>\n",
       "      <td>0</td>\n",
       "      <td>0</td>\n",
       "      <td>0</td>\n",
       "      <td>1</td>\n",
       "      <td>0</td>\n",
       "      <td>1</td>\n",
       "      <td>0</td>\n",
       "      <td>0</td>\n",
       "      <td>0</td>\n",
       "      <td>0</td>\n",
       "    </tr>\n",
       "  </tbody>\n",
       "</table>\n",
       "<p>279085 rows × 307 columns</p>\n",
       "</div>"
      ],
      "text/plain": [
       "        Price  RegistrationYear       Power  Kilometer NotRepaired  \\\n",
       "2        9800              2004  163.000000     125000          NA   \n",
       "3        1500              2001   75.000000     150000          no   \n",
       "4        3600              2008   69.000000      90000          no   \n",
       "5         650              1995  102.000000     150000         yes   \n",
       "6        2200              2004  109.000000     150000          no   \n",
       "...       ...               ...         ...        ...         ...   \n",
       "354362   3200              2004  225.000000     150000         yes   \n",
       "354363   1150              2000  108.566542     150000          no   \n",
       "354366   1199              2000  101.000000     125000          no   \n",
       "354367   9200              1996  102.000000     150000          no   \n",
       "354368   3400              2002  100.000000     150000          NA   \n",
       "\n",
       "        Brand_audi  Brand_bmw  Brand_chevrolet  Brand_chrysler  Brand_citroen  \\\n",
       "2                0          0                0               0              0   \n",
       "3                0          0                0               0              0   \n",
       "4                0          0                0               0              0   \n",
       "5                0          1                0               0              0   \n",
       "6                0          0                0               0              0   \n",
       "...            ...        ...              ...             ...            ...   \n",
       "354362           0          0                0               0              0   \n",
       "354363           0          0                0               0              0   \n",
       "354366           0          0                0               0              0   \n",
       "354367           0          0                0               0              0   \n",
       "354368           0          0                0               0              0   \n",
       "\n",
       "        ...  Model_ypsilon  Model_z_reihe  Model_zafira  Gearbox_manual  \\\n",
       "2       ...              0              0             0               0   \n",
       "3       ...              0              0             0               1   \n",
       "4       ...              0              0             0               1   \n",
       "5       ...              0              0             0               1   \n",
       "6       ...              0              0             0               1   \n",
       "...     ...            ...            ...           ...             ...   \n",
       "354362  ...              0              0             0               1   \n",
       "354363  ...              0              0             1               1   \n",
       "354366  ...              0              0             0               0   \n",
       "354367  ...              0              0             0               1   \n",
       "354368  ...              0              0             0               1   \n",
       "\n",
       "        FuelType_electric  FuelType_gasoline  FuelType_hybrid  FuelType_lpg  \\\n",
       "2                       0                  1                0             0   \n",
       "3                       0                  0                0             0   \n",
       "4                       0                  1                0             0   \n",
       "5                       0                  0                0             0   \n",
       "6                       0                  0                0             0   \n",
       "...                   ...                ...              ...           ...   \n",
       "354362                  0                  0                0             0   \n",
       "354363                  0                  0                0             0   \n",
       "354366                  0                  0                0             0   \n",
       "354367                  0                  1                0             0   \n",
       "354368                  0                  1                0             0   \n",
       "\n",
       "        FuelType_other  FuelType_petrol  \n",
       "2                    0                0  \n",
       "3                    0                1  \n",
       "4                    0                0  \n",
       "5                    0                1  \n",
       "6                    0                1  \n",
       "...                ...              ...  \n",
       "354362               0                1  \n",
       "354363               0                1  \n",
       "354366               0                1  \n",
       "354367               0                0  \n",
       "354368               0                0  \n",
       "\n",
       "[279085 rows x 307 columns]"
      ]
     },
     "execution_count": 34,
     "metadata": {},
     "output_type": "execute_result"
    }
   ],
   "source": [
    "data_test_oe = pd.get_dummies(data_test, columns =  ['Brand', 'VehicleType', 'Model', 'Gearbox', 'FuelType'], drop_first=True)\n",
    "data_test_oe"
   ]
  },
  {
   "cell_type": "code",
   "execution_count": 35,
   "id": "f3264f98",
   "metadata": {},
   "outputs": [
    {
     "data": {
      "text/html": [
       "<div>\n",
       "<style scoped>\n",
       "    .dataframe tbody tr th:only-of-type {\n",
       "        vertical-align: middle;\n",
       "    }\n",
       "\n",
       "    .dataframe tbody tr th {\n",
       "        vertical-align: top;\n",
       "    }\n",
       "\n",
       "    .dataframe thead th {\n",
       "        text-align: right;\n",
       "    }\n",
       "</style>\n",
       "<table border=\"1\" class=\"dataframe\">\n",
       "  <thead>\n",
       "    <tr style=\"text-align: right;\">\n",
       "      <th></th>\n",
       "      <th>Price</th>\n",
       "      <th>RegistrationYear</th>\n",
       "      <th>Power</th>\n",
       "      <th>Kilometer</th>\n",
       "      <th>NotRepaired</th>\n",
       "      <th>Brand_audi</th>\n",
       "      <th>Brand_bmw</th>\n",
       "      <th>Brand_chevrolet</th>\n",
       "      <th>Brand_chrysler</th>\n",
       "      <th>Brand_citroen</th>\n",
       "      <th>...</th>\n",
       "      <th>Model_ypsilon</th>\n",
       "      <th>Model_z_reihe</th>\n",
       "      <th>Model_zafira</th>\n",
       "      <th>Gearbox_manual</th>\n",
       "      <th>FuelType_electric</th>\n",
       "      <th>FuelType_gasoline</th>\n",
       "      <th>FuelType_hybrid</th>\n",
       "      <th>FuelType_lpg</th>\n",
       "      <th>FuelType_other</th>\n",
       "      <th>FuelType_petrol</th>\n",
       "    </tr>\n",
       "  </thead>\n",
       "  <tbody>\n",
       "    <tr>\n",
       "      <th>2</th>\n",
       "      <td>9800</td>\n",
       "      <td>72.0</td>\n",
       "      <td>163.0</td>\n",
       "      <td>125000</td>\n",
       "      <td>0.0</td>\n",
       "      <td>0</td>\n",
       "      <td>0</td>\n",
       "      <td>0</td>\n",
       "      <td>0</td>\n",
       "      <td>0</td>\n",
       "      <td>...</td>\n",
       "      <td>0</td>\n",
       "      <td>0</td>\n",
       "      <td>0</td>\n",
       "      <td>0</td>\n",
       "      <td>0</td>\n",
       "      <td>1</td>\n",
       "      <td>0</td>\n",
       "      <td>0</td>\n",
       "      <td>0</td>\n",
       "      <td>0</td>\n",
       "    </tr>\n",
       "    <tr>\n",
       "      <th>3</th>\n",
       "      <td>1500</td>\n",
       "      <td>69.0</td>\n",
       "      <td>75.0</td>\n",
       "      <td>150000</td>\n",
       "      <td>1.0</td>\n",
       "      <td>0</td>\n",
       "      <td>0</td>\n",
       "      <td>0</td>\n",
       "      <td>0</td>\n",
       "      <td>0</td>\n",
       "      <td>...</td>\n",
       "      <td>0</td>\n",
       "      <td>0</td>\n",
       "      <td>0</td>\n",
       "      <td>1</td>\n",
       "      <td>0</td>\n",
       "      <td>0</td>\n",
       "      <td>0</td>\n",
       "      <td>0</td>\n",
       "      <td>0</td>\n",
       "      <td>1</td>\n",
       "    </tr>\n",
       "    <tr>\n",
       "      <th>4</th>\n",
       "      <td>3600</td>\n",
       "      <td>76.0</td>\n",
       "      <td>69.0</td>\n",
       "      <td>90000</td>\n",
       "      <td>1.0</td>\n",
       "      <td>0</td>\n",
       "      <td>0</td>\n",
       "      <td>0</td>\n",
       "      <td>0</td>\n",
       "      <td>0</td>\n",
       "      <td>...</td>\n",
       "      <td>0</td>\n",
       "      <td>0</td>\n",
       "      <td>0</td>\n",
       "      <td>1</td>\n",
       "      <td>0</td>\n",
       "      <td>1</td>\n",
       "      <td>0</td>\n",
       "      <td>0</td>\n",
       "      <td>0</td>\n",
       "      <td>0</td>\n",
       "    </tr>\n",
       "    <tr>\n",
       "      <th>5</th>\n",
       "      <td>650</td>\n",
       "      <td>63.0</td>\n",
       "      <td>102.0</td>\n",
       "      <td>150000</td>\n",
       "      <td>2.0</td>\n",
       "      <td>0</td>\n",
       "      <td>1</td>\n",
       "      <td>0</td>\n",
       "      <td>0</td>\n",
       "      <td>0</td>\n",
       "      <td>...</td>\n",
       "      <td>0</td>\n",
       "      <td>0</td>\n",
       "      <td>0</td>\n",
       "      <td>1</td>\n",
       "      <td>0</td>\n",
       "      <td>0</td>\n",
       "      <td>0</td>\n",
       "      <td>0</td>\n",
       "      <td>0</td>\n",
       "      <td>1</td>\n",
       "    </tr>\n",
       "    <tr>\n",
       "      <th>6</th>\n",
       "      <td>2200</td>\n",
       "      <td>72.0</td>\n",
       "      <td>109.0</td>\n",
       "      <td>150000</td>\n",
       "      <td>1.0</td>\n",
       "      <td>0</td>\n",
       "      <td>0</td>\n",
       "      <td>0</td>\n",
       "      <td>0</td>\n",
       "      <td>0</td>\n",
       "      <td>...</td>\n",
       "      <td>0</td>\n",
       "      <td>0</td>\n",
       "      <td>0</td>\n",
       "      <td>1</td>\n",
       "      <td>0</td>\n",
       "      <td>0</td>\n",
       "      <td>0</td>\n",
       "      <td>0</td>\n",
       "      <td>0</td>\n",
       "      <td>1</td>\n",
       "    </tr>\n",
       "  </tbody>\n",
       "</table>\n",
       "<p>5 rows × 307 columns</p>\n",
       "</div>"
      ],
      "text/plain": [
       "   Price  RegistrationYear  Power  Kilometer  NotRepaired  Brand_audi  \\\n",
       "2   9800              72.0  163.0     125000          0.0           0   \n",
       "3   1500              69.0   75.0     150000          1.0           0   \n",
       "4   3600              76.0   69.0      90000          1.0           0   \n",
       "5    650              63.0  102.0     150000          2.0           0   \n",
       "6   2200              72.0  109.0     150000          1.0           0   \n",
       "\n",
       "   Brand_bmw  Brand_chevrolet  Brand_chrysler  Brand_citroen  ...  \\\n",
       "2          0                0               0              0  ...   \n",
       "3          0                0               0              0  ...   \n",
       "4          0                0               0              0  ...   \n",
       "5          1                0               0              0  ...   \n",
       "6          0                0               0              0  ...   \n",
       "\n",
       "   Model_ypsilon  Model_z_reihe  Model_zafira  Gearbox_manual  \\\n",
       "2              0              0             0               0   \n",
       "3              0              0             0               1   \n",
       "4              0              0             0               1   \n",
       "5              0              0             0               1   \n",
       "6              0              0             0               1   \n",
       "\n",
       "   FuelType_electric  FuelType_gasoline  FuelType_hybrid  FuelType_lpg  \\\n",
       "2                  0                  1                0             0   \n",
       "3                  0                  0                0             0   \n",
       "4                  0                  1                0             0   \n",
       "5                  0                  0                0             0   \n",
       "6                  0                  0                0             0   \n",
       "\n",
       "   FuelType_other  FuelType_petrol  \n",
       "2               0                0  \n",
       "3               0                1  \n",
       "4               0                0  \n",
       "5               0                1  \n",
       "6               0                1  \n",
       "\n",
       "[5 rows x 307 columns]"
      ]
     },
     "execution_count": 35,
     "metadata": {},
     "output_type": "execute_result"
    }
   ],
   "source": [
    "encode = OrdinalEncoder()\n",
    "data_encode = pd.DataFrame(encode.fit_transform(data_test_oe[['RegistrationYear', 'NotRepaired']]), \n",
    "                           columns=['RegistrationYear', 'NotRepaired'], index=data_test_oe.index)\n",
    "data_test_oe[['RegistrationYear', 'NotRepaired']] = data_encode[['RegistrationYear', 'NotRepaired']]\n",
    "data_test_oe.head()"
   ]
  },
  {
   "cell_type": "markdown",
   "id": "b325d5a0",
   "metadata": {},
   "source": [
    "**Для древовидных моделей сделаме только порядковое кодирование т.к. прямое делает обучение слишком долгим**"
   ]
  },
  {
   "cell_type": "code",
   "execution_count": 36,
   "id": "ee5f1789",
   "metadata": {
    "scrolled": true
   },
   "outputs": [
    {
     "data": {
      "text/html": [
       "<div>\n",
       "<style scoped>\n",
       "    .dataframe tbody tr th:only-of-type {\n",
       "        vertical-align: middle;\n",
       "    }\n",
       "\n",
       "    .dataframe tbody tr th {\n",
       "        vertical-align: top;\n",
       "    }\n",
       "\n",
       "    .dataframe thead th {\n",
       "        text-align: right;\n",
       "    }\n",
       "</style>\n",
       "<table border=\"1\" class=\"dataframe\">\n",
       "  <thead>\n",
       "    <tr style=\"text-align: right;\">\n",
       "      <th></th>\n",
       "      <th>RegistrationYear</th>\n",
       "      <th>NotRepaired</th>\n",
       "      <th>Brand</th>\n",
       "      <th>VehicleType</th>\n",
       "      <th>Model</th>\n",
       "      <th>Gearbox</th>\n",
       "      <th>FuelType</th>\n",
       "      <th>Price</th>\n",
       "      <th>Power</th>\n",
       "      <th>Kilometer</th>\n",
       "    </tr>\n",
       "  </thead>\n",
       "  <tbody>\n",
       "    <tr>\n",
       "      <th>2</th>\n",
       "      <td>72.0</td>\n",
       "      <td>0.0</td>\n",
       "      <td>14.0</td>\n",
       "      <td>6.0</td>\n",
       "      <td>117.0</td>\n",
       "      <td>0.0</td>\n",
       "      <td>2.0</td>\n",
       "      <td>9800</td>\n",
       "      <td>163.0</td>\n",
       "      <td>125000</td>\n",
       "    </tr>\n",
       "    <tr>\n",
       "      <th>3</th>\n",
       "      <td>69.0</td>\n",
       "      <td>1.0</td>\n",
       "      <td>37.0</td>\n",
       "      <td>5.0</td>\n",
       "      <td>116.0</td>\n",
       "      <td>1.0</td>\n",
       "      <td>6.0</td>\n",
       "      <td>1500</td>\n",
       "      <td>75.0</td>\n",
       "      <td>150000</td>\n",
       "    </tr>\n",
       "    <tr>\n",
       "      <th>4</th>\n",
       "      <td>76.0</td>\n",
       "      <td>1.0</td>\n",
       "      <td>31.0</td>\n",
       "      <td>5.0</td>\n",
       "      <td>101.0</td>\n",
       "      <td>1.0</td>\n",
       "      <td>2.0</td>\n",
       "      <td>3600</td>\n",
       "      <td>69.0</td>\n",
       "      <td>90000</td>\n",
       "    </tr>\n",
       "    <tr>\n",
       "      <th>5</th>\n",
       "      <td>63.0</td>\n",
       "      <td>2.0</td>\n",
       "      <td>2.0</td>\n",
       "      <td>4.0</td>\n",
       "      <td>11.0</td>\n",
       "      <td>1.0</td>\n",
       "      <td>6.0</td>\n",
       "      <td>650</td>\n",
       "      <td>102.0</td>\n",
       "      <td>150000</td>\n",
       "    </tr>\n",
       "    <tr>\n",
       "      <th>6</th>\n",
       "      <td>72.0</td>\n",
       "      <td>1.0</td>\n",
       "      <td>25.0</td>\n",
       "      <td>1.0</td>\n",
       "      <td>8.0</td>\n",
       "      <td>1.0</td>\n",
       "      <td>6.0</td>\n",
       "      <td>2200</td>\n",
       "      <td>109.0</td>\n",
       "      <td>150000</td>\n",
       "    </tr>\n",
       "  </tbody>\n",
       "</table>\n",
       "</div>"
      ],
      "text/plain": [
       "   RegistrationYear  NotRepaired  Brand  VehicleType  Model  Gearbox  \\\n",
       "2              72.0          0.0   14.0          6.0  117.0      0.0   \n",
       "3              69.0          1.0   37.0          5.0  116.0      1.0   \n",
       "4              76.0          1.0   31.0          5.0  101.0      1.0   \n",
       "5              63.0          2.0    2.0          4.0   11.0      1.0   \n",
       "6              72.0          1.0   25.0          1.0    8.0      1.0   \n",
       "\n",
       "   FuelType  Price  Power  Kilometer  \n",
       "2       2.0   9800  163.0     125000  \n",
       "3       6.0   1500   75.0     150000  \n",
       "4       2.0   3600   69.0      90000  \n",
       "5       6.0    650  102.0     150000  \n",
       "6       6.0   2200  109.0     150000  "
      ]
     },
     "execution_count": 36,
     "metadata": {},
     "output_type": "execute_result"
    }
   ],
   "source": [
    "encode = OrdinalEncoder()\n",
    "data_forest = pd.DataFrame(encode.fit_transform(data_test[['RegistrationYear', 'NotRepaired', 'Brand', 'VehicleType', 'Model', 'Gearbox', 'FuelType']]), \n",
    "                           columns=['RegistrationYear', 'NotRepaired', 'Brand', 'VehicleType', 'Model', 'Gearbox', 'FuelType'], index=data_test.index)\n",
    "data_forest[['Price', 'Power', 'Kilometer']] = data_test[['Price', 'Power', 'Kilometer']]\n",
    "data_forest.head()"
   ]
  },
  {
   "cell_type": "raw",
   "id": "8103fe5e",
   "metadata": {},
   "source": [
    "# Выделим категориальные признаки для one-hot\n",
    "categorial_ohe = ['VehicleType', 'Gearbox', 'FuelType', 'NotRepaired']\n",
    "# Категориальные для ordinal\n",
    "categorial_ord = ['Model', 'Brand']\n",
    "# И количественные\n",
    "numeric = ['Kilometer', 'Power', 'RegistrationYear']"
   ]
  },
  {
   "cell_type": "markdown",
   "id": "2ccdf8b4",
   "metadata": {},
   "source": [
    "### Создание таргетов для Категориальных моделей и стандартных"
   ]
  },
  {
   "cell_type": "code",
   "execution_count": 37,
   "id": "33ec7d24",
   "metadata": {},
   "outputs": [
    {
     "data": {
      "text/plain": [
       "((279085,), (279085, 9))"
      ]
     },
     "execution_count": 37,
     "metadata": {},
     "output_type": "execute_result"
    }
   ],
   "source": [
    "target = data['Price']\n",
    "features = data.drop('Price', axis=1)\n",
    "target.shape, features.shape"
   ]
  },
  {
   "cell_type": "code",
   "execution_count": 38,
   "id": "08698ce8",
   "metadata": {},
   "outputs": [
    {
     "data": {
      "text/plain": [
       "((279085,), (279085, 9))"
      ]
     },
     "execution_count": 38,
     "metadata": {},
     "output_type": "execute_result"
    }
   ],
   "source": [
    "target_forest = data_forest['Price']\n",
    "features_forest = data_forest.drop('Price', axis=1)\n",
    "target_forest.shape, features_forest.shape"
   ]
  },
  {
   "cell_type": "code",
   "execution_count": 39,
   "id": "26dbdb28",
   "metadata": {},
   "outputs": [
    {
     "data": {
      "text/plain": [
       "((279085,), (279085, 306))"
      ]
     },
     "execution_count": 39,
     "metadata": {},
     "output_type": "execute_result"
    }
   ],
   "source": [
    "target_oe = data_test_oe['Price']\n",
    "features_oe = data_test_oe.drop('Price', axis=1)\n",
    "target_oe.shape, features_oe.shape"
   ]
  },
  {
   "cell_type": "code",
   "execution_count": 40,
   "id": "443ee310",
   "metadata": {},
   "outputs": [
    {
     "data": {
      "text/plain": [
       "((209313, 9), (69772, 9), (209313,), (69772,))"
      ]
     },
     "execution_count": 40,
     "metadata": {},
     "output_type": "execute_result"
    }
   ],
   "source": [
    "features_train, features_test, target_train, target_test = train_test_split(\n",
    "    features, target, test_size=0.25, random_state=12345)\n",
    "features_train.shape, features_test.shape, target_train.shape, target_test.shape"
   ]
  },
  {
   "cell_type": "code",
   "execution_count": 41,
   "id": "88e38fdc",
   "metadata": {},
   "outputs": [
    {
     "data": {
      "text/plain": [
       "((209313, 9), (69772, 9), (209313,), (69772,))"
      ]
     },
     "execution_count": 41,
     "metadata": {},
     "output_type": "execute_result"
    }
   ],
   "source": [
    "features_train_forest, features_test_forest, target_train_forest, target_test_forest = train_test_split(\n",
    "    features_forest, target_forest, test_size=0.25, random_state=12345)\n",
    "features_train_forest.shape, features_test_forest.shape, target_train_forest.shape, target_test_forest.shape"
   ]
  },
  {
   "cell_type": "code",
   "execution_count": 42,
   "id": "0cbc3047",
   "metadata": {},
   "outputs": [
    {
     "data": {
      "text/plain": [
       "((209313, 306), (69772, 306), (209313,), (69772,))"
      ]
     },
     "execution_count": 42,
     "metadata": {},
     "output_type": "execute_result"
    }
   ],
   "source": [
    "features_train_oe, features_test_oe, target_train_oe, target_test_oe = train_test_split(\n",
    "    features_oe, target_oe, test_size=0.25, random_state=12345)\n",
    "features_train_oe.shape, features_test_oe.shape, target_train_oe.shape, target_test_oe.shape"
   ]
  },
  {
   "cell_type": "markdown",
   "id": "4f0dedda",
   "metadata": {},
   "source": [
    "### Масштабирование"
   ]
  },
  {
   "cell_type": "code",
   "execution_count": 43,
   "id": "9df9dbe4",
   "metadata": {},
   "outputs": [],
   "source": [
    "to_numeric_forest = ['RegistrationYear', 'NotRepaired', 'Brand', 'VehicleType', 'Model',\n",
    "       'Gearbox', 'FuelType', 'Power', 'Kilometer']\n",
    "to_numeric_ohe = ['RegistrationYear', 'Power', 'Kilometer']"
   ]
  },
  {
   "cell_type": "code",
   "execution_count": 44,
   "id": "8930b2d7",
   "metadata": {},
   "outputs": [],
   "source": [
    "features_train_forest_num = features_train_forest\n",
    "features_test_forest_num = features_test_forest\n",
    "features_train_oe_num = features_train_oe\n",
    "features_test_oe_num = features_test_oe"
   ]
  },
  {
   "cell_type": "code",
   "execution_count": 45,
   "id": "633c2273",
   "metadata": {},
   "outputs": [],
   "source": [
    "scaler = StandardScaler()\n",
    "scaler.fit(features_train_forest[to_numeric_forest])\n",
    "\n",
    "\n",
    "#Преобразуем обучающую и валидационную выборки функцией transform() для forest-моделей\n",
    "features_train_forest_num[to_numeric_forest] = scaler.transform(features_train_forest_num[to_numeric_forest])\n",
    "features_test_forest_num[to_numeric_forest] = scaler.transform(features_test_forest_num[to_numeric_forest])\n",
    "#Преобразуем обучающую и валидационную выборки функцией transform() для ohe моделей\n",
    "scaler.fit(features_train_oe[to_numeric_ohe])\n",
    "features_train_oe_num[to_numeric_ohe] = scaler.transform(features_train_oe_num[to_numeric_ohe])\n",
    "features_test_oe_num[to_numeric_ohe] = scaler.transform(features_test_oe_num[to_numeric_ohe])"
   ]
  },
  {
   "cell_type": "markdown",
   "id": "d8f06179",
   "metadata": {},
   "source": [
    "## Обучение моделей"
   ]
  },
  {
   "cell_type": "markdown",
   "id": "9aa92809",
   "metadata": {},
   "source": [
    "### RandomForestRegressor"
   ]
  },
  {
   "cell_type": "markdown",
   "id": "6bc6d131",
   "metadata": {},
   "source": [
    "**До масштабирования**"
   ]
  },
  {
   "cell_type": "code",
   "execution_count": 46,
   "id": "3e9197a7",
   "metadata": {},
   "outputs": [
    {
     "name": "stdout",
     "output_type": "stream",
     "text": [
      "Wall time: 7min 51s\n"
     ]
    }
   ],
   "source": [
    "%%time\n",
    "model_RFR = RandomForestRegressor(random_state=12345,\n",
    "                                  n_estimators=100, max_depth=20).fit(features_train_oe, target_train_oe) "
   ]
  },
  {
   "cell_type": "code",
   "execution_count": 47,
   "id": "92c7beaa",
   "metadata": {},
   "outputs": [
    {
     "name": "stdout",
     "output_type": "stream",
     "text": [
      "RMSE модели RandomForestRegressor 1591.5731507578344\n",
      "Wall time: 1.84 s\n"
     ]
    }
   ],
   "source": [
    "%%time\n",
    "# report performance\n",
    "y_true = target_test_oe\n",
    "y_pred = model_RFR.predict(features_test_oe)\n",
    "mse = mean_squared_error(y_true, y_pred)\n",
    "print('RMSE модели RandomForestRegressor', (mse**0.5).mean())"
   ]
  },
  {
   "cell_type": "code",
   "execution_count": 48,
   "id": "3b12cd89",
   "metadata": {},
   "outputs": [
    {
     "name": "stdout",
     "output_type": "stream",
     "text": [
      "Wall time: 48.7 s\n"
     ]
    }
   ],
   "source": [
    "%%time\n",
    "model_RFR = RandomForestRegressor(random_state=12345,\n",
    "                                  n_estimators=100, max_depth=20).fit(features_train_forest, target_train_forest) "
   ]
  },
  {
   "cell_type": "code",
   "execution_count": 49,
   "id": "fbac57e6",
   "metadata": {},
   "outputs": [
    {
     "name": "stdout",
     "output_type": "stream",
     "text": [
      "RMSE модели RandomForestRegressor 1574.214627363605\n"
     ]
    }
   ],
   "source": [
    "# report performance\n",
    "y_true = target_test_forest\n",
    "y_pred = model_RFR.predict(features_test_forest)\n",
    "mse = mean_squared_error(y_true, y_pred)\n",
    "print('RMSE модели RandomForestRegressor', (mse**0.5).mean())"
   ]
  },
  {
   "cell_type": "markdown",
   "id": "52e6291f",
   "metadata": {},
   "source": [
    "**После**"
   ]
  },
  {
   "cell_type": "code",
   "execution_count": 50,
   "id": "84836df8",
   "metadata": {},
   "outputs": [
    {
     "name": "stdout",
     "output_type": "stream",
     "text": [
      "Wall time: 48.9 s\n"
     ]
    }
   ],
   "source": [
    "%%time\n",
    "model_RFR = RandomForestRegressor(random_state=12345,\n",
    "                                  n_estimators=100, max_depth=20).fit(features_train_forest_num, target_train_forest) "
   ]
  },
  {
   "cell_type": "code",
   "execution_count": 51,
   "id": "22116d33",
   "metadata": {},
   "outputs": [
    {
     "name": "stdout",
     "output_type": "stream",
     "text": [
      "RMSE модели RandomForestRegressor 1574.214627363605\n",
      "Wall time: 1.92 s\n"
     ]
    }
   ],
   "source": [
    "%%time\n",
    "# report performance\n",
    "y_true = target_test_forest\n",
    "y_pred = model_RFR.predict(features_test_forest_num)\n",
    "mse = mean_squared_error(y_true, y_pred)\n",
    "print('RMSE модели RandomForestRegressor', (mse**0.5).mean())"
   ]
  },
  {
   "cell_type": "code",
   "execution_count": 52,
   "id": "b928eb1b",
   "metadata": {},
   "outputs": [
    {
     "name": "stdout",
     "output_type": "stream",
     "text": [
      "Wall time: 7min 28s\n"
     ]
    }
   ],
   "source": [
    "%%time\n",
    "model_RFR = RandomForestRegressor(random_state=12345,\n",
    "                                  n_estimators=100, max_depth=20).fit(features_train_oe_num, target_train_oe) "
   ]
  },
  {
   "cell_type": "code",
   "execution_count": 54,
   "id": "290a6f97",
   "metadata": {},
   "outputs": [
    {
     "name": "stdout",
     "output_type": "stream",
     "text": [
      "RMSE модели RandomForestRegressor 1591.5731507578344\n",
      "Wall time: 1.87 s\n"
     ]
    }
   ],
   "source": [
    "%%time\n",
    "# report performance\n",
    "y_true = target_test_oe\n",
    "y_pred = model_RFR.predict(features_test_oe_num)\n",
    "mse = mean_squared_error(y_true, y_pred)\n",
    "print('RMSE модели RandomForestRegressor', (mse**0.5).mean())"
   ]
  },
  {
   "cell_type": "markdown",
   "id": "777af92b",
   "metadata": {},
   "source": [
    "**Лучшая модель RandomForestRegressor**"
   ]
  },
  {
   "cell_type": "markdown",
   "id": "f72b4c6d",
   "metadata": {},
   "source": [
    "model_RFR = RandomForestRegressor(random_state=12345,\n",
    "                                  n_estimators=100, max_depth=20)"
   ]
  },
  {
   "cell_type": "markdown",
   "id": "818d3563",
   "metadata": {},
   "source": [
    "Кодированая методом ordinal encoder и промасшиабированная StandardScaler.\n",
    "При одинаково результате с моделью без масштабирования, она обучилась быстрее."
   ]
  },
  {
   "cell_type": "markdown",
   "id": "27b86ce1",
   "metadata": {},
   "source": [
    "### LinearRegression"
   ]
  },
  {
   "cell_type": "markdown",
   "id": "fae30ed1",
   "metadata": {},
   "source": [
    "**До масштабирования**"
   ]
  },
  {
   "cell_type": "code",
   "execution_count": 56,
   "id": "ee7a53a0",
   "metadata": {},
   "outputs": [
    {
     "name": "stdout",
     "output_type": "stream",
     "text": [
      "Wall time: 44 ms\n"
     ]
    }
   ],
   "source": [
    "%%time\n",
    "\n",
    "model_LR = LinearRegression(n_jobs=4, normalize=False).fit(features_train_forest, target_train_forest)"
   ]
  },
  {
   "cell_type": "code",
   "execution_count": 57,
   "id": "521049ee",
   "metadata": {},
   "outputs": [
    {
     "name": "stdout",
     "output_type": "stream",
     "text": [
      "RMSE модели LinearRegression 3414.9929146115023\n",
      "Wall time: 3.98 ms\n"
     ]
    }
   ],
   "source": [
    "%%time\n",
    "# report performance\n",
    "y_true = target_test_forest\n",
    "y_pred = model_LR.predict(features_test_forest)\n",
    "mse = mean_squared_error(y_true, y_pred)\n",
    "print('RMSE модели LinearRegression', (mse**0.5).mean())"
   ]
  },
  {
   "cell_type": "markdown",
   "id": "22ff9097",
   "metadata": {},
   "source": [
    "**После**"
   ]
  },
  {
   "cell_type": "code",
   "execution_count": 58,
   "id": "25d9a542",
   "metadata": {},
   "outputs": [
    {
     "name": "stdout",
     "output_type": "stream",
     "text": [
      "Wall time: 44 ms\n"
     ]
    }
   ],
   "source": [
    "%%time\n",
    "\n",
    "model_LR = LinearRegression().fit(features_train_forest_num, target_train_forest)"
   ]
  },
  {
   "cell_type": "code",
   "execution_count": 59,
   "id": "d719a8c8",
   "metadata": {},
   "outputs": [
    {
     "name": "stdout",
     "output_type": "stream",
     "text": [
      "RMSE модели LinearRegression 3414.9929146115023\n",
      "Wall time: 3 ms\n"
     ]
    }
   ],
   "source": [
    "%%time\n",
    "# report performance\n",
    "y_true = target_test_forest\n",
    "y_pred = model_LR.predict(features_test_forest_num)\n",
    "mse = mean_squared_error(y_true, y_pred)\n",
    "print('RMSE модели LinearRegression', (mse**0.5).mean())"
   ]
  },
  {
   "cell_type": "markdown",
   "id": "0939d7da",
   "metadata": {},
   "source": [
    "### RandomSearchCV in RandomForestRegressor"
   ]
  },
  {
   "cell_type": "code",
   "execution_count": 60,
   "id": "6c8d7cff",
   "metadata": {},
   "outputs": [],
   "source": [
    "random_grid = {'bootstrap': [True, False],\n",
    "               'max_depth': [20, 40, 60, 80, 100],\n",
    "               'max_features': ['auto', 'sqrt'],\n",
    "               'min_samples_leaf': [1, 2, 4],\n",
    "               'min_samples_split': [2, 5, 10],\n",
    "               'n_estimators': [130, 180, 230]}"
   ]
  },
  {
   "cell_type": "code",
   "execution_count": 61,
   "id": "3d2592c9",
   "metadata": {},
   "outputs": [
    {
     "name": "stdout",
     "output_type": "stream",
     "text": [
      "Fitting 3 folds for each of 10 candidates, totalling 30 fits\n",
      "Fitting 3 folds for each of 10 candidates, totalling 30 fits\n",
      "Fitting 3 folds for each of 10 candidates, totalling 30 fits\n",
      "Fitting 3 folds for each of 10 candidates, totalling 30 fits\n",
      "Fitting 3 folds for each of 10 candidates, totalling 30 fits\n",
      "Fitting 3 folds for each of 10 candidates, totalling 30 fits\n",
      "RMSE модели 1893.989064897488\n"
     ]
    }
   ],
   "source": [
    "rf = RandomForestRegressor()\n",
    "# Random search of parameters, using 3 fold cross validation, \n",
    "# search across 100 different combinations, and use all available cores\n",
    "rf_random = RandomizedSearchCV(estimator = rf, param_distributions = random_grid, \n",
    "                               cv = 3, verbose=2, random_state=42, n_jobs = -1, scoring=make_scorer(mean_squared_error))\n",
    "# Fit the random search model\n",
    "rf_random.fit(features_train_forest_num, target_train_forest)\n",
    "mse = cross_val_score(rf_random, features_train_forest_num, target_train_forest, cv=5, scoring=make_scorer(mean_squared_error))\n",
    "rmse = (mse**0.5).mean()\n",
    "print('RMSE модели', rmse)"
   ]
  },
  {
   "cell_type": "code",
   "execution_count": 62,
   "id": "bcee0b96",
   "metadata": {},
   "outputs": [
    {
     "data": {
      "text/plain": [
       "RandomForestRegressor(bootstrap=False, max_depth=60, min_samples_split=5,\n",
       "                      n_estimators=230)"
      ]
     },
     "execution_count": 62,
     "metadata": {},
     "output_type": "execute_result"
    }
   ],
   "source": [
    "rf_random.best_estimator_"
   ]
  },
  {
   "cell_type": "code",
   "execution_count": 63,
   "id": "200a294f",
   "metadata": {},
   "outputs": [
    {
     "name": "stdout",
     "output_type": "stream",
     "text": [
      "RMSE модели 1837.3589653473646 RandomForestRegressor(bootstrap=False, max_depth=60, min_samples_split=5,\n",
      "                      n_estimators=230, random_state=12345)\n",
      "Wall time: 2h 20min 24s\n"
     ]
    }
   ],
   "source": [
    "%%time\n",
    "model_RFR = RandomForestRegressor(random_state=12345, \n",
    "                                  n_estimators=230, min_samples_split=5, min_samples_leaf=1, max_depth=60, bootstrap=False).fit(features_train_oe_num, target_train_oe) \n",
    "mse = cross_val_score(model_RFR, features_train_oe_num, target_train_oe, cv=5, scoring=make_scorer(mean_squared_error))\n",
    "rmse = (mse**0.5).mean()\n",
    "print('RMSE модели', rmse, model_RFR)"
   ]
  },
  {
   "cell_type": "code",
   "execution_count": 64,
   "id": "3f9da2f1",
   "metadata": {},
   "outputs": [
    {
     "name": "stdout",
     "output_type": "stream",
     "text": [
      "RMSE модели 1894.1314052331334 RandomForestRegressor(bootstrap=False, max_depth=60, min_samples_split=5,\n",
      "                      n_estimators=230, random_state=12345)\n",
      "Wall time: 13min 22s\n"
     ]
    }
   ],
   "source": [
    "%%time\n",
    "model_RFR = RandomForestRegressor(random_state=12345, \n",
    "                                  n_estimators=230, min_samples_split=5, min_samples_leaf=1, max_depth=60, bootstrap=False).fit(features_train_forest_num, target_train_forest) \n",
    "mse = cross_val_score(model_RFR, features_train_forest_num, target_train_forest, cv=5, scoring=make_scorer(mean_squared_error))\n",
    "rmse = (mse**0.5).mean()\n",
    "print('RMSE модели', rmse, model_RFR)"
   ]
  },
  {
   "cell_type": "markdown",
   "id": "3d2d1df8",
   "metadata": {},
   "source": [
    "**Результаты на RandomSearchCV оказались хуже тех, что быди выставленны мною самостоятельно, проверять их в дальнейшем нет необходимости.**"
   ]
  },
  {
   "cell_type": "markdown",
   "id": "6dc568d8",
   "metadata": {},
   "source": [
    "### CatBoost"
   ]
  },
  {
   "cell_type": "code",
   "execution_count": 65,
   "id": "02cf2dcf",
   "metadata": {},
   "outputs": [],
   "source": [
    "cat_features = ['Brand', 'VehicleType', 'Gearbox', 'Model', \n",
    "                'FuelType', 'NotRepaired']"
   ]
  },
  {
   "cell_type": "code",
   "execution_count": 66,
   "id": "6dc32f92",
   "metadata": {},
   "outputs": [
    {
     "name": "stdout",
     "output_type": "stream",
     "text": [
      "0:\tlearn: 4246.6395824\ttotal: 478ms\tremaining: 7m 57s\n",
      "500:\tlearn: 1287.6343629\ttotal: 2m 20s\tremaining: 2m 19s\n",
      "999:\tlearn: 1181.9494769\ttotal: 4m 51s\tremaining: 0us\n",
      "Wall time: 4min 54s\n"
     ]
    }
   ],
   "source": [
    "%%time\n",
    "model_CB = CatBoostRegressor(iterations=1000, learning_rate = 0.1106, \n",
    "                             depth=12, loss_function='RMSE',\n",
    "                             random_seed=1234, verbose=500).fit(features_train, target_train, cat_features=cat_features, verbose=None)\n"
   ]
  },
  {
   "cell_type": "code",
   "execution_count": 67,
   "id": "6087066c",
   "metadata": {},
   "outputs": [
    {
     "name": "stdout",
     "output_type": "stream",
     "text": [
      "RMSE модели CatBoost 1495.8254722073743\n",
      "Wall time: 564 ms\n"
     ]
    }
   ],
   "source": [
    "%%time\n",
    "# report performance\n",
    "y_true = target_test\n",
    "y_pred = model_CB.predict(features_test)\n",
    "mse = mean_squared_error(y_true, y_pred)\n",
    "print('RMSE модели CatBoost', (mse**0.5).mean())"
   ]
  },
  {
   "cell_type": "markdown",
   "id": "ba7a7668",
   "metadata": {},
   "source": [
    "**LightGBM**"
   ]
  },
  {
   "cell_type": "code",
   "execution_count": 68,
   "id": "7e092a19",
   "metadata": {},
   "outputs": [],
   "source": [
    "cat_features = ['Brand', 'VehicleType', 'Gearbox', 'Model', \n",
    "                'FuelType', 'NotRepaired']"
   ]
  },
  {
   "cell_type": "code",
   "execution_count": 69,
   "id": "267f18de",
   "metadata": {},
   "outputs": [
    {
     "name": "stdout",
     "output_type": "stream",
     "text": [
      "Fitting 30 folds for each of 5 candidates, totalling 150 fits\n",
      "[LightGBM] [Warning] Unknown parameter: gamma\n",
      "Wall time: 2min 13s\n"
     ]
    },
    {
     "data": {
      "text/plain": [
       "RandomizedSearchCV(cv=RepeatedKFold(n_repeats=3, n_splits=10, random_state=1),\n",
       "                   estimator=LGBMRegressor(n_estimators=300), n_iter=5,\n",
       "                   n_jobs=4,\n",
       "                   param_distributions={'colsample_bytree': [0.3, 0.4, 0.5,\n",
       "                                                             0.7],\n",
       "                                        'gamma': [0.0, 0.1, 0.2, 0.3, 0.4],\n",
       "                                        'learning_rate': [0.05, 0.1, 0.15, 0.2,\n",
       "                                                          0.25, 0.3],\n",
       "                                        'max_depth': [3, 4, 5, 6, 8, 10, 12,\n",
       "                                                      15],\n",
       "                                        'min_child_weight': [1, 3, 5, 7]},\n",
       "                   random_state=1001, scoring=make_scorer(mean_squared_error),\n",
       "                   verbose=3)"
      ]
     },
     "execution_count": 69,
     "metadata": {},
     "output_type": "execute_result"
    }
   ],
   "source": [
    "%%time\n",
    "\n",
    "params = {\"learning_rate\"    : [0.05, 0.10, 0.15, 0.20, 0.25, 0.30 ] ,\n",
    "          \"max_depth\"        : [ 3, 4, 5, 6, 8, 10, 12, 15],\n",
    "          \"min_child_weight\" : [ 1, 3, 5, 7 ],\n",
    "          \"gamma\"            : [ 0.0, 0.1, 0.2 , 0.3, 0.4 ],\n",
    "          \"colsample_bytree\" : [ 0.3, 0.4, 0.5 , 0.7 ]}\n",
    "\n",
    "folds = 3\n",
    "param_comb = 5\n",
    "\n",
    "cv = RepeatedKFold(n_splits=10, n_repeats=3, random_state=1)\n",
    "model_lgbm = lgb.LGBMRegressor(n_estimators=300)\n",
    "\n",
    "random_search = RandomizedSearchCV(model_lgbm, param_distributions=params, \n",
    "                                   n_iter=param_comb, scoring=make_scorer(mean_squared_error), \n",
    "                                   n_jobs=4, cv=cv, verbose=3, random_state=1001 )\n",
    "random_search.fit(features_train,target_train)"
   ]
  },
  {
   "cell_type": "code",
   "execution_count": 70,
   "id": "7c6e263f",
   "metadata": {},
   "outputs": [
    {
     "name": "stdout",
     "output_type": "stream",
     "text": [
      "Wall time: 1.24 s\n"
     ]
    },
    {
     "data": {
      "text/plain": [
       "LGBMRegressor(n_estimators=300)"
      ]
     },
     "execution_count": 70,
     "metadata": {},
     "output_type": "execute_result"
    }
   ],
   "source": [
    "%%time\n",
    "model_lgbm = lgb.LGBMRegressor(boosting_type='gbdt', class_weight=None,\n",
    "                                           colsample_bytree=1.0,\n",
    "                                           importance_type='split',\n",
    "                                           learning_rate=0.1, max_depth=-1,\n",
    "                                           min_child_samples=20,\n",
    "                                           min_child_weight=0.001,\n",
    "                                           min_split_gain=0.0, n_estimators=300)\n",
    "model_lgbm.fit(features_train,target_train)"
   ]
  },
  {
   "cell_type": "code",
   "execution_count": 71,
   "id": "09a210c2",
   "metadata": {},
   "outputs": [
    {
     "name": "stdout",
     "output_type": "stream",
     "text": [
      "RMSE модели CatBoost 1536.9382433744422\n",
      "Wall time: 325 ms\n"
     ]
    }
   ],
   "source": [
    "%%time\n",
    "# report performance\n",
    "y_true = target_test\n",
    "y_pred = model_lgbm.predict(features_test)\n",
    "mse = mean_squared_error(y_true, y_pred)\n",
    "print('RMSE модели CatBoost', (mse**0.5).mean())"
   ]
  },
  {
   "cell_type": "markdown",
   "id": "42165a83",
   "metadata": {},
   "source": [
    "## Анализ моделей"
   ]
  },
  {
   "cell_type": "markdown",
   "id": "350c57f0",
   "metadata": {},
   "source": [
    "<div class=\"alert alert-info\"> <b>Узнаем важность признаков для каждой из моделей </div>"
   ]
  },
  {
   "cell_type": "code",
   "execution_count": 72,
   "id": "704fccf6",
   "metadata": {},
   "outputs": [],
   "source": [
    "importance_cb = model_CB.feature_importances_"
   ]
  },
  {
   "cell_type": "code",
   "execution_count": 73,
   "id": "375d69b1",
   "metadata": {},
   "outputs": [],
   "source": [
    "importance_RFR = model_RFR.feature_importances_"
   ]
  },
  {
   "cell_type": "code",
   "execution_count": 74,
   "id": "d74ed2b0",
   "metadata": {},
   "outputs": [],
   "source": [
    "data_columns_name = ['VehicleType', 'RegistrationYear', 'Gearbox', 'Power', 'Model',\n",
    "       'Kilometer', 'FuelType', 'Brand', 'NotRepaired']\n"
   ]
  },
  {
   "cell_type": "code",
   "execution_count": 75,
   "id": "30cc7de5",
   "metadata": {},
   "outputs": [],
   "source": [
    "##RandomForestRegressor\n",
    "new_series = pd.Series(importance_RFR)\n",
    "new_series_name = pd.Series(data_columns_name)\n",
    "##CatBoostRegressor\n",
    "new_series_cb = pd.Series(importance_cb)\n",
    "new_series_name_cb = pd.Series(data_columns_name)"
   ]
  },
  {
   "cell_type": "markdown",
   "id": "9cdcf2db",
   "metadata": {},
   "source": [
    "### RandomForestRegressor"
   ]
  },
  {
   "cell_type": "code",
   "execution_count": 76,
   "id": "6f1e6c8d",
   "metadata": {},
   "outputs": [
    {
     "data": {
      "text/html": [
       "<div>\n",
       "<style scoped>\n",
       "    .dataframe tbody tr th:only-of-type {\n",
       "        vertical-align: middle;\n",
       "    }\n",
       "\n",
       "    .dataframe tbody tr th {\n",
       "        vertical-align: top;\n",
       "    }\n",
       "\n",
       "    .dataframe thead th {\n",
       "        text-align: right;\n",
       "    }\n",
       "</style>\n",
       "<table border=\"1\" class=\"dataframe\">\n",
       "  <thead>\n",
       "    <tr style=\"text-align: right;\">\n",
       "      <th></th>\n",
       "      <th>features</th>\n",
       "      <th>importance</th>\n",
       "    </tr>\n",
       "  </thead>\n",
       "  <tbody>\n",
       "    <tr>\n",
       "      <th>0</th>\n",
       "      <td>VehicleType</td>\n",
       "      <td>0.590272</td>\n",
       "    </tr>\n",
       "    <tr>\n",
       "      <th>7</th>\n",
       "      <td>Brand</td>\n",
       "      <td>0.237663</td>\n",
       "    </tr>\n",
       "    <tr>\n",
       "      <th>2</th>\n",
       "      <td>Gearbox</td>\n",
       "      <td>0.039149</td>\n",
       "    </tr>\n",
       "    <tr>\n",
       "      <th>4</th>\n",
       "      <td>Model</td>\n",
       "      <td>0.037998</td>\n",
       "    </tr>\n",
       "    <tr>\n",
       "      <th>3</th>\n",
       "      <td>Power</td>\n",
       "      <td>0.034227</td>\n",
       "    </tr>\n",
       "    <tr>\n",
       "      <th>8</th>\n",
       "      <td>NotRepaired</td>\n",
       "      <td>0.030699</td>\n",
       "    </tr>\n",
       "    <tr>\n",
       "      <th>1</th>\n",
       "      <td>RegistrationYear</td>\n",
       "      <td>0.016181</td>\n",
       "    </tr>\n",
       "    <tr>\n",
       "      <th>5</th>\n",
       "      <td>Kilometer</td>\n",
       "      <td>0.007070</td>\n",
       "    </tr>\n",
       "    <tr>\n",
       "      <th>6</th>\n",
       "      <td>FuelType</td>\n",
       "      <td>0.006741</td>\n",
       "    </tr>\n",
       "  </tbody>\n",
       "</table>\n",
       "</div>"
      ],
      "text/plain": [
       "           features  importance\n",
       "0       VehicleType    0.590272\n",
       "7             Brand    0.237663\n",
       "2           Gearbox    0.039149\n",
       "4             Model    0.037998\n",
       "3             Power    0.034227\n",
       "8       NotRepaired    0.030699\n",
       "1  RegistrationYear    0.016181\n",
       "5         Kilometer    0.007070\n",
       "6          FuelType    0.006741"
      ]
     },
     "execution_count": 76,
     "metadata": {},
     "output_type": "execute_result"
    }
   ],
   "source": [
    "df_importance = pd.concat([new_series_name, new_series], axis=1)\n",
    "df_importance.columns = ['features', 'importance']\n",
    "df_importance.sort_values(by='importance', ascending=False)"
   ]
  },
  {
   "cell_type": "markdown",
   "id": "2451a5d9",
   "metadata": {},
   "source": [
    "Наиболее важными признаками является:\n",
    "1. VehicleType\n",
    "2. Brand"
   ]
  },
  {
   "cell_type": "markdown",
   "id": "eaeb4a95",
   "metadata": {},
   "source": [
    "### CatBoostRegressor"
   ]
  },
  {
   "cell_type": "code",
   "execution_count": 77,
   "id": "583e3bc7",
   "metadata": {},
   "outputs": [
    {
     "data": {
      "text/html": [
       "<div>\n",
       "<style scoped>\n",
       "    .dataframe tbody tr th:only-of-type {\n",
       "        vertical-align: middle;\n",
       "    }\n",
       "\n",
       "    .dataframe tbody tr th {\n",
       "        vertical-align: top;\n",
       "    }\n",
       "\n",
       "    .dataframe thead th {\n",
       "        text-align: right;\n",
       "    }\n",
       "</style>\n",
       "<table border=\"1\" class=\"dataframe\">\n",
       "  <thead>\n",
       "    <tr style=\"text-align: right;\">\n",
       "      <th></th>\n",
       "      <th>features</th>\n",
       "      <th>importance</th>\n",
       "    </tr>\n",
       "  </thead>\n",
       "  <tbody>\n",
       "    <tr>\n",
       "      <th>1</th>\n",
       "      <td>RegistrationYear</td>\n",
       "      <td>0.312448</td>\n",
       "    </tr>\n",
       "    <tr>\n",
       "      <th>3</th>\n",
       "      <td>Power</td>\n",
       "      <td>0.187383</td>\n",
       "    </tr>\n",
       "    <tr>\n",
       "      <th>7</th>\n",
       "      <td>Brand</td>\n",
       "      <td>0.149975</td>\n",
       "    </tr>\n",
       "    <tr>\n",
       "      <th>0</th>\n",
       "      <td>VehicleType</td>\n",
       "      <td>0.100514</td>\n",
       "    </tr>\n",
       "    <tr>\n",
       "      <th>5</th>\n",
       "      <td>Kilometer</td>\n",
       "      <td>0.084537</td>\n",
       "    </tr>\n",
       "    <tr>\n",
       "      <th>4</th>\n",
       "      <td>Model</td>\n",
       "      <td>0.068797</td>\n",
       "    </tr>\n",
       "    <tr>\n",
       "      <th>8</th>\n",
       "      <td>NotRepaired</td>\n",
       "      <td>0.038808</td>\n",
       "    </tr>\n",
       "    <tr>\n",
       "      <th>6</th>\n",
       "      <td>FuelType</td>\n",
       "      <td>0.037129</td>\n",
       "    </tr>\n",
       "    <tr>\n",
       "      <th>2</th>\n",
       "      <td>Gearbox</td>\n",
       "      <td>0.020408</td>\n",
       "    </tr>\n",
       "  </tbody>\n",
       "</table>\n",
       "</div>"
      ],
      "text/plain": [
       "           features  importance\n",
       "1  RegistrationYear    0.312448\n",
       "3             Power    0.187383\n",
       "7             Brand    0.149975\n",
       "0       VehicleType    0.100514\n",
       "5         Kilometer    0.084537\n",
       "4             Model    0.068797\n",
       "8       NotRepaired    0.038808\n",
       "6          FuelType    0.037129\n",
       "2           Gearbox    0.020408"
      ]
     },
     "execution_count": 77,
     "metadata": {},
     "output_type": "execute_result"
    }
   ],
   "source": [
    "df_importance_cb = pd.concat([new_series_name_cb, new_series_cb], axis=1)\n",
    "df_importance_cb.columns = ['features', 'importance']\n",
    "df_importance_cb['importance'] = df_importance_cb['importance']/100\n",
    "df_importance_cb.sort_values(by='importance', ascending=False)"
   ]
  },
  {
   "cell_type": "markdown",
   "id": "d352cf69",
   "metadata": {},
   "source": [
    "Наиболее важными признаками является:\n",
    "1. RegistrationYear\n",
    "2. Power\n",
    "3. Brand"
   ]
  },
  {
   "cell_type": "markdown",
   "id": "a5dfe1a6",
   "metadata": {},
   "source": [
    "### LGBMRegressor"
   ]
  },
  {
   "cell_type": "code",
   "execution_count": 78,
   "id": "6fd57b8e",
   "metadata": {},
   "outputs": [
    {
     "data": {
      "text/plain": [
       "<AxesSubplot:title={'center':'Feature importance'}, xlabel='Feature importance', ylabel='Features'>"
      ]
     },
     "execution_count": 78,
     "metadata": {},
     "output_type": "execute_result"
    },
    {
     "data": {
      "image/png": "[encoded data removed]",
      "text/plain": [
       "<Figure size 432x288 with 1 Axes>"
      ]
     },
     "metadata": {},
     "output_type": "display_data"
    }
   ],
   "source": [
    "lgb.plot_importance(model_lgbm)"
   ]
  },
  {
   "cell_type": "markdown",
   "id": "5358e1ff",
   "metadata": {},
   "source": [
    "Наиболее важными признаками является:\n",
    "1. RegistrationYear\n",
    "2. Power\n",
    "3. Model"
   ]
  },
  {
   "cell_type": "markdown",
   "id": "aea40f59",
   "metadata": {},
   "source": [
    "У CatBoostRegressor и LGBMRegressor сошлись наиболее значимые признаки (RegistrationYear, Power).\n",
    "\n",
    "У RandomForestRegressor самым важными оказались те признаки, которые у двух предыдущих моделей стоят на 3\\4 месте и 5\\6 месте, что говорит о том, что стандартные модели и модели, которые умеют работать с категориями, по разному оценивают важность признаков."
   ]
  },
  {
   "cell_type": "markdown",
   "id": "5127ca04",
   "metadata": {},
   "source": [
    "### Сделаем своднуб таблицу для сравнений"
   ]
  },
  {
   "cell_type": "code",
   "execution_count": 79,
   "id": "f9a0788b",
   "metadata": {},
   "outputs": [],
   "source": [
    "d = {'Model_name': ['RandomForestRegressor', 'LinearRegression', 'CatBoostRegressor', 'LGBMRegressor'],\n",
    "     'RMSE': [1575, 3414, 1494, 1569], \n",
    "     'Fit_time_second' : [46.7, 0.0499, 389, 149], \n",
    "     'Predict_time_second' : [1.9, 0.00598, 0.637, 0.633]}\n",
    "df = pd.DataFrame(data=d)"
   ]
  },
  {
   "cell_type": "code",
   "execution_count": 80,
   "id": "0a1e7d2a",
   "metadata": {},
   "outputs": [
    {
     "data": {
      "text/html": [
       "<div>\n",
       "<style scoped>\n",
       "    .dataframe tbody tr th:only-of-type {\n",
       "        vertical-align: middle;\n",
       "    }\n",
       "\n",
       "    .dataframe tbody tr th {\n",
       "        vertical-align: top;\n",
       "    }\n",
       "\n",
       "    .dataframe thead th {\n",
       "        text-align: right;\n",
       "    }\n",
       "</style>\n",
       "<table border=\"1\" class=\"dataframe\">\n",
       "  <thead>\n",
       "    <tr style=\"text-align: right;\">\n",
       "      <th></th>\n",
       "      <th>Model_name</th>\n",
       "      <th>RMSE</th>\n",
       "      <th>Fit_time_second</th>\n",
       "      <th>Predict_time_second</th>\n",
       "    </tr>\n",
       "  </thead>\n",
       "  <tbody>\n",
       "    <tr>\n",
       "      <th>2</th>\n",
       "      <td>CatBoostRegressor</td>\n",
       "      <td>1494</td>\n",
       "      <td>389.0000</td>\n",
       "      <td>0.63700</td>\n",
       "    </tr>\n",
       "    <tr>\n",
       "      <th>3</th>\n",
       "      <td>LGBMRegressor</td>\n",
       "      <td>1569</td>\n",
       "      <td>149.0000</td>\n",
       "      <td>0.63300</td>\n",
       "    </tr>\n",
       "    <tr>\n",
       "      <th>0</th>\n",
       "      <td>RandomForestRegressor</td>\n",
       "      <td>1575</td>\n",
       "      <td>46.7000</td>\n",
       "      <td>1.90000</td>\n",
       "    </tr>\n",
       "    <tr>\n",
       "      <th>1</th>\n",
       "      <td>LinearRegression</td>\n",
       "      <td>3414</td>\n",
       "      <td>0.0499</td>\n",
       "      <td>0.00598</td>\n",
       "    </tr>\n",
       "  </tbody>\n",
       "</table>\n",
       "</div>"
      ],
      "text/plain": [
       "              Model_name  RMSE  Fit_time_second  Predict_time_second\n",
       "2      CatBoostRegressor  1494         389.0000              0.63700\n",
       "3          LGBMRegressor  1569         149.0000              0.63300\n",
       "0  RandomForestRegressor  1575          46.7000              1.90000\n",
       "1       LinearRegression  3414           0.0499              0.00598"
      ]
     },
     "execution_count": 80,
     "metadata": {},
     "output_type": "execute_result"
    }
   ],
   "source": [
    "df.sort_values(by=['RMSE', 'Fit_time_second'])"
   ]
  },
  {
   "cell_type": "markdown",
   "id": "e804284e",
   "metadata": {},
   "source": [
    "1. Наилучший показатель RMSE получился у модели CatBoostRegressor, но в тоже время это самая медленная модель.\n",
    "2. У моделей LGBMRegressor и RandomForestRegressor показатель RMSE почти равен, но RandomForestRegressor обучатся быстрее, однако для этого необходимо обрабатывать категориальные признаки и присенять различные методы кодировки данных, для того, чтобы определить какой метод эффективней.\n",
    "3. Можно считать, что LGBMRegressor это компромис между качеством предсказаний и скоростью обучения, а так же имеет такую же удобную функцию, как и CatBoostRegressor, обучение категориальных признаков."
   ]
  }
 ],
 "metadata": {
  "kernelspec": {
   "display_name": "Python 3",
   "language": "python",
   "name": "python3"
  },
  "language_info": {
   "codemirror_mode": {
    "name": "ipython",
    "version": 3
   },
   "file_extension": ".py",
   "mimetype": "text/x-python",
   "name": "python",
   "nbconvert_exporter": "python",
   "pygments_lexer": "ipython3",
   "version": "3.8.8"
  },
  "toc": {
   "base_numbering": 1,
   "nav_menu": {},
   "number_sections": true,
   "sideBar": true,
   "skip_h1_title": true,
   "title_cell": "Table of Contents",
   "title_sidebar": "Contents",
   "toc_cell": false,
   "toc_position": {},
   "toc_section_display": true,
   "toc_window_display": false
  }
 },
 "nbformat": 4,
 "nbformat_minor": 5
}
