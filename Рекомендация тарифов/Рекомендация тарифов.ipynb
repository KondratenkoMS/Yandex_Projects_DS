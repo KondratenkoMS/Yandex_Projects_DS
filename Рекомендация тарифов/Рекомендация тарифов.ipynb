{
 "cells": [
  {
   "cell_type": "markdown",
   "metadata": {},
   "source": [
    "# Рекомендация тарифов"
   ]
  },
  {
   "cell_type": "markdown",
   "metadata": {},
   "source": [
    "Постройте модель с максимально большим значением *accuracy*. Чтобы сдать проект успешно, нужно довести долю правильных ответов по крайней мере до 0.75. Проверьте *accuracy* на тестовой выборке самостоятельно."
   ]
  },
  {
   "cell_type": "markdown",
   "metadata": {},
   "source": [
    "## Откройте и изучите файл"
   ]
  },
  {
   "cell_type": "code",
   "execution_count": 40,
   "metadata": {},
   "outputs": [],
   "source": [
    "import pandas as pd\n",
    "import seaborn as sns\n",
    "import matplotlib.pyplot as plt\n",
    "from sklearn.metrics import accuracy_score \n",
    "from sklearn.model_selection import train_test_split\n",
    "from sklearn.metrics import mean_squared_error\n",
    "from sklearn.tree import DecisionTreeClassifier\n",
    "from sklearn.ensemble import RandomForestClassifier\n",
    "from sklearn.neural_network import MLPClassifier\n",
    "from sklearn.model_selection import train_test_split\n",
    "from sklearn.linear_model import SGDClassifier\n",
    "from sklearn.preprocessing import StandardScaler\n",
    "from sklearn.pipeline import make_pipeline\n",
    "from sklearn.gaussian_process import GaussianProcessClassifier\n",
    "from sklearn.gaussian_process.kernels import RBF"
   ]
  },
  {
   "cell_type": "code",
   "execution_count": 26,
   "metadata": {},
   "outputs": [
    {
     "data": {
      "text/html": [
       "<div>\n",
       "<style scoped>\n",
       "    .dataframe tbody tr th:only-of-type {\n",
       "        vertical-align: middle;\n",
       "    }\n",
       "\n",
       "    .dataframe tbody tr th {\n",
       "        vertical-align: top;\n",
       "    }\n",
       "\n",
       "    .dataframe thead th {\n",
       "        text-align: right;\n",
       "    }\n",
       "</style>\n",
       "<table border=\"1\" class=\"dataframe\">\n",
       "  <thead>\n",
       "    <tr style=\"text-align: right;\">\n",
       "      <th></th>\n",
       "      <th>calls</th>\n",
       "      <th>minutes</th>\n",
       "      <th>messages</th>\n",
       "      <th>mb_used</th>\n",
       "      <th>is_ultra</th>\n",
       "    </tr>\n",
       "  </thead>\n",
       "  <tbody>\n",
       "    <tr>\n",
       "      <th>0</th>\n",
       "      <td>40.0</td>\n",
       "      <td>311.90</td>\n",
       "      <td>83.0</td>\n",
       "      <td>19915.42</td>\n",
       "      <td>0</td>\n",
       "    </tr>\n",
       "    <tr>\n",
       "      <th>1</th>\n",
       "      <td>85.0</td>\n",
       "      <td>516.75</td>\n",
       "      <td>56.0</td>\n",
       "      <td>22696.96</td>\n",
       "      <td>0</td>\n",
       "    </tr>\n",
       "    <tr>\n",
       "      <th>2</th>\n",
       "      <td>77.0</td>\n",
       "      <td>467.66</td>\n",
       "      <td>86.0</td>\n",
       "      <td>21060.45</td>\n",
       "      <td>0</td>\n",
       "    </tr>\n",
       "    <tr>\n",
       "      <th>3</th>\n",
       "      <td>106.0</td>\n",
       "      <td>745.53</td>\n",
       "      <td>81.0</td>\n",
       "      <td>8437.39</td>\n",
       "      <td>1</td>\n",
       "    </tr>\n",
       "    <tr>\n",
       "      <th>4</th>\n",
       "      <td>66.0</td>\n",
       "      <td>418.74</td>\n",
       "      <td>1.0</td>\n",
       "      <td>14502.75</td>\n",
       "      <td>0</td>\n",
       "    </tr>\n",
       "  </tbody>\n",
       "</table>\n",
       "</div>"
      ],
      "text/plain": [
       "   calls  minutes  messages   mb_used  is_ultra\n",
       "0   40.0   311.90      83.0  19915.42         0\n",
       "1   85.0   516.75      56.0  22696.96         0\n",
       "2   77.0   467.66      86.0  21060.45         0\n",
       "3  106.0   745.53      81.0   8437.39         1\n",
       "4   66.0   418.74       1.0  14502.75         0"
      ]
     },
     "execution_count": 26,
     "metadata": {},
     "output_type": "execute_result"
    }
   ],
   "source": [
    "try:\n",
    "    data = pd.read_csv('https://code.s3.yandex.net/datasets/users_behavior.csv')\n",
    "except:\n",
    "    data = pd.read_csv('C:/Users/Mikhail/оформление/Рекомендация тарифов/users_behavior.csv')\n",
    "data.head()"
   ]
  },
  {
   "cell_type": "code",
   "execution_count": 27,
   "metadata": {},
   "outputs": [
    {
     "data": {
      "text/html": [
       "<div>\n",
       "<style scoped>\n",
       "    .dataframe tbody tr th:only-of-type {\n",
       "        vertical-align: middle;\n",
       "    }\n",
       "\n",
       "    .dataframe tbody tr th {\n",
       "        vertical-align: top;\n",
       "    }\n",
       "\n",
       "    .dataframe thead th {\n",
       "        text-align: right;\n",
       "    }\n",
       "</style>\n",
       "<table border=\"1\" class=\"dataframe\">\n",
       "  <thead>\n",
       "    <tr style=\"text-align: right;\">\n",
       "      <th></th>\n",
       "      <th>calls</th>\n",
       "      <th>minutes</th>\n",
       "      <th>messages</th>\n",
       "      <th>mb_used</th>\n",
       "      <th>is_ultra</th>\n",
       "    </tr>\n",
       "  </thead>\n",
       "  <tbody>\n",
       "    <tr>\n",
       "      <th>count</th>\n",
       "      <td>3214.000000</td>\n",
       "      <td>3214.000000</td>\n",
       "      <td>3214.000000</td>\n",
       "      <td>3214.000000</td>\n",
       "      <td>3214.000000</td>\n",
       "    </tr>\n",
       "    <tr>\n",
       "      <th>mean</th>\n",
       "      <td>63.038892</td>\n",
       "      <td>438.208787</td>\n",
       "      <td>38.281269</td>\n",
       "      <td>17207.673836</td>\n",
       "      <td>0.306472</td>\n",
       "    </tr>\n",
       "    <tr>\n",
       "      <th>std</th>\n",
       "      <td>33.236368</td>\n",
       "      <td>234.569872</td>\n",
       "      <td>36.148326</td>\n",
       "      <td>7570.968246</td>\n",
       "      <td>0.461100</td>\n",
       "    </tr>\n",
       "    <tr>\n",
       "      <th>min</th>\n",
       "      <td>0.000000</td>\n",
       "      <td>0.000000</td>\n",
       "      <td>0.000000</td>\n",
       "      <td>0.000000</td>\n",
       "      <td>0.000000</td>\n",
       "    </tr>\n",
       "    <tr>\n",
       "      <th>25%</th>\n",
       "      <td>40.000000</td>\n",
       "      <td>274.575000</td>\n",
       "      <td>9.000000</td>\n",
       "      <td>12491.902500</td>\n",
       "      <td>0.000000</td>\n",
       "    </tr>\n",
       "    <tr>\n",
       "      <th>50%</th>\n",
       "      <td>62.000000</td>\n",
       "      <td>430.600000</td>\n",
       "      <td>30.000000</td>\n",
       "      <td>16943.235000</td>\n",
       "      <td>0.000000</td>\n",
       "    </tr>\n",
       "    <tr>\n",
       "      <th>75%</th>\n",
       "      <td>82.000000</td>\n",
       "      <td>571.927500</td>\n",
       "      <td>57.000000</td>\n",
       "      <td>21424.700000</td>\n",
       "      <td>1.000000</td>\n",
       "    </tr>\n",
       "    <tr>\n",
       "      <th>max</th>\n",
       "      <td>244.000000</td>\n",
       "      <td>1632.060000</td>\n",
       "      <td>224.000000</td>\n",
       "      <td>49745.730000</td>\n",
       "      <td>1.000000</td>\n",
       "    </tr>\n",
       "  </tbody>\n",
       "</table>\n",
       "</div>"
      ],
      "text/plain": [
       "             calls      minutes     messages       mb_used     is_ultra\n",
       "count  3214.000000  3214.000000  3214.000000   3214.000000  3214.000000\n",
       "mean     63.038892   438.208787    38.281269  17207.673836     0.306472\n",
       "std      33.236368   234.569872    36.148326   7570.968246     0.461100\n",
       "min       0.000000     0.000000     0.000000      0.000000     0.000000\n",
       "25%      40.000000   274.575000     9.000000  12491.902500     0.000000\n",
       "50%      62.000000   430.600000    30.000000  16943.235000     0.000000\n",
       "75%      82.000000   571.927500    57.000000  21424.700000     1.000000\n",
       "max     244.000000  1632.060000   224.000000  49745.730000     1.000000"
      ]
     },
     "execution_count": 27,
     "metadata": {},
     "output_type": "execute_result"
    }
   ],
   "source": [
    "data.describe()"
   ]
  },
  {
   "cell_type": "code",
   "execution_count": 28,
   "metadata": {},
   "outputs": [
    {
     "name": "stdout",
     "output_type": "stream",
     "text": [
      "<class 'pandas.core.frame.DataFrame'>\n",
      "RangeIndex: 3214 entries, 0 to 3213\n",
      "Data columns (total 5 columns):\n",
      " #   Column    Non-Null Count  Dtype  \n",
      "---  ------    --------------  -----  \n",
      " 0   calls     3214 non-null   float64\n",
      " 1   minutes   3214 non-null   float64\n",
      " 2   messages  3214 non-null   float64\n",
      " 3   mb_used   3214 non-null   float64\n",
      " 4   is_ultra  3214 non-null   int64  \n",
      "dtypes: float64(4), int64(1)\n",
      "memory usage: 125.7 KB\n"
     ]
    }
   ],
   "source": [
    "data.info()"
   ]
  },
  {
   "cell_type": "code",
   "execution_count": 29,
   "metadata": {},
   "outputs": [
    {
     "data": {
      "image/png": "[encoded data removed]",
      "text/plain": [
       "<Figure size 960x800 with 2 Axes>"
      ]
     },
     "metadata": {
      "needs_background": "light"
     },
     "output_type": "display_data"
    }
   ],
   "source": [
    "plt.figure(figsize=(12,10), dpi= 80)\n",
    "sns.heatmap(data.corr(), xticklabels=data.corr().columns, \n",
    "            yticklabels=data.corr().columns, cmap='RdYlGn', center=0, annot=True)\n",
    "\n",
    "plt.title('Корреляция признаков', fontsize=22)\n",
    "plt.xticks(fontsize=12)\n",
    "plt.yticks(fontsize=12)\n",
    "plt.show()"
   ]
  },
  {
   "cell_type": "code",
   "execution_count": 30,
   "metadata": {},
   "outputs": [
    {
     "data": {
      "text/plain": [
       "<AxesSubplot:xlabel='calls', ylabel='minutes'>"
      ]
     },
     "execution_count": 30,
     "metadata": {},
     "output_type": "execute_result"
    },
    {
     "data": {
      "image/png": "[encoded data removed]",
      "text/plain": [
       "<Figure size 432x288 with 1 Axes>"
      ]
     },
     "metadata": {
      "needs_background": "light"
     },
     "output_type": "display_data"
    }
   ],
   "source": [
    "sns.scatterplot(data=data, x='calls', y='minutes')"
   ]
  },
  {
   "cell_type": "markdown",
   "metadata": {},
   "source": [
    "1. Посмотрев таблицу еще раз я понял, что количесвто звонков и суммарная продолжительность имеют пряму связь между собой, т.к. сам факт числа звонков не так важен, как суммарная длительность этих звонков, то столбец 'calls' можно убрать"
   ]
  },
  {
   "cell_type": "code",
   "execution_count": 31,
   "metadata": {},
   "outputs": [],
   "source": [
    "data = data.drop(['calls'], axis=1)"
   ]
  },
  {
   "cell_type": "markdown",
   "metadata": {},
   "source": [
    "## Разбейте данные на выборки"
   ]
  },
  {
   "cell_type": "code",
   "execution_count": 32,
   "metadata": {},
   "outputs": [],
   "source": [
    "features = data.drop(['is_ultra'], axis=1)\n",
    "target = data['is_ultra']"
   ]
  },
  {
   "cell_type": "code",
   "execution_count": 33,
   "metadata": {},
   "outputs": [],
   "source": [
    "features_train, features_valid, target_train, target_valid = train_test_split(features, target, test_size=0.2, \n",
    "                                                                              train_size=0.8, random_state=12345)\n",
    "\n",
    "features_x, features_test, target_x, target_test = train_test_split(features, target, test_size=0.2, \n",
    "                                                                              train_size=0.75, random_state=12345)\n",
    "\n"
   ]
  },
  {
   "cell_type": "code",
   "execution_count": 34,
   "metadata": {},
   "outputs": [
    {
     "data": {
      "text/plain": [
       "((2571, 3), (643, 3), (643, 3))"
      ]
     },
     "execution_count": 34,
     "metadata": {},
     "output_type": "execute_result"
    }
   ],
   "source": [
    "features_train.shape, features_valid.shape, features_test.shape"
   ]
  },
  {
   "cell_type": "markdown",
   "metadata": {},
   "source": [
    "## Исследуйте модели"
   ]
  },
  {
   "cell_type": "code",
   "execution_count": 51,
   "metadata": {},
   "outputs": [],
   "source": [
    "def dtc_learn(features_train, target_train, features_valid,target_valid):\n",
    "    best_model_DecisionTreeClassifier = None\n",
    "    best_result_DecisionTreeClassifier = 0\n",
    "    for depth in range(1, 20):\n",
    "        for leaf_nodes in range(2,30):\n",
    "            for sample_leaf in range (1, 30):\n",
    "                model = DecisionTreeClassifier(random_state=12345,\n",
    "                                               max_depth=depth, max_leaf_nodes=leaf_nodes, min_samples_leaf=sample_leaf) \n",
    "                # обучите модель с заданной глубиной дерева\n",
    "                model.fit(features_train, target_train) # обучите модель\n",
    "                predictions = model.predict(features_valid) # получите предсказания модели\n",
    "                result = accuracy_score(predictions, target_valid) # посчитайте качество модели\n",
    "                if result > best_result_DecisionTreeClassifier:\n",
    "                    best_model_DecisionTreeClassifier = model\n",
    "                    best_result_DecisionTreeClassifier = result\n",
    "                    \n",
    "    return best_model_DecisionTreeClassifier, best_result_DecisionTreeClassifier"
   ]
  },
  {
   "cell_type": "code",
   "execution_count": 52,
   "metadata": {},
   "outputs": [
    {
     "name": "stdout",
     "output_type": "stream",
     "text": [
      "Accuracy\n",
      "Accuracy лучшей модели: 0.7962674961119751\n",
      "Лучшая модель DecisionTreeClassifier(max_depth=6, max_leaf_nodes=17, min_samples_leaf=18,\n",
      "                       random_state=12345)\n",
      "Wall time: 1min 36s\n"
     ]
    }
   ],
   "source": [
    "%%time\n",
    "best_model_result_DTC = dtc_learn(features_train, target_train, features_valid,target_valid)\n",
    "print(\"Accuracy\")     \n",
    "print(\"Accuracy лучшей модели:\", best_model_result_DTC[1])\n",
    "print(\"Лучшая модель\",best_model_result_DTC[0] )"
   ]
  },
  {
   "cell_type": "code",
   "execution_count": 53,
   "metadata": {},
   "outputs": [],
   "source": [
    "def rfc_learn(features_train, target_train, features_valid,target_valid):\n",
    "    best_model_RandomForest = None\n",
    "    best_result_RandomForest = 0\n",
    "    for depth in range(1,20):\n",
    "        for est in range(1, 16):\n",
    "            for leaf_node in range(2, 40):\n",
    "                model = RandomForestClassifier(random_state=12345, n_estimators=est, max_depth=depth, max_leaf_nodes=leaf_node) \n",
    "                # обучите модель с заданным количеством деревьев\n",
    "                model.fit(features_train, target_train) \n",
    "                # обучите модель на тренировочной выборке\n",
    "                result = model.score(features_valid, target_valid) \n",
    "                # посчитайте качество модели на валидационной выборке\n",
    "                if result > best_result_RandomForest:\n",
    "                    best_model_RandomForest =  model\n",
    "                    # сохраните наилучшую модель\n",
    "                    best_result_RandomForest = result\n",
    "                    #  сохраните наилучшее значение метрики accuracy на валидационных данных\n",
    "    return best_model_RandomForest, best_result_RandomForest "
   ]
  },
  {
   "cell_type": "code",
   "execution_count": 54,
   "metadata": {},
   "outputs": [
    {
     "name": "stdout",
     "output_type": "stream",
     "text": [
      "Accuracy\n",
      "Accuracy лучшей модели: 0.8118195956454122\n",
      "Лучшая модель RandomForestClassifier(max_depth=11, max_leaf_nodes=37, n_estimators=10,\n",
      "                       random_state=12345)\n",
      "Wall time: 3min 26s\n"
     ]
    }
   ],
   "source": [
    "%%time\n",
    "best_model_result_RFC = rfc_learn(features_train, target_train, features_valid,target_valid)\n",
    "print(\"Accuracy\")     \n",
    "print(\"Accuracy лучшей модели:\", best_model_result_RFC[1])\n",
    "print(\"Лучшая модель\",best_model_result_RFC[0] )"
   ]
  },
  {
   "cell_type": "code",
   "execution_count": 47,
   "metadata": {},
   "outputs": [],
   "source": [
    "\n",
    "def MPLC_learn(features_train, target_train, features_valid,target_valid):\n",
    "    best_model_MLPClassifier= None\n",
    "    best_result_MLPClassifier = 0\n",
    "    for iteration in range(200, 500):\n",
    "        clf = MLPClassifier(solver = 'adam', random_state=12345, learning_rate='adaptive', \n",
    "                            max_iter=iteration).fit(features_train, target_train)\n",
    "        clf_predict = clf.predict_proba(features_valid)\n",
    "        clf_score_valid = clf.score(features_valid, target_valid)\n",
    "        if clf_score_valid > best_result_MLPClassifier:\n",
    "            best_model_MLPClassifier = clf\n",
    "            best_result_MLPClassifier = clf_score_valid\n",
    "            \n",
    "    return best_model_MLPClassifier, best_result_MLPClassifier "
   ]
  },
  {
   "cell_type": "code",
   "execution_count": 48,
   "metadata": {},
   "outputs": [
    {
     "name": "stdout",
     "output_type": "stream",
     "text": [
      "Accuracy\n",
      "Accuracy лучшей модели: 0.6827371695178849\n",
      "Лучшая модель MLPClassifier(learning_rate='adaptive', random_state=12345)\n",
      "Wall time: 57.1 s\n"
     ]
    }
   ],
   "source": [
    "%%time\n",
    "best_model_result_MPLC = MPLC_learn(features_train, target_train, features_valid,target_valid)\n",
    "print(\"Accuracy\")     \n",
    "print(\"Accuracy лучшей модели:\", best_model_result_MPLC[1])\n",
    "print(\"Лучшая модель\",best_model_result_MPLC[0] )"
   ]
  },
  {
   "cell_type": "code",
   "execution_count": 43,
   "metadata": {},
   "outputs": [],
   "source": [
    "\n",
    "def sgd_learn(features_train, target_train, features_valid,target_valid):\n",
    "    best_model_SGDClassifier = None\n",
    "    best_result_SGDClassifier = 0\n",
    "    for iteration in range(1000, 5000):\n",
    "        SGD_model = make_pipeline(StandardScaler(),\n",
    "                        SGDClassifier(max_iter=iteration, tol=1e-3, n_jobs=-1))\n",
    "        SGD_model.fit(features_train, target_train)\n",
    "        SGD_predict = SGD_model.predict(features_valid)\n",
    "        SGD_score_valid = SGD_model.score(features_valid, target_valid)\n",
    "        if SGD_score_valid > best_result_SGDClassifier:\n",
    "            best_model_SGDClassifier = SGD_model\n",
    "            best_result_SGDClassifier = SGD_score_valid\n",
    "\n",
    "    return best_model_SGDClassifier, best_result_SGDClassifier"
   ]
  },
  {
   "cell_type": "code",
   "execution_count": 44,
   "metadata": {},
   "outputs": [
    {
     "name": "stdout",
     "output_type": "stream",
     "text": [
      "Accuracy\n",
      "Accuracy лучшей модели: 0.7729393468118196\n",
      "Лучшая модель Pipeline(steps=[('standardscaler', StandardScaler()),\n",
      "                ('sgdclassifier', SGDClassifier(max_iter=1237, n_jobs=-1))])\n",
      "Wall time: 45.2 s\n"
     ]
    }
   ],
   "source": [
    "%%time\n",
    "best_model_result_SGD = sgd_learn(features_train, target_train, features_valid,target_valid)\n",
    "print(\"Accuracy\")     \n",
    "print(\"Accuracy лучшей модели:\", best_model_result_SGD[1])\n",
    "print(\"Лучшая модель\",best_model_result_SGD[0] )"
   ]
  },
  {
   "cell_type": "code",
   "execution_count": 45,
   "metadata": {},
   "outputs": [],
   "source": [
    "\n",
    "def gpc_learn(features_train, target_train, features_valid,target_valid):\n",
    "    best_model_GaussianProcessClassifier = None\n",
    "    best_result_GaussianProcessClassifier = 0\n",
    "    kernel = 1.0 * RBF(1.0)\n",
    "    for iteration in range(100, 200, 300):\n",
    "        gpc_model = GaussianProcessClassifier(kernel=kernel,\n",
    "            random_state=12345, max_iter_predict=iteration, multi_class='one_vs_one', n_jobs=-1).fit(features_train, target_train)\n",
    "        gpc_predict = gpc_model.predict(features_valid)\n",
    "        gpc_score_valid = gpc_model.score(features_valid, target_valid)\n",
    "        if gpc_score_valid > best_result_GaussianProcessClassifier:\n",
    "            best_model_GaussianProcessClassifier = gpc_model\n",
    "            best_result_GaussianProcessClassifier = gpc_score_valid\n",
    "            \n",
    "    return best_model_GaussianProcessClassifier, best_result_GaussianProcessClassifier"
   ]
  },
  {
   "cell_type": "code",
   "execution_count": 46,
   "metadata": {},
   "outputs": [
    {
     "name": "stderr",
     "output_type": "stream",
     "text": [
      "C:\\Users\\Mikhail\\anaconda3\\lib\\site-packages\\sklearn\\gaussian_process\\kernels.py:402: ConvergenceWarning: The optimal value found for dimension 0 of parameter k1__constant_value is close to the specified lower bound 1e-05. Decreasing the bound and calling fit again may find a better value.\n",
      "  warnings.warn(\"The optimal value found for \"\n"
     ]
    },
    {
     "name": "stdout",
     "output_type": "stream",
     "text": [
      "Accuracy\n",
      "Accuracy лучшей модели: 0.6734059097978227\n",
      "Лучшая модель GaussianProcessClassifier(kernel=1**2 * RBF(length_scale=1),\n",
      "                          multi_class='one_vs_one', n_jobs=-1,\n",
      "                          random_state=12345)\n",
      "Wall time: 5.39 s\n"
     ]
    }
   ],
   "source": [
    "%%time\n",
    "best_model_result_GPC = gpc_learn(features_train, target_train, features_valid,target_valid)\n",
    "print(\"Accuracy\")     \n",
    "print(\"Accuracy лучшей модели:\", best_model_result_GPC[1])\n",
    "print(\"Лучшая модель\",best_model_result_GPC[0] )"
   ]
  },
  {
   "cell_type": "markdown",
   "metadata": {},
   "source": [
    "## Проверьте модель на тестовой выборке"
   ]
  },
  {
   "cell_type": "code",
   "execution_count": 63,
   "metadata": {},
   "outputs": [],
   "source": [
    "model_DTC = best_model_result_DTC[0]\n",
    "model_RFC = best_model_result_RFC[0]\n",
    "model_MPLC = best_model_result_MPLC[0]\n",
    "model_SGD = best_model_result_SGD[0]\n",
    "model_GPC = best_model_result_GPC[0]"
   ]
  },
  {
   "cell_type": "code",
   "execution_count": 81,
   "metadata": {},
   "outputs": [],
   "source": [
    "listed_models = [model_DTC, model_RFC, model_MPLC, model_SGD, model_GPC]"
   ]
  },
  {
   "cell_type": "code",
   "execution_count": 82,
   "metadata": {},
   "outputs": [
    {
     "name": "stderr",
     "output_type": "stream",
     "text": [
      "C:\\Users\\Mikhail\\anaconda3\\lib\\site-packages\\sklearn\\gaussian_process\\kernels.py:402: ConvergenceWarning: The optimal value found for dimension 0 of parameter k1__constant_value is close to the specified lower bound 1e-05. Decreasing the bound and calling fit again may find a better value.\n",
      "  warnings.warn(\"The optimal value found for \"\n"
     ]
    },
    {
     "data": {
      "text/plain": [
       "[0.7962674961119751,\n",
       " 0.8118195956454122,\n",
       " 0.6827371695178849,\n",
       " 0.7060653188180405,\n",
       " 0.6734059097978227]"
      ]
     },
     "execution_count": 82,
     "metadata": {},
     "output_type": "execute_result"
    }
   ],
   "source": [
    "result = []\n",
    "for model in listed_models:\n",
    "    model.fit(features_train, target_train)\n",
    "    result.append(model.score(features_test, target_test))\n",
    "result"
   ]
  },
  {
   "cell_type": "markdown",
   "metadata": {},
   "source": [
    "## Проверьте модели на адекватность"
   ]
  },
  {
   "cell_type": "code",
   "execution_count": 87,
   "metadata": {},
   "outputs": [
    {
     "name": "stdout",
     "output_type": "stream",
     "text": [
      "Accuracy\n",
      "Accuracy лучшей модели: 0.6951788491446346\n",
      "Wall time: 1.97 ms\n"
     ]
    }
   ],
   "source": [
    "%%time\n",
    "\n",
    "from sklearn.dummy import DummyClassifier\n",
    "\n",
    "dummy_clf = DummyClassifier(strategy=\"most_frequent\")\n",
    "dummy_clf.fit(features_train, target_train)\n",
    "\n",
    "dummy_clf_predict = dummy_clf.predict(features_valid)\n",
    "\n",
    "dummy_clf_score = dummy_clf.score(features_test, target_test)\n",
    "\n",
    "print(\"Accuracy\")     \n",
    "print(\"Accuracy лучшей модели:\", dummy_clf_score)"
   ]
  },
  {
   "cell_type": "code",
   "execution_count": 88,
   "metadata": {},
   "outputs": [
    {
     "data": {
      "text/html": [
       "<div>\n",
       "<style scoped>\n",
       "    .dataframe tbody tr th:only-of-type {\n",
       "        vertical-align: middle;\n",
       "    }\n",
       "\n",
       "    .dataframe tbody tr th {\n",
       "        vertical-align: top;\n",
       "    }\n",
       "\n",
       "    .dataframe thead th {\n",
       "        text-align: right;\n",
       "    }\n",
       "</style>\n",
       "<table border=\"1\" class=\"dataframe\">\n",
       "  <thead>\n",
       "    <tr style=\"text-align: right;\">\n",
       "      <th></th>\n",
       "      <th>Models</th>\n",
       "      <th>Result</th>\n",
       "    </tr>\n",
       "  </thead>\n",
       "  <tbody>\n",
       "    <tr>\n",
       "      <th>0</th>\n",
       "      <td>DTC</td>\n",
       "      <td>0.796</td>\n",
       "    </tr>\n",
       "    <tr>\n",
       "      <th>1</th>\n",
       "      <td>RFC</td>\n",
       "      <td>0.812</td>\n",
       "    </tr>\n",
       "    <tr>\n",
       "      <th>2</th>\n",
       "      <td>MPLC</td>\n",
       "      <td>0.683</td>\n",
       "    </tr>\n",
       "    <tr>\n",
       "      <th>3</th>\n",
       "      <td>SGD</td>\n",
       "      <td>0.706</td>\n",
       "    </tr>\n",
       "    <tr>\n",
       "      <th>4</th>\n",
       "      <td>GPC</td>\n",
       "      <td>0.673</td>\n",
       "    </tr>\n",
       "    <tr>\n",
       "      <th>5</th>\n",
       "      <td>Dummy</td>\n",
       "      <td>0.695</td>\n",
       "    </tr>\n",
       "  </tbody>\n",
       "</table>\n",
       "</div>"
      ],
      "text/plain": [
       "  Models  Result\n",
       "0    DTC   0.796\n",
       "1    RFC   0.812\n",
       "2   MPLC   0.683\n",
       "3    SGD   0.706\n",
       "4    GPC   0.673\n",
       "5  Dummy   0.695"
      ]
     },
     "execution_count": 88,
     "metadata": {},
     "output_type": "execute_result"
    }
   ],
   "source": [
    "d = {'Models': ['DTC', 'RFC', 'MPLC', 'SGD', 'GPC', 'Dummy'], 'Result': [0.796,\n",
    " 0.812,\n",
    " 0.683,\n",
    " 0.706,\n",
    " 0.673,\n",
    "0.695]}\n",
    "df = pd.DataFrame(data=d)\n",
    "df"
   ]
  },
  {
   "cell_type": "code",
   "execution_count": 89,
   "metadata": {},
   "outputs": [
    {
     "data": {
      "text/plain": [
       "16.834532374100732"
      ]
     },
     "execution_count": 89,
     "metadata": {},
     "output_type": "execute_result"
    }
   ],
   "source": [
    "(0.812/0.695-1)*100"
   ]
  },
  {
   "cell_type": "markdown",
   "metadata": {},
   "source": [
    "1. Моедли MLPClassifier и GaussianProcessClassifier уступает \"Глупой модели\" в показателях и можно говорить.\n",
    "2. Без построения модели, мы потеряем ~11,7% точности, если будем просто использовать наиболее часто втречаемое значение, а точность лучшей модели превосходит DummyClassifier на 16,8%, при учете того, что у бизнеса может быть сотни тысяч или более клиентов, недополученая прибыль может многократно первосходить затраты на введение рекомендательной системы."
   ]
  },
  {
   "cell_type": "code",
   "execution_count": 91,
   "metadata": {},
   "outputs": [
    {
     "name": "stdout",
     "output_type": "stream",
     "text": [
      "              precision    recall  f1-score   support\n",
      "\n",
      "           0       0.82      0.93      0.87       447\n",
      "           1       0.78      0.54      0.63       196\n",
      "\n",
      "    accuracy                           0.81       643\n",
      "   macro avg       0.80      0.73      0.75       643\n",
      "weighted avg       0.81      0.81      0.80       643\n",
      "\n"
     ]
    }
   ],
   "source": [
    "from sklearn.metrics import classification_report\n",
    "y_true = target_test\n",
    "y_pred = model_RFC.predict(features_test)\n",
    "\n",
    "print(classification_report(y_true, y_pred))"
   ]
  },
  {
   "cell_type": "markdown",
   "metadata": {},
   "source": [
    "1. Наилучшие показатель точности показала модель RandomForestClassifier, скорость так же высока\n",
    "2. Модель DecisionTreeClassifier показала чуть меньшую точность, а разница в скорости не так критична по сравнению с RandomForestClassifier\n",
    "3. Моедли MLPClassifier и GaussianProcessClassifier можно считать худшими в данном случае.\n",
    "6. Наибольшее влияние на точность оказывала:\n",
    "        6.1. В случаях использования деревьев - их глубина\n",
    "        6.2. В итерационных моделях, число итераций, но сверх высокие показатели числа итераций не делают модель более точной, а время затрачиваемое на обработку неоправданно велико"
   ]
  },
  {
   "cell_type": "markdown",
   "metadata": {},
   "source": [
    "- [x] Выполнено задание 1: данные загружены и изучены\n",
    "- [x] Выполнено задание 2: данные разбиты на три выборки\n",
    "- [x] Выполнено задание 3: проведено исследование моделей\n",
    "    - [x] Рассмотрено больше одной модели\n",
    "    - [x] Рассмотрено хотя бы 3 значения гипепараметров для какой-нибудь модели\n",
    "    - [x] Написаны выводы по результатам исследования\n",
    "- [x] Выполнено задание 3: Проведено тестирование\n",
    "- [x] Удалось достичь accuracy не меньше 0.75\n"
   ]
  }
 ],
 "metadata": {
  "kernelspec": {
   "display_name": "Python 3",
   "language": "python",
   "name": "python3"
  },
  "language_info": {
   "codemirror_mode": {
    "name": "ipython",
    "version": 3
   },
   "file_extension": ".py",
   "mimetype": "text/x-python",
   "name": "python",
   "nbconvert_exporter": "python",
   "pygments_lexer": "ipython3",
   "version": "3.8.8"
  },
  "toc": {
   "base_numbering": 1,
   "nav_menu": {},
   "number_sections": true,
   "sideBar": true,
   "skip_h1_title": true,
   "title_cell": "Table of Contents",
   "title_sidebar": "Contents",
   "toc_cell": false,
   "toc_position": {},
   "toc_section_display": true,
   "toc_window_display": false
  }
 },
 "nbformat": 4,
 "nbformat_minor": 2
}
